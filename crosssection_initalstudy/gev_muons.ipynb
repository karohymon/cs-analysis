{
 "cells": [
  {
   "cell_type": "code",
   "execution_count": 1,
   "metadata": {},
   "outputs": [],
   "source": [
    "import numpy as np\n",
    "import crflux.models as pm"
   ]
  },
  {
   "cell_type": "code",
   "execution_count": 2,
   "metadata": {},
   "outputs": [],
   "source": [
    "path = '/data/user/khymon/cs-analysis/'\n",
    "flux = np.load(path + 'mu_0.5pion_1.0kaon_10000.0_const_SIBYLL2.3c_mceqflux.npy')"
   ]
  },
  {
   "cell_type": "code",
   "execution_count": 3,
   "metadata": {},
   "outputs": [
    {
     "data": {
      "text/plain": [
       "(2, 73, 121)"
      ]
     },
     "execution_count": 3,
     "metadata": {},
     "output_type": "execute_result"
    }
   ],
   "source": [
    "flux.shape"
   ]
  },
  {
   "cell_type": "code",
   "execution_count": 4,
   "metadata": {},
   "outputs": [
    {
     "data": {
      "text/plain": [
       "array([ 1.18777279e-03,  1.29784171e-03,  1.40795141e-03,  1.51009528e-03,\n",
       "        1.60147183e-03,  1.67835353e-03,  1.73538201e-03,  1.76248106e-03,\n",
       "        1.75528808e-03,  1.70616269e-03,  1.61166493e-03,  1.47214392e-03,\n",
       "        1.29592946e-03,  1.09501686e-03,  8.87672985e-04,  6.89121406e-04,\n",
       "        5.11891075e-04,  3.62976553e-04,  2.46722777e-04,  1.62451742e-04,\n",
       "        1.04891324e-04,  6.58749431e-05,  3.96865870e-05,  2.34114332e-05,\n",
       "        1.34106582e-05,  7.49777827e-06,  4.10020638e-06,  2.19983416e-06,\n",
       "        1.15950694e-06,  6.00270784e-07,  3.05396964e-07,  1.52906158e-07,\n",
       "        7.51177037e-08,  3.62664862e-08,  1.72790367e-08,  8.13368721e-09,\n",
       "        3.78940324e-09,  1.74921665e-09,  8.00530681e-10,  3.63460164e-10,\n",
       "        1.63901100e-10,  7.34664563e-11,  3.27296747e-11,  1.45040782e-11,\n",
       "        6.39784873e-12,  2.81018468e-12,  1.22856668e-12,  5.34701875e-13,\n",
       "        2.31804080e-13,  1.04730169e-13,  5.00784131e-14,  2.38310809e-14,\n",
       "        1.01966614e-14,  4.35545044e-15,  1.85405373e-15,  7.86039547e-16,\n",
       "        3.31870520e-16,  1.39528497e-16,  5.84328461e-17,  2.43739523e-17,\n",
       "        1.01213578e-17,  4.17965886e-18,  1.71650465e-18,  7.01356223e-19,\n",
       "        2.84813277e-19,  1.15146971e-19,  4.63848486e-20,  1.85883228e-20,\n",
       "        7.42538119e-21,  2.96686546e-21,  1.18792744e-21,  4.77550572e-22,\n",
       "        1.93171590e-22,  7.91748168e-23,  3.29701437e-23,  1.39707565e-23,\n",
       "        6.03928765e-24,  2.66074593e-24,  1.19407822e-24,  5.43673421e-25,\n",
       "        2.51660604e-25,  1.18080636e-25,  5.59920427e-26,  2.67856482e-26,\n",
       "        1.28825906e-26,  6.21231565e-27,  2.98685153e-27,  1.42969388e-27,\n",
       "        6.78290297e-28,  3.18901955e-28,  1.48276453e-28,  6.80575568e-29,\n",
       "        3.07987192e-29,  1.37231573e-29,  6.01201610e-30,  2.55656848e-30,\n",
       "        1.06151187e-30,  4.29882799e-31,  1.68601540e-31,  6.36879395e-32,\n",
       "        2.30355374e-32,  7.93953559e-33,  2.59030292e-33,  7.69379075e-34,\n",
       "        2.14996608e-34,  5.55611305e-35,  1.24767267e-35,  2.53244835e-36,\n",
       "        4.48481413e-37,  6.75469300e-38,  8.28859844e-39,  8.08006987e-40,\n",
       "        5.75910490e-41,  3.08553881e-42,  1.19643242e-43,  3.07966044e-45,\n",
       "        6.09067953e-47,  1.10681604e-48, -5.73285653e-49, -1.83020025e-50,\n",
       "       -5.02246827e-51])"
      ]
     },
     "execution_count": 4,
     "metadata": {},
     "output_type": "execute_result"
    }
   ],
   "source": [
    "flux[0][20]"
   ]
  },
  {
   "cell_type": "code",
   "execution_count": 5,
   "metadata": {},
   "outputs": [
    {
     "name": "stdout",
     "output_type": "stream",
     "text": [
      "MCEqRun::set_interaction_model(): SIBYLL23C\n",
      "ParticleManager::_init_default_tracking(): Initializing default tracking categories (pi, K, mu)\n",
      "MCEqRun::set_density_model(): Setting density profile to CORSIKA ('BK_USStd', None)\n",
      "MCEqRun::set_primary_model(): HillasGaisser2012 H3a\n"
     ]
    }
   ],
   "source": [
    "# mceq energy grid\n",
    "from MCEq.core import MCEqRun\n",
    "mceq = MCEqRun(\n",
    "            interaction_model=\"SIBYLL2.3c\",\n",
    "            theta_deg=0.0,\n",
    "            primary_model=(pm.HillasGaisser2012, \"H3a\"),\n",
    "        )\n",
    "\n",
    "energy = mceq.e_grid"
   ]
  },
  {
   "cell_type": "code",
   "execution_count": 6,
   "metadata": {},
   "outputs": [],
   "source": [
    "e_gev = energy[11:21]"
   ]
  },
  {
   "cell_type": "code",
   "execution_count": 7,
   "metadata": {},
   "outputs": [],
   "source": [
    "flux_year = np.mean(flux[0,:,11:21],axis=0)"
   ]
  },
  {
   "cell_type": "code",
   "execution_count": 8,
   "metadata": {},
   "outputs": [
    {
     "data": {
      "text/plain": [
       "array([0.00144137, 0.00126882, 0.0010726 , 0.00087027, 0.00067632,\n",
       "       0.00050287, 0.00035689, 0.00024284, 0.00016014, 0.00010356])"
      ]
     },
     "execution_count": 8,
     "metadata": {},
     "output_type": "execute_result"
    }
   ],
   "source": [
    "np.mean(flux[0,:,11:21],axis=0)"
   ]
  },
  {
   "cell_type": "code",
   "execution_count": 47,
   "metadata": {},
   "outputs": [],
   "source": [
    "sv = flux[0,:,11:21]/flux_year"
   ]
  },
  {
   "cell_type": "code",
   "execution_count": 10,
   "metadata": {},
   "outputs": [
    {
     "data": {
      "text/plain": [
       "(73, 10)"
      ]
     },
     "execution_count": 10,
     "metadata": {},
     "output_type": "execute_result"
    }
   ],
   "source": [
    "sv.shape"
   ]
  },
  {
   "cell_type": "code",
   "execution_count": 48,
   "metadata": {},
   "outputs": [
    {
     "data": {
      "image/png": "[encoded data removed]",
      "text/plain": [
       "<Figure size 432x288 with 1 Axes>"
      ]
     },
     "metadata": {
      "needs_background": "light"
     },
     "output_type": "display_data"
    }
   ],
   "source": [
    "# plot seasonal variation of GeV muon flux\n",
    "from utils.helpers import *\n",
    "import matplotlib.pyplot as plt\n",
    "doy = doys(5)\n",
    "\n",
    "plt.scatter(doy,sv[:,4],label = '$E$ = ' + str(np.round(energy[16])) + ' GeV')\n",
    "plt.ylabel('ratio to annual average')\n",
    "plt.xlabel('doy')\n",
    "plt.legend()\n",
    "plt.savefig('/home/khymon/Plots/cs-analysis/gevmuon_doy_sv_0.5pion.png')"
   ]
  },
  {
   "cell_type": "code",
   "execution_count": 34,
   "metadata": {},
   "outputs": [
    {
     "data": {
      "text/plain": [
       "0.0013639082548990646"
      ]
     },
     "execution_count": 34,
     "metadata": {},
     "output_type": "execute_result"
    }
   ],
   "source": [
    "flux[0,28,12]"
   ]
  },
  {
   "cell_type": "markdown",
   "metadata": {},
   "source": [
    "plot flux for different days"
   ]
  },
  {
   "cell_type": "code",
   "execution_count": 33,
   "metadata": {},
   "outputs": [
    {
     "data": {
      "text/plain": [
       "<matplotlib.legend.Legend at 0x7fa4b2922748>"
      ]
     },
     "execution_count": 33,
     "metadata": {},
     "output_type": "execute_result"
    },
    {
     "data": {
      "image/png": "[encoded data removed]",
      "text/plain": [
       "<Figure size 432x288 with 1 Axes>"
      ]
     },
     "metadata": {
      "needs_background": "light"
     },
     "output_type": "display_data"
    }
   ],
   "source": [
    "plt.plot(energy,flux[0,11],label = str(doy[11]))\n",
    "plt.plot(energy,flux[0,10],label = str(doy[10]))\n",
    "plt.plot(energy,flux[0,9],label = str(doy[9]))\n",
    "plt.plot(energy,flux[0,8],label = str(doy[8]))\n",
    "plt.plot(energy,flux[0,7],label = str(doy[7]))\n",
    "plt.xscale('log')\n",
    "plt.yscale('log')\n",
    "plt.xlim(1e0,1e1)\n",
    "plt.ylim(1.e-4,1.e-2)\n",
    "plt.legend()"
   ]
  },
  {
   "cell_type": "code",
   "execution_count": 38,
   "metadata": {},
   "outputs": [
    {
     "data": {
      "text/plain": [
       "array([0.99792747, 0.99800434, 0.99809818, 0.99821023, 0.99834244,\n",
       "       0.99849756, 0.99867735, 0.99887244, 0.99906772, 0.99924322])"
      ]
     },
     "execution_count": 38,
     "metadata": {},
     "output_type": "execute_result"
    }
   ],
   "source": [
    "flux[0,9,11:21]/flux[0,10,11:21]"
   ]
  },
  {
   "cell_type": "code",
   "execution_count": 49,
   "metadata": {},
   "outputs": [],
   "source": [
    "# plot GeV muons untuned flux\n",
    "flux = np.load(path + 'mu_1.0pion_1.0kaon_10000.0_const_SIBYLL2.3c_mceqflux.npy')\n",
    "flux_year = np.mean(flux[0,:,11:21],axis=0)\n",
    "sv = flux[0,:,11:21]/flux_year"
   ]
  },
  {
   "cell_type": "code",
   "execution_count": 50,
   "metadata": {},
   "outputs": [
    {
     "data": {
      "image/png": "[encoded data removed]",
      "text/plain": [
       "<Figure size 432x288 with 1 Axes>"
      ]
     },
     "metadata": {
      "needs_background": "light"
     },
     "output_type": "display_data"
    }
   ],
   "source": [
    "plt.scatter(doy,sv[:,4],label = '$E$ = ' + str(np.round(energy[16])) + ' GeV')\n",
    "plt.ylabel('ratio to annual average')\n",
    "plt.xlabel('doy')\n",
    "plt.legend()\n",
    "plt.savefig('/home/khymon/Plots/cs-analysis/gevmuon_doy_sv_untuned.png')"
   ]
  },
  {
   "cell_type": "code",
   "execution_count": null,
   "metadata": {},
   "outputs": [],
   "source": []
  }
 ],
 "metadata": {
  "kernelspec": {
   "display_name": "venv3",
   "language": "python",
   "name": "python3"
  },
  "language_info": {
   "codemirror_mode": {
    "name": "ipython",
    "version": 3
   },
   "file_extension": ".py",
   "mimetype": "text/x-python",
   "name": "python",
   "nbconvert_exporter": "python",
   "pygments_lexer": "ipython3",
   "version": "3.6.8"
  }
 },
 "nbformat": 4,
 "nbformat_minor": 2
}
