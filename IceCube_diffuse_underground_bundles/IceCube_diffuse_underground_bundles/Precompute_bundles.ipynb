{
 "cells": [
  {
   "cell_type": "code",
   "execution_count": 1,
   "id": "1ad7f6a7-e202-4091-af30-e570c75fe229",
   "metadata": {},
   "outputs": [],
   "source": [
    "import numpy as np"
   ]
  },
  {
   "cell_type": "code",
   "execution_count": 2,
   "id": "2f114fe3-b29d-42bc-b4b2-5117f8a3930a",
   "metadata": {},
   "outputs": [],
   "source": [
    "import matplotlib.pyplot as plt\n",
    "from matplotlib import cm\n",
    "from matplotlib.colors import Normalize\n",
    "import matplotlib.lines as mlines\n",
    "from scipy.interpolate import UnivariateSpline\n",
    "from tqdm import tqdm"
   ]
  },
  {
   "cell_type": "code",
   "execution_count": 3,
   "id": "31d1c3fc-3c03-4ab7-b677-6e865adfa32d",
   "metadata": {},
   "outputs": [
    {
     "name": "stdout",
     "output_type": "stream",
     "text": [
      "1.5.0\n"
     ]
    }
   ],
   "source": [
    "from MCEq.version import __version__\n",
    "\n",
    "print(__version__)"
   ]
  },
  {
   "cell_type": "code",
   "execution_count": 4,
   "id": "73e77cd8-65ac-4d72-aac5-94f869bcf10d",
   "metadata": {},
   "outputs": [],
   "source": [
    "from MCEq.core import MCEqRun\n",
    "import mceq_config as config\n",
    "import crflux.models as pm"
   ]
  },
  {
   "cell_type": "code",
   "execution_count": 6,
   "id": "0dfea344-5713-4469-9d1a-415a82af347e",
   "metadata": {},
   "outputs": [],
   "source": [
    "config.debug_level = 2\n",
    "config.enable_default_tracking = False\n",
    "config.mceq_db_fname = \"mceq_db_lext_dpm193_v150_sstar.h5\"\n",
    "config.adv_set[\"disable_charm_pprod\"] = True"
   ]
  },
  {
   "cell_type": "code",
   "execution_count": 7,
   "id": "870d33c6-7f35-49e8-9dd1-8dba39781477",
   "metadata": {},
   "outputs": [
    {
     "name": "stdout",
     "output_type": "stream",
     "text": [
      "HDF5Backend::__init__(): Opening HDF5 file mceq_db_lext_dpm193_v150_sstar.h5\n",
      "MCEqRun::set_interaction_model(): SIBYLL23D\n",
      "HDF5Backend::decay_db(): Using helicity dependent decays.\n",
      "MatrixBuilder::_fill_matrices(): No interactions by D- ((-411, 0)).\n",
      "MatrixBuilder::_fill_matrices(): No interactions by D+ ((411, 0)).\n",
      "MatrixBuilder::_fill_matrices(): No interactions by Dbar0 ((-421, 0)).\n",
      "MatrixBuilder::_fill_matrices(): No interactions by D0 ((421, 0)).\n",
      "MatrixBuilder::_fill_matrices(): No interactions by D_s- ((-431, 0)).\n",
      "MatrixBuilder::_fill_matrices(): No interactions by D_s+ ((431, 0)).\n",
      "Hadrons and stable particles:\n",
      "\"pbar-\", \"p+\"\n",
      "\n",
      "Mixed:\n",
      "\"pi0\", \"K_L0\", \"pi-\", \"pi+\", \"K_S0\", \n",
      "\"K-\", \"K+\", \"D-\", \"D+\", \"Dbar0\", \n",
      "\"D0\", \"D_s-\", \"D_s+\", \"nbar0\", \"n0\", \n",
      "\"Lambdabar0\", \"Lambda0\"\n",
      "\n",
      "Resonances:\n",
      "\n",
      "\n",
      "Leptons:\n",
      "\"e+_l\", \"e+\", \"e+_r\", \"e-_l\", \"e-\", \n",
      "\"e-_r\", \"antinue\", \"nue\", \"mu+_l\", \"mu+\", \n",
      "\"mu+_r\", \"mu-_l\", \"mu-\", \"mu-_r\", \"antinumu\", \n",
      "\"numu\", \"antinutau\", \"nutau\", \"gamma\"\n",
      "\n",
      "Tracking:\n",
      "\n",
      "\n",
      "Total number of species: 38\n",
      "MCEqRun::set_density_model(): Setting density profile to CORSIKA ('BK_USStd', None)\n",
      "MCEqRun::set_theta_deg(): Zenith angle   0.00\n",
      "MCEqRun::set_primary_model(): Primary model set to Global Spline Fit\n"
     ]
    }
   ],
   "source": [
    "# Average mass number may be wrong but not relevant\n",
    "mceq_air = MCEqRun(\n",
    "    interaction_model=\"SIBYLL23D\",\n",
    "    theta_deg=0.0,\n",
    "    primary_model=(pm.GlobalSplineFitBeta, None),\n",
    "    #     density_model = ('MSIS00',('SoudanMine','January')),\n",
    ")"
   ]
  },
  {
   "cell_type": "code",
   "execution_count": 8,
   "id": "b9f4234c-e1c1-4d72-afe1-f348b00ef57e",
   "metadata": {},
   "outputs": [
    {
     "name": "stdout",
     "output_type": "stream",
     "text": [
      "MCEqRun::set_interaction_model(): SIBYLL23D\n",
      "HDF5Backend::decay_db(): Using helicity dependent decays.\n",
      "MCEqRun::set_primary_model(): Primary model set to Global Spline Fit\n",
      "MatrixBuilder::_fill_matrices(): No interactions by D- ((-411, 0)).\n",
      "MatrixBuilder::_fill_matrices(): No interactions by D+ ((411, 0)).\n",
      "MatrixBuilder::_fill_matrices(): No interactions by Dbar0 ((-421, 0)).\n",
      "MatrixBuilder::_fill_matrices(): No interactions by D0 ((421, 0)).\n",
      "MatrixBuilder::_fill_matrices(): No interactions by D_s- ((-431, 0)).\n",
      "MatrixBuilder::_fill_matrices(): No interactions by D_s+ ((431, 0)).\n",
      "MCEqRun::set_primary_model(): Primary model set to Global Spline Fit\n",
      "MCEqRun::set_theta_deg(): Zenith angle   0.00\n",
      "MCEqRun::set_theta_deg(): Theta selection correponds to cached value, skipping calc.\n"
     ]
    }
   ],
   "source": [
    "mceq_air.set_interaction_model(\"SIBYLL23D\", force=True)\n",
    "# inject_scenario(pC_scen, mceq_air)\n",
    "mceq_air.set_primary_model(\n",
    "    pm.GlobalSplineFitBeta(None)\n",
    ")  # pm.GaisserStanevTilav('4-gen'))#\n",
    "mceq_air.set_theta_deg(0)"
   ]
  },
  {
   "cell_type": "code",
   "execution_count": 16,
   "metadata": {},
   "outputs": [
    {
     "name": "stdout",
     "output_type": "stream",
     "text": [
      "[0.  0.1 0.2 0.3 0.4 0.5 0.6 0.7 0.8 0.9 1. ] [90.         84.26082952 78.46304097 72.54239688 66.42182152 60.\n",
      " 53.13010235 45.572996   36.86989765 25.84193276  0.        ]\n"
     ]
    }
   ],
   "source": [
    "cos_thetas = np.arange(0.0, 1.01, 0.1)\n",
    "thetas = np.degrees(np.arccos(cos_thetas))\n",
    "print(cos_thetas, thetas)"
   ]
  },
  {
   "cell_type": "code",
   "execution_count": 18,
   "id": "6c2b9a3d-2518-497e-9bf7-9786e8ac68e4",
   "metadata": {},
   "outputs": [
    {
     "name": "stderr",
     "output_type": "stream",
     "text": [
      "  0%|          | 0/11 [00:00<?, ?it/s]"
     ]
    },
    {
     "name": "stdout",
     "output_type": "stream",
     "text": [
      "MCEqRun::set_theta_deg(): Zenith angle  90.00\n",
      "MCEqRun::set_primary_model(): Primary model set to Global Spline Fit\n",
      "MCEqRun::solve(): Launching euler solver\n",
      "MCEqRun::_calculate_integration_path(): X_surface = 36526.02g/cm2\n",
      "MCEqRun::solve(): for 39450 integration steps.\n",
      "solv_spacc_sparse(): Performance:   0.63ms/iteration\n",
      "MCEqRun::solve(): time elapsed during integration: 25.32sec\n",
      "MCEqRun::set_primary_model(): Primary model set to GST (4-gen)\n",
      "MCEqRun::solve(): Launching euler solver\n",
      "MCEqRun::solve(): for 39450 integration steps.\n"
     ]
    },
    {
     "name": "stderr",
     "output_type": "stream",
     "text": [
      "  9%|▉         | 1/11 [00:52<08:43, 52.33s/it]"
     ]
    },
    {
     "name": "stdout",
     "output_type": "stream",
     "text": [
      "solv_spacc_sparse(): Performance:   0.68ms/iteration\n",
      "MCEqRun::solve(): time elapsed during integration: 26.74sec\n",
      "MCEqRun::set_theta_deg(): Zenith angle  84.26\n",
      "MCEqRun::set_primary_model(): Primary model set to Global Spline Fit\n",
      "MCEqRun::solve(): Launching euler solver\n",
      "MCEqRun::_calculate_integration_path(): X_surface = 9420.12g/cm2\n",
      "MCEqRun::solve(): for 11783 integration steps.\n",
      "solv_spacc_sparse(): Performance:   0.67ms/iteration\n",
      "MCEqRun::solve(): time elapsed during integration:  7.86sec\n",
      "MCEqRun::set_primary_model(): Primary model set to GST (4-gen)\n",
      "MCEqRun::solve(): Launching euler solver\n",
      "MCEqRun::solve(): for 11783 integration steps.\n"
     ]
    },
    {
     "name": "stderr",
     "output_type": "stream",
     "text": [
      " 18%|█▊        | 2/11 [01:08<04:39, 31.04s/it]"
     ]
    },
    {
     "name": "stdout",
     "output_type": "stream",
     "text": [
      "solv_spacc_sparse(): Performance:   0.69ms/iteration\n",
      "MCEqRun::solve(): time elapsed during integration:  8.12sec\n",
      "MCEqRun::set_theta_deg(): Zenith angle  78.46\n",
      "MCEqRun::set_primary_model(): Primary model set to Global Spline Fit\n",
      "MCEqRun::solve(): Launching euler solver\n",
      "MCEqRun::_calculate_integration_path(): X_surface = 5036.67g/cm2\n",
      "MCEqRun::solve(): for 6713 integration steps.\n",
      "solv_spacc_sparse(): Performance:   0.71ms/iteration\n",
      "MCEqRun::solve(): time elapsed during integration:  4.80sec\n",
      "MCEqRun::set_primary_model(): Primary model set to GST (4-gen)\n",
      "MCEqRun::solve(): Launching euler solver\n",
      "MCEqRun::solve(): for 6713 integration steps.\n"
     ]
    },
    {
     "name": "stderr",
     "output_type": "stream",
     "text": [
      " 27%|██▋       | 3/11 [01:18<02:50, 21.36s/it]"
     ]
    },
    {
     "name": "stdout",
     "output_type": "stream",
     "text": [
      "solv_spacc_sparse(): Performance:   0.73ms/iteration\n",
      "MCEqRun::solve(): time elapsed during integration:  4.89sec\n",
      "MCEqRun::set_theta_deg(): Zenith angle  72.54\n",
      "MCEqRun::set_primary_model(): Primary model set to Global Spline Fit\n",
      "MCEqRun::solve(): Launching euler solver\n",
      "MCEqRun::_calculate_integration_path(): X_surface = 3407.35g/cm2\n",
      "MCEqRun::solve(): for 4653 integration steps.\n",
      "solv_spacc_sparse(): Performance:   0.68ms/iteration\n",
      "MCEqRun::solve(): time elapsed during integration:  3.19sec\n",
      "MCEqRun::set_primary_model(): Primary model set to GST (4-gen)\n",
      "MCEqRun::solve(): Launching euler solver\n",
      "MCEqRun::solve(): for 4653 integration steps.\n"
     ]
    },
    {
     "name": "stderr",
     "output_type": "stream",
     "text": [
      " 36%|███▋      | 4/11 [01:24<01:48, 15.51s/it]"
     ]
    },
    {
     "name": "stdout",
     "output_type": "stream",
     "text": [
      "solv_spacc_sparse(): Performance:   0.69ms/iteration\n",
      "MCEqRun::solve(): time elapsed during integration:  3.21sec\n",
      "MCEqRun::set_theta_deg(): Zenith angle  66.42\n",
      "MCEqRun::set_primary_model(): Primary model set to Global Spline Fit\n",
      "MCEqRun::solve(): Launching euler solver\n",
      "MCEqRun::_calculate_integration_path(): X_surface = 2569.24g/cm2\n",
      "MCEqRun::solve(): for 3548 integration steps.\n",
      "solv_spacc_sparse(): Performance:   0.67ms/iteration\n",
      "MCEqRun::solve(): time elapsed during integration:  2.39sec\n",
      "MCEqRun::set_primary_model(): Primary model set to GST (4-gen)\n",
      "MCEqRun::solve(): Launching euler solver\n",
      "MCEqRun::solve(): for 3548 integration steps.\n"
     ]
    },
    {
     "name": "stderr",
     "output_type": "stream",
     "text": [
      " 45%|████▌     | 5/11 [01:30<01:10, 11.82s/it]"
     ]
    },
    {
     "name": "stdout",
     "output_type": "stream",
     "text": [
      "solv_spacc_sparse(): Performance:   0.78ms/iteration\n",
      "MCEqRun::solve(): time elapsed during integration:  2.76sec\n",
      "MCEqRun::set_theta_deg(): Zenith angle  60.00\n",
      "MCEqRun::set_primary_model(): Primary model set to Global Spline Fit\n",
      "MCEqRun::solve(): Launching euler solver\n",
      "MCEqRun::_calculate_integration_path(): X_surface = 2060.58g/cm2\n",
      "MCEqRun::solve(): for 2862 integration steps.\n",
      "solv_spacc_sparse(): Performance:   0.67ms/iteration\n",
      "MCEqRun::solve(): time elapsed during integration:  1.92sec\n",
      "MCEqRun::set_primary_model(): Primary model set to GST (4-gen)\n",
      "MCEqRun::solve(): Launching euler solver\n",
      "MCEqRun::solve(): for 2862 integration steps.\n"
     ]
    },
    {
     "name": "stderr",
     "output_type": "stream",
     "text": [
      " 55%|█████▍    | 6/11 [01:34<00:45,  9.13s/it]"
     ]
    },
    {
     "name": "stdout",
     "output_type": "stream",
     "text": [
      "solv_spacc_sparse(): Performance:   0.64ms/iteration\n",
      "MCEqRun::solve(): time elapsed during integration:  1.84sec\n",
      "MCEqRun::set_theta_deg(): Zenith angle  53.13\n",
      "MCEqRun::set_primary_model(): Primary model set to Global Spline Fit\n",
      "MCEqRun::solve(): Launching euler solver\n",
      "MCEqRun::_calculate_integration_path(): X_surface = 1719.53g/cm2\n",
      "MCEqRun::solve(): for 2397 integration steps.\n",
      "solv_spacc_sparse(): Performance:   0.65ms/iteration\n",
      "MCEqRun::solve(): time elapsed during integration:  1.56sec\n",
      "MCEqRun::set_primary_model(): Primary model set to GST (4-gen)\n",
      "MCEqRun::solve(): Launching euler solver\n",
      "MCEqRun::solve(): for 2397 integration steps.\n"
     ]
    },
    {
     "name": "stderr",
     "output_type": "stream",
     "text": [
      " 64%|██████▎   | 7/11 [01:37<00:28,  7.21s/it]"
     ]
    },
    {
     "name": "stdout",
     "output_type": "stream",
     "text": [
      "solv_spacc_sparse(): Performance:   0.65ms/iteration\n",
      "MCEqRun::solve(): time elapsed during integration:  1.56sec\n",
      "MCEqRun::set_theta_deg(): Zenith angle  45.57\n",
      "MCEqRun::set_primary_model(): Primary model set to Global Spline Fit\n",
      "MCEqRun::solve(): Launching euler solver\n",
      "MCEqRun::_calculate_integration_path(): X_surface = 1475.12g/cm2\n",
      "MCEqRun::solve(): for 2061 integration steps.\n",
      "solv_spacc_sparse(): Performance:   0.65ms/iteration\n",
      "MCEqRun::solve(): time elapsed during integration:  1.34sec\n",
      "MCEqRun::set_primary_model(): Primary model set to GST (4-gen)\n",
      "MCEqRun::solve(): Launching euler solver\n",
      "MCEqRun::solve(): for 2061 integration steps.\n"
     ]
    },
    {
     "name": "stderr",
     "output_type": "stream",
     "text": [
      " 73%|███████▎  | 8/11 [01:40<00:17,  5.81s/it]"
     ]
    },
    {
     "name": "stdout",
     "output_type": "stream",
     "text": [
      "solv_spacc_sparse(): Performance:   0.65ms/iteration\n",
      "MCEqRun::solve(): time elapsed during integration:  1.35sec\n",
      "MCEqRun::set_theta_deg(): Zenith angle  36.87\n",
      "MCEqRun::set_primary_model(): Primary model set to Global Spline Fit\n",
      "MCEqRun::solve(): Launching euler solver\n",
      "MCEqRun::_calculate_integration_path(): X_surface = 1291.43g/cm2\n",
      "MCEqRun::solve(): for 1807 integration steps.\n",
      "solv_spacc_sparse(): Performance:   0.64ms/iteration\n",
      "MCEqRun::solve(): time elapsed during integration:  1.17sec\n",
      "MCEqRun::set_primary_model(): Primary model set to GST (4-gen)\n",
      "MCEqRun::solve(): Launching euler solver\n",
      "MCEqRun::solve(): for 1807 integration steps.\n"
     ]
    },
    {
     "name": "stderr",
     "output_type": "stream",
     "text": [
      " 82%|████████▏ | 9/11 [01:42<00:09,  4.77s/it]"
     ]
    },
    {
     "name": "stdout",
     "output_type": "stream",
     "text": [
      "solv_spacc_sparse(): Performance:   0.65ms/iteration\n",
      "MCEqRun::solve(): time elapsed during integration:  1.17sec\n",
      "MCEqRun::set_theta_deg(): Zenith angle  25.84\n",
      "MCEqRun::set_primary_model(): Primary model set to Global Spline Fit\n",
      "MCEqRun::solve(): Launching euler solver\n",
      "MCEqRun::_calculate_integration_path(): X_surface = 1148.37g/cm2\n",
      "MCEqRun::solve(): for 1609 integration steps.\n",
      "solv_spacc_sparse(): Performance:   0.64ms/iteration\n",
      "MCEqRun::solve(): time elapsed during integration:  1.04sec\n",
      "MCEqRun::set_primary_model(): Primary model set to GST (4-gen)\n",
      "MCEqRun::solve(): Launching euler solver\n",
      "MCEqRun::solve(): for 1609 integration steps.\n"
     ]
    },
    {
     "name": "stderr",
     "output_type": "stream",
     "text": [
      " 91%|█████████ | 10/11 [01:44<00:03,  3.97s/it]"
     ]
    },
    {
     "name": "stdout",
     "output_type": "stream",
     "text": [
      "solv_spacc_sparse(): Performance:   0.64ms/iteration\n",
      "MCEqRun::solve(): time elapsed during integration:  1.03sec\n",
      "MCEqRun::set_theta_deg(): Zenith angle   0.00\n",
      "MCEqRun::set_primary_model(): Primary model set to Global Spline Fit\n",
      "MCEqRun::solve(): Launching euler solver\n",
      "MCEqRun::_calculate_integration_path(): X_surface = 1033.81g/cm2\n",
      "MCEqRun::solve(): for 1450 integration steps.\n",
      "solv_spacc_sparse(): Performance:   0.66ms/iteration\n",
      "MCEqRun::solve(): time elapsed during integration:  0.96sec\n",
      "MCEqRun::set_primary_model(): Primary model set to GST (4-gen)\n",
      "MCEqRun::solve(): Launching euler solver\n",
      "MCEqRun::solve(): for 1450 integration steps.\n"
     ]
    },
    {
     "name": "stderr",
     "output_type": "stream",
     "text": [
      "100%|██████████| 11/11 [01:46<00:00,  9.71s/it]"
     ]
    },
    {
     "name": "stdout",
     "output_type": "stream",
     "text": [
      "solv_spacc_sparse(): Performance:   0.63ms/iteration\n",
      "MCEqRun::solve(): time elapsed during integration:  0.92sec\n"
     ]
    },
    {
     "name": "stderr",
     "output_type": "stream",
     "text": [
      "\n"
     ]
    }
   ],
   "source": [
    "surface_flux_GSF = []\n",
    "surface_flux_GST = []\n",
    "for ia, theta in enumerate(tqdm(thetas)): # loop over angles\n",
    "    mceq_air.set_theta_deg(theta)\n",
    "    mceq_air.set_primary_model(pm.GlobalSplineFitBeta(None))\n",
    "    mceq_air.solve()\n",
    "    surface_flux_GSF.append(\n",
    "        mceq_air.get_solution(\"mu+\", mag=0) + mceq_air.get_solution(\"mu-\", mag=0)\n",
    "    )\n",
    "    mceq_air.set_primary_model(pm.GaisserStanevTilav(\"4-gen\"))\n",
    "    mceq_air.solve()\n",
    "    surface_flux_GST.append(\n",
    "        mceq_air.get_solution(\"mu+\", mag=0) + mceq_air.get_solution(\"mu-\", mag=0)\n",
    "    )"
   ]
  },
  {
   "cell_type": "code",
   "execution_count": 20,
   "metadata": {},
   "outputs": [],
   "source": [
    "config.debug_level = 0"
   ]
  },
  {
   "cell_type": "code",
   "execution_count": 21,
   "id": "981a1d21-e5a9-49dc-be67-b82058f532cc",
   "metadata": {},
   "outputs": [],
   "source": [
    "cr_grid = mceq_air.e_grid[30:-10] # cut because higher energies are not relevant for analysis"
   ]
  },
  {
   "cell_type": "code",
   "execution_count": 22,
   "id": "8c844132-2601-4d85-9eac-037427272c10",
   "metadata": {},
   "outputs": [
    {
     "name": "stderr",
     "output_type": "stream",
     "text": [
      "11it [00:51,  4.65s/it]00:00<?, ?it/s]\n",
      "11it [00:47,  4.36s/it]00:51<1:08:15, 51.20s/it]\n",
      "11it [00:52,  4.74s/it]01:39<1:04:54, 49.30s/it]\n",
      "11it [00:50,  4.63s/it]02:31<1:05:46, 50.59s/it]\n",
      "11it [00:52,  4.79s/it]03:22<1:05:05, 50.72s/it]\n",
      "11it [00:53,  4.90s/it]04:14<1:05:09, 51.44s/it]\n",
      "11it [00:52,  4.80s/it]05:08<1:05:22, 52.29s/it]\n",
      "11it [00:53,  4.90s/it]06:01<1:04:43, 52.47s/it]\n",
      "11it [00:53,  4.88s/it]06:55<1:04:24, 52.94s/it]\n",
      "11it [00:51,  4.67s/it]07:49<1:03:48, 53.17s/it]\n",
      "11it [00:52,  4.74s/it][08:40<1:02:15, 52.61s/it]\n",
      "11it [00:52,  4.74s/it][09:32<1:01:13, 52.48s/it]\n",
      "11it [00:53,  4.82s/it][10:25<1:00:13, 52.37s/it]\n",
      "11it [00:52,  4.74s/it][11:18<59:34, 52.57s/it]  \n",
      "11it [00:53,  4.83s/it][12:10<58:33, 52.44s/it]\n",
      "11it [00:53,  4.91s/it][13:03<57:53, 52.64s/it]\n",
      "11it [00:51,  4.65s/it][13:57<57:28, 53.05s/it]\n",
      "11it [00:53,  4.85s/it][14:48<55:57, 52.46s/it]\n",
      "11it [00:51,  4.65s/it][15:41<55:21, 52.72s/it]\n",
      "11it [00:52,  4.82s/it][16:32<53:58, 52.24s/it]\n",
      "11it [00:51,  4.69s/it][17:25<53:20, 52.47s/it]\n",
      "11it [00:48,  4.39s/it][18:17<52:12, 52.21s/it]\n",
      "11it [00:49,  4.51s/it][19:05<50:11, 51.03s/it]\n",
      "11it [00:52,  4.78s/it][19:55<48:55, 50.61s/it]\n",
      "11it [00:50,  4.56s/it][20:47<48:38, 51.21s/it]\n",
      "11it [00:54,  4.93s/it][21:38<47:30, 50.91s/it]\n",
      "11it [00:53,  4.89s/it][22:32<47:34, 51.91s/it]\n",
      "11it [00:49,  4.54s/it][23:26<47:12, 52.46s/it]\n",
      "11it [00:51,  4.68s/it][24:16<45:40, 51.71s/it]\n",
      "11it [00:47,  4.31s/it][25:07<44:45, 51.64s/it]\n",
      "11it [00:47,  4.30s/it][25:54<42:48, 50.37s/it]\n",
      "11it [00:52,  4.81s/it][26:42<41:12, 49.46s/it]\n",
      "11it [00:51,  4.64s/it][27:35<41:14, 50.50s/it]\n",
      "11it [00:52,  4.79s/it][28:26<40:31, 50.67s/it]\n",
      "11it [00:52,  4.73s/it][29:18<40:09, 51.26s/it]\n",
      "11it [00:56,  5.16s/it][30:10<39:28, 51.49s/it]\n",
      "11it [00:56,  5.15s/it][31:07<39:47, 53.07s/it]\n",
      "11it [00:51,  4.70s/it][32:04<39:42, 54.14s/it]\n",
      "11it [00:52,  4.81s/it][32:56<38:16, 53.40s/it]\n",
      "11it [00:53,  4.87s/it][33:48<37:16, 53.26s/it]\n",
      "11it [00:53,  4.87s/it][34:42<36:28, 53.37s/it]\n",
      "11it [00:51,  4.70s/it][35:36<35:36, 53.42s/it]\n",
      "11it [00:55,  5.06s/it][36:27<34:23, 52.90s/it]\n",
      "11it [00:52,  4.74s/it][37:23<34:02, 53.74s/it]\n",
      "11it [00:52,  4.79s/it][38:15<32:50, 53.27s/it]\n",
      "11it [00:53,  4.88s/it][39:08<31:51, 53.09s/it]\n",
      "11it [00:52,  4.82s/it][40:02<31:04, 53.28s/it]\n",
      "11it [00:54,  4.94s/it][40:55<30:08, 53.19s/it]\n",
      "11it [00:53,  4.84s/it][41:49<29:26, 53.54s/it]\n",
      "11it [00:49,  4.54s/it][42:42<28:30, 53.47s/it]\n",
      "11it [00:52,  4.76s/it][43:32<27:04, 52.41s/it]\n",
      "11it [00:52,  4.80s/it][44:25<26:12, 52.41s/it]\n",
      "11it [00:52,  4.75s/it][45:17<25:23, 52.52s/it]\n",
      "11it [00:54,  4.94s/it][46:10<24:28, 52.44s/it]\n",
      "11it [00:50,  4.59s/it][47:04<23:51, 53.02s/it]\n",
      "11it [00:51,  4.69s/it][47:54<22:39, 52.27s/it]\n",
      "11it [00:50,  4.56s/it][48:46<21:41, 52.07s/it]\n",
      "11it [00:50,  4.57s/it][49:36<20:35, 51.48s/it]\n",
      "11it [00:49,  4.46s/it][50:27<19:35, 51.13s/it]\n",
      "11it [00:55,  5.03s/it][51:16<18:31, 50.52s/it]\n",
      "11it [00:49,  4.49s/it][52:11<18:11, 51.96s/it]\n",
      "11it [00:53,  4.84s/it][53:00<17:03, 51.19s/it]\n",
      "11it [00:48,  4.41s/it][53:54<16:24, 51.80s/it]\n",
      "11it [00:47,  4.34s/it][54:42<15:14, 50.80s/it]\n",
      "11it [00:51,  4.65s/it][55:30<14:07, 49.87s/it]\n",
      "11it [00:50,  4.63s/it][56:21<13:24, 50.26s/it]\n",
      "11it [00:49,  4.51s/it][57:12<12:37, 50.47s/it]\n",
      "11it [00:50,  4.55s/it][58:01<11:42, 50.20s/it]\n",
      "11it [00:49,  4.52s/it][58:51<10:52, 50.17s/it]\n",
      "11it [00:49,  4.51s/it][59:41<10:00, 50.03s/it]\n",
      "11it [00:49,  4.50s/it][1:00:31<09:08, 49.90s/it]\n",
      "11it [00:48,  4.37s/it][1:01:20<08:17, 49.77s/it]\n",
      "11it [00:47,  4.29s/it][1:02:08<07:23, 49.26s/it]\n",
      "11it [00:47,  4.31s/it][1:02:56<06:29, 48.64s/it]\n",
      "11it [00:47,  4.30s/it][1:03:43<05:37, 48.26s/it]\n",
      "11it [00:47,  4.30s/it][1:04:30<04:47, 47.96s/it]\n",
      "11it [00:47,  4.32s/it][1:05:17<03:58, 47.76s/it]\n",
      "11it [00:47,  4.32s/it][1:06:05<03:10, 47.70s/it]\n",
      "11it [00:47,  4.30s/it][1:06:52<02:22, 47.63s/it]\n",
      "11it [00:47,  4.30s/it][1:07:40<01:35, 47.53s/it]\n",
      "11it [00:48,  4.37s/it][1:08:27<00:47, 47.47s/it]\n",
      "100%|██████████| 81/81 [1:09:15<00:00, 51.30s/it]\n"
     ]
    }
   ],
   "source": [
    "ground_muspec_prim_energies = []\n",
    "for ei, eprim in enumerate(tqdm(cr_grid)):\n",
    "    ground_muspec_prim_energies.append(np.zeros((thetas.shape[0], mceq_air.dim)))\n",
    "    mceq_air.set_single_primary_particle(E=eprim, pdg_id=2212)\n",
    "    for ia, theta in tqdm(enumerate(thetas)):\n",
    "        mceq_air.set_theta_deg(theta)\n",
    "        mceq_air.solve()\n",
    "        ground_muspec_prim_energies[-1][ia, :] = mceq_air.get_solution(\n",
    "            \"mu+\", mag=0\n",
    "        ) + mceq_air.get_solution(\"mu-\", mag=0)"
   ]
  },
  {
   "cell_type": "code",
   "execution_count": null,
   "metadata": {},
   "outputs": [],
   "source": [
    "import pickle\n",
    "\n",
    "pickle.dump(\n",
    "    [mceq_air.e_grid, cos_thetas, cr_grid, ground_muspec_prim_energies],\n",
    "    open(\"ground_muspec_prim_energies.pkl\", \"wb\"),\n",
    ")\n",
    "pickle.dump(\n",
    "    [mceq_air.e_grid, cos_thetas, surface_flux_GSF, surface_flux_GST],\n",
    "    open(\"surface_fluxes.pkl\", \"wb\"),\n",
    ")"
   ]
  },
  {
   "cell_type": "code",
   "execution_count": 14,
   "metadata": {},
   "outputs": [],
   "source": [
    "import pickle\n",
    "\n",
    "# pickle.dump([mceq_air.e_grid, angles, cr_grid, ground_muspec_prim_energies], open('ground_muspec_prim_energies.pkl', 'wb'))\n",
    "pickle.dump(\n",
    "    [mceq_air.e_grid, cos_thetas, surface_flux_GSF, surface_flux_GST],\n",
    "    open(\"surface_fluxes.pkl\", \"wb\"),\n",
    ")"
   ]
  },
  {
   "cell_type": "code",
   "execution_count": null,
   "metadata": {},
   "outputs": [],
   "source": []
  }
 ],
 "metadata": {
  "kernelspec": {
   "display_name": "Python 3 (ipykernel)",
   "language": "python",
   "name": "python3"
  },
  "language_info": {
   "codemirror_mode": {
    "name": "ipython",
    "version": 3
   },
   "file_extension": ".py",
   "mimetype": "text/x-python",
   "name": "python",
   "nbconvert_exporter": "python",
   "pygments_lexer": "ipython3",
   "version": "3.11.6"
  }
 },
 "nbformat": 4,
 "nbformat_minor": 5
}
