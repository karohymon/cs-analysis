{
 "cells": [
  {
   "cell_type": "code",
   "execution_count": 1,
   "metadata": {},
   "outputs": [],
   "source": [
    "import matplotlib.pyplot as plt\n",
    "from matplotlib import cm\n",
    "from matplotlib.colors import Normalize\n",
    "import matplotlib.lines as mlines\n",
    "from scipy.interpolate import UnivariateSpline\n",
    "from tqdm import tqdm\n",
    "import pickle\n",
    "import numpy as np\n",
    "\n",
    "import crflux.models as pm\n",
    "import mceq_underground_helpers_cs as mh"
   ]
  },
  {
   "cell_type": "code",
   "execution_count": 2,
   "metadata": {},
   "outputs": [],
   "source": [
    "plot_dir = '/hetghome/khymon/Plots/cs-analysis/'"
   ]
  },
  {
   "cell_type": "code",
   "execution_count": null,
   "metadata": {},
   "outputs": [
    {
     "name": "stdout",
     "output_type": "stream",
     "text": [
      "{('1.5', '1.0', '0.9', '0.9', '2212', 'apr', '1000.0'): array([0.91894865, 0.9159867 , 0.91374023]), ('1.5', '1.0', '0.9', '1.0', '2212', 'apr', '1000.0'): array([0.93800558, 0.93575293, 0.93379738]), ('1.5', '1.0', '0.9', '1.1', '2212', 'apr', '1000.0'): array([0.95503028, 0.95321119, 0.95146274]), ('1.5', '1.0', '1.0', '0.9', '2212', 'apr', '1000.0'): array([0.97988954, 0.97949252, 0.97889584]), ('1.5', '1.0', '1.0', '1.0', '2212', 'apr', '1000.0'): array([1., 1., 1.]), ('1.5', '1.0', '1.0', '1.1', '2212', 'apr', '1000.0'): array([1.01770102, 1.0183696 , 1.01861027]), ('1.5', '1.0', '1.1', '0.9', '2212', 'apr', '1000.0'): array([1.03070577, 1.03249636, 1.03390618]), ('1.5', '1.0', '1.1', '1.0', '2212', 'apr', '1000.0'): array([1.05149215, 1.05403155, 1.05612656]), ('1.5', '1.0', '1.1', '1.1', '2212', 'apr', '1000.0'): array([1.07008029, 1.07300019, 1.07548308]), ('3.5', '1.0', '0.9', '0.9', '2212', 'apr', '1000.0'): array([0.94749595, 0.93939204, 0.93388737]), ('3.5', '1.0', '0.9', '1.0', '2212', 'apr', '1000.0'): array([0.96115786, 0.95481018, 0.95051959]), ('3.5', '1.0', '0.9', '1.1', '2212', 'apr', '1000.0'): array([0.97278356, 0.96812473, 0.96487132]), ('3.5', '1.0', '1.0', '0.9', '2212', 'apr', '1000.0'): array([0.98604119, 0.98404548, 0.98272622]), ('3.5', '1.0', '1.0', '1.0', '2212', 'apr', '1000.0'): array([1., 1., 1.]), ('3.5', '1.0', '1.0', '1.1', '2212', 'apr', '1000.0'): array([1.01205037, 1.01364053, 1.01483906]), ('3.5', '1.0', '1.1', '0.9', '2212', 'apr', '1000.0'): array([1.01469305, 1.0185515 , 1.02160682]), ('3.5', '1.0', '1.1', '1.0', '2212', 'apr', '1000.0'): array([1.02902348, 1.0347965 , 1.0391953 ]), ('3.5', '1.0', '1.1', '1.1', '2212', 'apr', '1000.0'): array([1.04139465, 1.04898561, 1.05458361])}\n"
     ]
    }
   ],
   "source": [
    "# Load the pickle file\n",
    "#default order: (str(d), str(cs_p1), str(cs_p2), str(cs_k2), str(ptype), season, str(e0))\n",
    "with open(\"/hetghome/khymon/cs-files/R_value_const_pi-air_k-air_sibyll23c_smooth_threshold.pkl\", \"rb\") as file:\n",
    "    data = pickle.load(file)\n",
    "\n",
    "# Print or inspect the data\n",
    "print(data)"
   ]
  },
  {
   "cell_type": "code",
   "execution_count": null,
   "metadata": {},
   "outputs": [],
   "source": [
    "e0_values = [300,700,1e3,3000,6000]\n",
    "angles = mh.angles"
   ]
  },
  {
   "cell_type": "code",
   "execution_count": null,
   "metadata": {},
   "outputs": [],
   "source": [
    "def get_data(fixed_params):\n",
    "    values = sorted({key[1] for key in data.keys() if key[0] == fixed_params[0] and key[1] == fixed_params[1] and key[2] == fixed_params[2] and key[3] == fixed_params[3] and key[4] == fixed_params[4] and key[5] == fixed_params[5]})\n",
    "\n",
    "    # Collect data for each cs\n",
    "    sel_data = [data[(fixed_params[0], fixed_params[1], fixed_params[2], fixed_params[3], fixed_params[4],fixed_params[5], e0)] for e0 in values]\n",
    "\n",
    "    return np.array(sel_data)"
   ]
  },
  {
   "cell_type": "code",
   "execution_count": null,
   "metadata": {},
   "outputs": [],
   "source": [
    "data_d15_e0 = get_data((\"1.5\", \"1.05\", \"1.1\", \"1.0\", \"2212\", \"apr\"))\n",
    "data_d35_e0 = get_data((\"3.5\", \"1.05\", \"1.1\", \"1.0\", \"2212\", \"apr\"))"
   ]
  },
  {
   "cell_type": "code",
   "execution_count": null,
   "metadata": {},
   "outputs": [],
   "source": [
    "plt.figure()\n",
    "for i in range(3):\n",
    "    plt.scatter(e0_values, data_d15_e0[:,i],label=str(np.round(angles[i],decimals=0)) + 'deg')\n",
    "\n",
    "plt.xlabel('eo / GeV')\n",
    "plt.ylabel('R parameter')\n",
    "plt.legend(loc='upper left')\n",
    "plt.title('p, $d$=1.5 km, cs_p1=1.05, cs_p2=1.1')\n",
    "plt.ylim(0.5,1.5)\n",
    "plt.tight_layout()\n",
    "plt.grid()\n",
    "plt.savefig(plot_dir + 'R_depth1.5_p_thredholde0.png' )"
   ]
  },
  {
   "cell_type": "code",
   "execution_count": null,
   "metadata": {},
   "outputs": [],
   "source": [
    "plt.figure()\n",
    "for i in range(3):\n",
    "    plt.scatter(e0_values, data_d35_e0[:,i],label=str(np.round(angles[i],decimals=0)) + 'deg')\n",
    "\n",
    "plt.xlabel('e0 / GeV')\n",
    "plt.ylabel('R parameter')\n",
    "plt.legend(loc='upper left')\n",
    "plt.title('p, $d$=3.5 km, cs_p1=1.05, cs_p2=1.1')\n",
    "plt.ylim(0.5,1.5)\n",
    "plt.tight_layout()\n",
    "plt.grid()\n",
    "plt.savefig(plot_dir + 'R_depth3.5_p_thredholde0.png' )"
   ]
  }
 ],
 "metadata": {
  "kernelspec": {
   "display_name": "Python (cs env)",
   "language": "python",
   "name": "cs_env"
  },
  "language_info": {
   "codemirror_mode": {
    "name": "ipython",
    "version": 3
   },
   "file_extension": ".py",
   "mimetype": "text/x-python",
   "name": "python",
   "nbconvert_exporter": "python",
   "pygments_lexer": "ipython3",
   "version": "3.12.4"
  }
 },
 "nbformat": 4,
 "nbformat_minor": 2
}
