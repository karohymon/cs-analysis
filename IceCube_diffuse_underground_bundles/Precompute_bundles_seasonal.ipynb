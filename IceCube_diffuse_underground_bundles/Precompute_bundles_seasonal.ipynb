{
 "cells": [
  {
   "cell_type": "code",
   "execution_count": 2,
   "id": "1ad7f6a7-e202-4091-af30-e570c75fe229",
   "metadata": {},
   "outputs": [],
   "source": [
    "import numpy as np"
   ]
  },
  {
   "cell_type": "code",
   "execution_count": 3,
   "id": "2f114fe3-b29d-42bc-b4b2-5117f8a3930a",
   "metadata": {},
   "outputs": [],
   "source": [
    "import matplotlib.pyplot as plt\n",
    "from matplotlib import cm\n",
    "from matplotlib.colors import Normalize\n",
    "import matplotlib.lines as mlines\n",
    "from scipy.interpolate import UnivariateSpline\n",
    "from tqdm import tqdm"
   ]
  },
  {
   "cell_type": "code",
   "execution_count": 4,
   "id": "31d1c3fc-3c03-4ab7-b677-6e865adfa32d",
   "metadata": {},
   "outputs": [
    {
     "name": "stdout",
     "output_type": "stream",
     "text": [
      "1.2.6\n"
     ]
    }
   ],
   "source": [
    "from MCEq.version import __version__\n",
    "\n",
    "print(__version__)"
   ]
  },
  {
   "cell_type": "code",
   "execution_count": 5,
   "id": "73e77cd8-65ac-4d72-aac5-94f869bcf10d",
   "metadata": {},
   "outputs": [],
   "source": [
    "from MCEq.core import MCEqRun\n",
    "import mceq_config as config\n",
    "import crflux.models as pm"
   ]
  },
  {
   "cell_type": "code",
   "execution_count": 6,
   "id": "0dfea344-5713-4469-9d1a-415a82af347e",
   "metadata": {},
   "outputs": [],
   "source": [
    "#config.debug_level = 2\n",
    "#config.enable_default_tracking = False\n",
    "#config.mceq_db_fname = \"mceq_db_lext_dpm193_v150_sstar.h5\"\n",
    "#config.adv_set[\"disable_charm_pprod\"] = True"
   ]
  },
  {
   "cell_type": "code",
   "execution_count": 7,
   "id": "870d33c6-7f35-49e8-9dd1-8dba39781477",
   "metadata": {},
   "outputs": [
    {
     "name": "stdout",
     "output_type": "stream",
     "text": [
      "MCEqRun::set_interaction_model(): SIBYLL23C\n",
      "ParticleManager::_init_default_tracking(): Initializing default tracking categories (pi, K, mu)\n",
      "MCEqRun::set_density_model(): Setting density profile to MSIS00_IC ('South Pole', 'January')\n",
      "MSIS00IceCubeCentered::set_theta(): latitude = -90.00 for zenith angle =  0.00\n",
      "MCEqRun::set_primary_model(): GlobalSplineFitBeta \n"
     ]
    }
   ],
   "source": [
    "# Average mass number may be wrong but not relevant\n",
    "mceq_air = MCEqRun(\n",
    "    interaction_model=\"SIBYLL23C\",\n",
    "    theta_deg=0.0,\n",
    "    primary_model=(pm.GlobalSplineFitBeta, None),\n",
    "    density_model = ('MSIS00_IC',('South Pole','January')),\n",
    ")"
   ]
  },
  {
   "cell_type": "code",
   "execution_count": 8,
   "id": "b9f4234c-e1c1-4d72-afe1-f348b00ef57e",
   "metadata": {},
   "outputs": [
    {
     "name": "stdout",
     "output_type": "stream",
     "text": [
      "MCEqRun::set_interaction_model(): SIBYLL23C\n",
      "MCEqRun::set_primary_model(): GlobalSplineFitBeta \n"
     ]
    }
   ],
   "source": [
    "mceq_air.set_interaction_model(\"SIBYLL23C\", force=True)\n",
    "# inject_scenario(pC_scen, mceq_air)\n",
    "#mceq_air.set_primary_model(\n",
    "#    pm.GlobalSplineFitBeta(None),\n",
    "#)  # pm.GaisserStanevTilav('4-gen'))#\n",
    "mceq_air.set_theta_deg(0)"
   ]
  },
  {
   "cell_type": "code",
   "execution_count": 9,
   "id": "4ad6a257",
   "metadata": {},
   "outputs": [
    {
     "name": "stdout",
     "output_type": "stream",
     "text": [
      "[0.8 0.9 1. ] [36.86989765 25.84193276  0.        ]\n"
     ]
    }
   ],
   "source": [
    "cos_thetas = np.arange(0.8, 1.001, 0.1)\n",
    "thetas = np.degrees(np.arccos(cos_thetas))\n",
    "print(cos_thetas, thetas)"
   ]
  },
  {
   "cell_type": "code",
   "execution_count": 12,
   "id": "6c2b9a3d-2518-497e-9bf7-9786e8ac68e4",
   "metadata": {},
   "outputs": [
    {
     "name": "stderr",
     "output_type": "stream",
     "text": [
      "  0%|          | 0/3 [00:00<?, ?it/s]"
     ]
    },
    {
     "name": "stdout",
     "output_type": "stream",
     "text": [
      "MSIS00IceCubeCentered::set_theta(): latitude = -90.00 for zenith angle = 25.84\n",
      "MSIS00IceCubeCentered::set_theta(): latitude = -90.00 for zenith angle =  0.00\n"
     ]
    },
    {
     "name": "stderr",
     "output_type": "stream",
     "text": [
      " 33%|███▎      | 1/3 [00:08<00:17,  8.66s/it]"
     ]
    },
    {
     "name": "stdout",
     "output_type": "stream",
     "text": [
      "MSIS00IceCubeCentered::set_theta(): latitude = -90.00 for zenith angle = 36.87\n",
      "MSIS00IceCubeCentered::set_theta(): latitude = -90.00 for zenith angle = 25.84\n",
      "MSIS00IceCubeCentered::set_theta(): latitude = -90.00 for zenith angle =  0.00\n"
     ]
    },
    {
     "name": "stderr",
     "output_type": "stream",
     "text": [
      " 67%|██████▋   | 2/3 [00:17<00:08,  8.69s/it]"
     ]
    },
    {
     "name": "stdout",
     "output_type": "stream",
     "text": [
      "MSIS00IceCubeCentered::set_theta(): latitude = -90.00 for zenith angle = 36.87\n",
      "MSIS00IceCubeCentered::set_theta(): latitude = -90.00 for zenith angle = 25.84\n",
      "MSIS00IceCubeCentered::set_theta(): latitude = -90.00 for zenith angle =  0.00\n"
     ]
    },
    {
     "name": "stderr",
     "output_type": "stream",
     "text": [
      "100%|██████████| 3/3 [00:26<00:00,  8.70s/it]\n"
     ]
    }
   ],
   "source": [
    "seasons = ['January', 'April', 'July']\n",
    "surface_flux_GSF = []\n",
    "\n",
    "for season in tqdm(seasons):  # Loop over seasons\n",
    "    season_flux = []  # Temporary container for the current season's results\n",
    "    for ia, theta in enumerate(thetas):  # Loop over angles\n",
    "        mceq_air.set_theta_deg(theta)\n",
    "        \n",
    "        # Optionally set the season-dependent atmospheric model here\n",
    "        mceq_air.density_model.set_season(season)  # Uncomment and adjust if applicable\n",
    "        \n",
    "        # Solve for the current angle and season\n",
    "        mceq_air.solve()\n",
    "        \n",
    "        # Append the solution for the current angle\n",
    "        season_flux.append(\n",
    "            mceq_air.get_solution(\"mu+\", mag=0) + mceq_air.get_solution(\"mu-\", mag=0)\n",
    "        )\n",
    "    # Append the results for the current season\n",
    "    surface_flux_GSF.append(season_flux)"
   ]
  },
  {
   "cell_type": "code",
   "execution_count": 13,
   "id": "63fa65b3",
   "metadata": {},
   "outputs": [
    {
     "data": {
      "text/plain": [
       "(3, 3, 121)"
      ]
     },
     "execution_count": 13,
     "metadata": {},
     "output_type": "execute_result"
    }
   ],
   "source": [
    "np.shape(surface_flux_GSF)"
   ]
  },
  {
   "cell_type": "code",
   "execution_count": 14,
   "id": "fc91993b",
   "metadata": {},
   "outputs": [],
   "source": [
    "config.debug_level = 0"
   ]
  },
  {
   "cell_type": "code",
   "execution_count": 16,
   "id": "981a1d21-e5a9-49dc-be67-b82058f532cc",
   "metadata": {},
   "outputs": [],
   "source": [
    "cr_grid = mceq_air.e_grid[30:-10] # cut because higher energies are not relevant for analysis"
   ]
  },
  {
   "cell_type": "code",
   "execution_count": 18,
   "id": "8c844132-2601-4d85-9eac-037427272c10",
   "metadata": {},
   "outputs": [
    {
     "name": "stderr",
     "output_type": "stream",
     "text": [
      "100%|██████████| 81/81 [11:45<00:00,  8.72s/it]\n",
      "100%|██████████| 81/81 [11:45<00:00,  8.70s/it]\n",
      "100%|██████████| 81/81 [11:46<00:00,  8.73s/it]\n",
      "100%|██████████| 3/3 [35:17<00:00, 705.97s/it]\n"
     ]
    }
   ],
   "source": [
    "ground_muspec_prim_energies = []\n",
    "\n",
    "for season in tqdm(seasons):  # Loop over seasons\n",
    "    season_energies = []  # Temporary container for the current season's results\n",
    "    for ei, eprim in enumerate(tqdm(cr_grid)):  # Loop over primary energies\n",
    "        theta_energies = np.zeros((thetas.shape[0], mceq_air.dim))\n",
    "        mceq_air.set_single_primary_particle(E=eprim, pdg_id=2212)\n",
    "        for ia, theta in enumerate(thetas):  # Loop over angles\n",
    "            mceq_air.set_theta_deg(theta)\n",
    "            \n",
    "            # Optionally set the season-dependent atmospheric model here\n",
    "            mceq_air.density_model.set_season(season)  # Uncomment and adjust if applicable\n",
    "            \n",
    "            mceq_air.solve()\n",
    "            theta_energies[ia, :] = mceq_air.get_solution(\"mu+\", mag=0) + mceq_air.get_solution(\"mu-\", mag=0)\n",
    "        \n",
    "        season_energies.append(theta_energies)\n",
    "    # Append the results for the current season\n",
    "    ground_muspec_prim_energies.append(season_energies)"
   ]
  },
  {
   "cell_type": "code",
   "execution_count": 19,
   "id": "457dbd97",
   "metadata": {},
   "outputs": [],
   "source": [
    "import pickle\n",
    "\n",
    "pickle.dump(\n",
    "    [mceq_air.e_grid, cos_thetas, cr_grid, ground_muspec_prim_energies[0], ground_muspec_prim_energies[1], ground_muspec_prim_energies[2]],\n",
    "    open(\"ground_muspec_prim_energies_season.pkl\", \"wb\"),\n",
    ")\n",
    "pickle.dump(\n",
    "    [mceq_air.e_grid, cos_thetas, surface_flux_GSF[0], surface_flux_GSF[1] , surface_flux_GSF[2]],\n",
    "    open(\"surface_fluxes_season.pkl\", \"wb\"),\n",
    ")"
   ]
  },
  {
   "cell_type": "code",
   "execution_count": null,
   "metadata": {},
   "outputs": [],
   "source": []
  }
 ],
 "metadata": {
  "kernelspec": {
   "display_name": "cs_env",
   "language": "python",
   "name": "python3"
  },
  "language_info": {
   "codemirror_mode": {
    "name": "ipython",
    "version": 3
   },
   "file_extension": ".py",
   "mimetype": "text/x-python",
   "name": "python",
   "nbconvert_exporter": "python",
   "pygments_lexer": "ipython3",
   "version": "3.12.4"
  }
 },
 "nbformat": 4,
 "nbformat_minor": 5
}
