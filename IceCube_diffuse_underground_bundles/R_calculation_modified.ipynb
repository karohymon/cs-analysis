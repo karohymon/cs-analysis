{
 "cells": [
  {
   "cell_type": "markdown",
   "metadata": {},
   "source": [
    "## Calculation of R parameter\n"
   ]
  },
  {
   "cell_type": "markdown",
   "metadata": {},
   "source": [
    "default: \n",
    "- atmosphere = April\n",
    "- nucleus = p\n",
    "- hadronic interaction model = Sibyll2.3c\n",
    "\n",
    "\n",
    "modification parameters:\n",
    "- nucleus type\n",
    "- atmosphere\n",
    "- depth: 1.5 or 3.5\n",
    "- pi-air cross section factor\n"
   ]
  },
  {
   "cell_type": "code",
   "execution_count": 1,
   "metadata": {},
   "outputs": [],
   "source": [
    "import matplotlib.pyplot as plt\n",
    "from matplotlib import cm\n",
    "from matplotlib.colors import Normalize\n",
    "import matplotlib.lines as mlines\n",
    "from scipy.interpolate import UnivariateSpline\n",
    "from tqdm import tqdm\n",
    "import pickle\n",
    "import numpy as np\n",
    "\n",
    "import crflux.models as pm\n",
    "import mceq_underground_helpers_cs as mh\n"
   ]
  },
  {
   "cell_type": "code",
   "execution_count": 2,
   "metadata": {},
   "outputs": [],
   "source": [
    "plot_dir = '/hetghome/khymon/Plots/cs-analysis/'"
   ]
  },
  {
   "cell_type": "code",
   "execution_count": 3,
   "metadata": {},
   "outputs": [],
   "source": [
    "d = 1.5 #1.5 or 3.5"
   ]
  },
  {
   "cell_type": "code",
   "execution_count": 4,
   "metadata": {},
   "outputs": [],
   "source": [
    "s_d = mh.slant_depths\n",
    "angles = mh.angles\n",
    "x_mod = d/np.cos(np.deg2rad(angles)) # for specific depth"
   ]
  },
  {
   "cell_type": "code",
   "execution_count": 5,
   "metadata": {},
   "outputs": [
    {
     "ename": "NameError",
     "evalue": "name 'pi_mod' is not defined",
     "output_type": "error",
     "traceback": [
      "\u001b[0;31m---------------------------------------------------------------------------\u001b[0m",
      "\u001b[0;31mNameError\u001b[0m                                 Traceback (most recent call last)",
      "Cell \u001b[0;32mIn[5], line 1\u001b[0m\n\u001b[0;32m----> 1\u001b[0m yields_jan_mod \u001b[38;5;241m=\u001b[39m \u001b[38;5;124m\"\u001b[39m\u001b[38;5;124myields_jan_p\u001b[39m\u001b[38;5;124m\"\u001b[39m \u001b[38;5;241m+\u001b[39m \u001b[43mpi_mod\u001b[49m \u001b[38;5;241m+\u001b[39m nucleus\n\u001b[1;32m      2\u001b[0m yields_apr_mod \u001b[38;5;241m=\u001b[39m \u001b[38;5;124m\"\u001b[39m\u001b[38;5;124myields_apr_p\u001b[39m\u001b[38;5;124m\"\u001b[39m \u001b[38;5;241m+\u001b[39m pi_mod \u001b[38;5;241m+\u001b[39m nucleus\n\u001b[1;32m      3\u001b[0m yields_jul_mod \u001b[38;5;241m=\u001b[39m \u001b[38;5;124m\"\u001b[39m\u001b[38;5;124myields_jul_p\u001b[39m\u001b[38;5;124m\"\u001b[39m \u001b[38;5;241m+\u001b[39m pi_mod\u001b[38;5;241m+\u001b[39m nucleus\n",
      "\u001b[0;31mNameError\u001b[0m: name 'pi_mod' is not defined"
     ]
    }
   ],
   "source": [
    "yields_jan_mod = \"yields_jan_p\" + pi_mod + nucleus\n",
    "yields_apr_mod = \"yields_apr_p\" + pi_mod + nucleus\n",
    "yields_jul_mod = \"yields_jul_p\" + pi_mod+ nucleus\n",
    "\n",
    "jan_mod = \"jan_p\" + pi_mod+ nucleus\n",
    "jul_mod = \"jul_p\" + pi_mod+ nucleus\n",
    "\n",
    "if pi_mod == \"15\":\n",
    "    cs = '1.5'\n",
    "elif pi_mod == \"05\":\n",
    "    cs = '0.5'\n",
    "\n",
    "# make unmodified label including option to add iron\n",
    "\n",
    "yields_jan = \"yields_jan\" + nucleus\n",
    "yields_apr = \"yields_apr\" + nucleus\n",
    "yields_jul = \"yields_jul\" + nucleus\n",
    "\n",
    "jan = \"jan\" + nucleus\n",
    "jul = \"jul\" + nucleus\n"
   ]
  },
  {
   "cell_type": "code",
   "execution_count": 21,
   "metadata": {},
   "outputs": [],
   "source": [
    "m = mh.n_mu_vec # muon multiplicity"
   ]
  },
  {
   "cell_type": "code",
   "execution_count": 6,
   "metadata": {},
   "outputs": [],
   "source": [
    "def X(d):\n",
    "    s_d = mh.slant_depths\n",
    "    angles = mh.angles\n",
    " \n",
    "    return d/np.cos(np.deg2rad(angles))\n",
    "    "
   ]
  },
  {
   "cell_type": "code",
   "execution_count": 12,
   "metadata": {},
   "outputs": [],
   "source": [
    "def dNmu_dmu(d,month, ptype, cs): # month = str\n",
    "    angle = 0.0\n",
    "\n",
    "    #get depth according to angle\n",
    "    x_mod = X(d)\n",
    "\n",
    "    #get number of muons per multiplicity\n",
    "    dNmudmu = np.ndarray(shape=(len(x_mod),101),dtype='float')     \n",
    "    for i in range(len(x_mod)):\n",
    "\n",
    "        dNmudmu[i] = 1e4*mh.mult_dist(x_mod[i],\n",
    "                                    0.,\n",
    "                                    pm.GlobalSplineFitBeta(),\"yields_\" +month,\n",
    "                                    ptype,\n",
    "                                    cs,\n",
    "                                    norm=False\n",
    "                                ) / mh.rates(x_mod[i], angle, month, ptype, cs)\n",
    "    return dNmudmu\n",
    "    "
   ]
  },
  {
   "cell_type": "code",
   "execution_count": 15,
   "metadata": {},
   "outputs": [],
   "source": [
    "# function to calculate R from dN_mu from unmodified and modofied cs \n",
    "def R(m,dN_dNmu):\n",
    "    int_low = np.zeros(len(dN_dNmu[:,0]))\n",
    "    int_high = np.zeros(len(dN_dNmu[:,0]))\n",
    "    for i in range(len(dN_dNmu[:,0])):\n",
    "        int_low = np.trapezoid(dN_dNmu[i,1:19],m[1:19])\n",
    "        int_high = np.trapezoid(dN_dNmu[i,59:],m[59:])    \n",
    "\n",
    "    return int_high / int_low\n",
    "\n"
   ]
  },
  {
   "cell_type": "code",
   "execution_count": 17,
   "metadata": {},
   "outputs": [],
   "source": [
    "def R_normalized(R_mod,d,ptype):\n",
    "    # default parameters\n",
    "    dNu_dmu_apr = dNmu_dmu(d,month=\"apr\", ptype=ptype, cs=1.0) #default cs\n",
    "    R_def_apr = R(m,dNu_dmu_apr)\n",
    "    \n",
    "    return R_mod/R_def_apr"
   ]
  },
  {
   "cell_type": "code",
   "execution_count": 18,
   "metadata": {},
   "outputs": [],
   "source": [
    "dNu_dmu_jul = dNmu_dmu(d,month=\"jul\", ptype=2212, cs=1.0)"
   ]
  },
  {
   "cell_type": "code",
   "execution_count": 19,
   "metadata": {},
   "outputs": [],
   "source": [
    "dNu_dmu_jul_mod = dNmu_dmu(d,month=\"jul\", ptype=2212, cs=1.5)\n"
   ]
  },
  {
   "cell_type": "code",
   "execution_count": 13,
   "metadata": {},
   "outputs": [
    {
     "data": {
      "text/plain": [
       "array([1.875     , 1.66666667, 1.5       ])"
      ]
     },
     "execution_count": 13,
     "metadata": {},
     "output_type": "execute_result"
    }
   ],
   "source": [
    "x_mod"
   ]
  },
  {
   "cell_type": "code",
   "execution_count": 22,
   "metadata": {},
   "outputs": [],
   "source": [
    "\n",
    "R_def_jul = R(m,dNu_dmu_jul)"
   ]
  },
  {
   "cell_type": "code",
   "execution_count": 15,
   "metadata": {},
   "outputs": [
    {
     "data": {
      "text/plain": [
       "np.float64(1.122416688953364)"
      ]
     },
     "execution_count": 15,
     "metadata": {},
     "output_type": "execute_result"
    }
   ],
   "source": [
    "R(m,dNu_dmu_jul)/R(m,dNu_dmu_jan)"
   ]
  },
  {
   "cell_type": "code",
   "execution_count": 24,
   "metadata": {},
   "outputs": [
    {
     "data": {
      "text/plain": [
       "np.float64(1.0494233817275467)"
      ]
     },
     "execution_count": 24,
     "metadata": {},
     "output_type": "execute_result"
    }
   ],
   "source": [
    "\n",
    "R_normalized(R_def_jul,x_mod,2212)"
   ]
  },
  {
   "cell_type": "code",
   "execution_count": 17,
   "metadata": {},
   "outputs": [
    {
     "ename": "TypeError",
     "evalue": "R_normalized() missing 1 required positional argument: 'x_mod'",
     "output_type": "error",
     "traceback": [
      "\u001b[0;31m---------------------------------------------------------------------------\u001b[0m",
      "\u001b[0;31mTypeError\u001b[0m                                 Traceback (most recent call last)",
      "Cell \u001b[0;32mIn[17], line 1\u001b[0m\n\u001b[0;32m----> 1\u001b[0m R_05_p_jan \u001b[38;5;241m=\u001b[39m \u001b[43mR_normalized\u001b[49m\u001b[43m(\u001b[49m\u001b[43mR\u001b[49m\u001b[43m(\u001b[49m\u001b[43mm\u001b[49m\u001b[43m,\u001b[49m\u001b[43mdNu_dmu_jan\u001b[49m\u001b[43m)\u001b[49m\u001b[43m)\u001b[49m\n",
      "\u001b[0;31mTypeError\u001b[0m: R_normalized() missing 1 required positional argument: 'x_mod'"
     ]
    }
   ],
   "source": [
    "R_05_p_jan = R_normalized(R(m,dNu_dmu_jan))"
   ]
  }
 ],
 "metadata": {
  "kernelspec": {
   "display_name": "cs_env",
   "language": "python",
   "name": "python3"
  },
  "language_info": {
   "codemirror_mode": {
    "name": "ipython",
    "version": 3
   },
   "file_extension": ".py",
   "mimetype": "text/x-python",
   "name": "python",
   "nbconvert_exporter": "python",
   "pygments_lexer": "ipython3",
   "version": "3.12.4"
  }
 },
 "nbformat": 4,
 "nbformat_minor": 2
}
