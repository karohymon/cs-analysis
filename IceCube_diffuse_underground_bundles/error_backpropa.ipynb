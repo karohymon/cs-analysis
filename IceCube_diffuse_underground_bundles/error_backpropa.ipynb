{
 "cells": [
  {
   "cell_type": "markdown",
   "id": "d46061fc",
   "metadata": {},
   "source": [
    "## Backpropagate uncertainties from dN/dNmu fit to cross section and surface flux"
   ]
  },
  {
   "cell_type": "code",
   "execution_count": 2,
   "id": "9e15695b",
   "metadata": {},
   "outputs": [],
   "source": [
    "import matplotlib.pyplot as plt\n",
    "from matplotlib import cm\n",
    "from matplotlib.colors import Normalize\n",
    "import matplotlib.lines as mlines\n",
    "from scipy.interpolate import UnivariateSpline\n",
    "from tqdm import tqdm\n",
    "import pickle\n",
    "import numpy as np\n",
    "from scipy.optimize import curve_fit\n",
    "from MCEq.core import MCEqRun\n",
    "import mceq_config as config\n",
    "import crflux.models as pm\n",
    "from MCEq.data import InteractionCrossSections\n",
    "\n",
    "import crflux.models as pm\n",
    "\n",
    "import  mceq_underground_helper_forsplines as helper\n",
    "\n",
    "from helper_functions import sl_depth\n",
    "import seaborn as sns"
   ]
  },
  {
   "cell_type": "code",
   "execution_count": 3,
   "id": "fdac5ca2",
   "metadata": {},
   "outputs": [],
   "source": [
    "# for plotting\n",
    "\n",
    "fig_width = 2*4.13 \n",
    "fig_height = 3.1  # adjust for aspect ratio\n",
    "\n",
    "plt.rcParams.update({\n",
    "    \"font.size\": 12,         # 12 pt font\n",
    "    \"axes.labelsize\": 12,\n",
    "    \"xtick.labelsize\": 12,\n",
    "    \"ytick.labelsize\": 12\n",
    "})\n",
    "\n",
    "colors = sns.color_palette(\"colorblind\")\n",
    "\n",
    "plot_dir = '/hetghome/khymon/Plots/cs-analysis/'"
   ]
  },
  {
   "cell_type": "code",
   "execution_count": 4,
   "id": "68b20387",
   "metadata": {},
   "outputs": [],
   "source": [
    "# error propa with jacobian\n",
    "def propagate_uncertainty(jacobian, cov_matrix):\n",
    "    return np.sqrt(jacobian.T @ cov_matrix @ jacobian)"
   ]
  },
  {
   "cell_type": "code",
   "execution_count": 5,
   "id": "055ba058",
   "metadata": {},
   "outputs": [
    {
     "name": "stdout",
     "output_type": "stream",
     "text": [
      "MCEqRun::set_interaction_model(): SIBYLL23C\n",
      "ParticleManager::_init_default_tracking(): Initializing default tracking categories (pi, K, mu)\n",
      "MCEqRun::set_density_model(): Setting density profile to MSIS00_IC ('South Pole', 'January')\n",
      "MSIS00IceCubeCentered::set_theta(): latitude = -90.00 for zenith angle =  0.00\n",
      "MCEqRun::set_primary_model(): GlobalSplineFitBeta \n",
      "MCEqRun::set_interaction_model(): SIBYLL23C\n",
      "MCEqRun::set_primary_model(): GlobalSplineFitBeta \n"
     ]
    }
   ],
   "source": [
    "mceq_air = MCEqRun(\n",
    "    interaction_model=\"SIBYLL23C\",\n",
    "    theta_deg=0.0,\n",
    "    primary_model=(pm.GlobalSplineFitBeta, None),\n",
    "    density_model = ('MSIS00_IC',('South Pole','January')),\n",
    ")\n",
    "\n",
    "mceq_air.set_interaction_model(\"SIBYLL23C\", force=True)\n",
    "mceq_air.set_theta_deg(0)"
   ]
  },
  {
   "cell_type": "code",
   "execution_count": 6,
   "id": "246d9e1d",
   "metadata": {},
   "outputs": [],
   "source": [
    "# read errors from fit, use test for now\n",
    "\n",
    "#cov_abc_opt = np.array([\n",
    "#    [0.01, 0.003, -0.002],\n",
    "#    [0.003, 0.02, 0.001],\n",
    "#    [-0.002, 0.001, 0.005]\n",
    "#])\n",
    "\n",
    "with open(\"/hetghome/khymon/cs-files/dNdNmu_fit-pi-air_d1.5km.pkl\", \"rb\") as f:\n",
    "    popt, pcov = pickle.load(f)"
   ]
  },
  {
   "cell_type": "code",
   "execution_count": 7,
   "id": "e48a24d0",
   "metadata": {},
   "outputs": [],
   "source": [
    "# read derivatives from surface flux and cross section pion-air\n",
    "\n",
    "with open(\"/hetghome/khymon/cs-files/deriv_surfaceflux.pkl\", \"rb\") as f:\n",
    "    dphi_a, dphi_b, dphi_c = pickle.load(f)\n",
    "\n",
    "\n",
    "with open(\"/hetghome/khymon/cs-files/deriv_sigma_pi-air.pkl\", \"rb\") as f:\n",
    "    dsig_da, dsig_db, dsig_dc = pickle.load(f)"
   ]
  },
  {
   "cell_type": "code",
   "execution_count": 8,
   "id": "91c8b7c7",
   "metadata": {},
   "outputs": [
    {
     "name": "stderr",
     "output_type": "stream",
     "text": [
      "/tmp/ipykernel_1940859/3280914166.py:3: RuntimeWarning: invalid value encountered in sqrt\n",
      "  return np.sqrt(jacobian.T @ cov_matrix @ jacobian)\n"
     ]
    }
   ],
   "source": [
    "# choose index for angles (see helper)\n",
    "\n",
    "jac_phi = np.array([\n",
    "    np.zeros(len(dphi_a[0])),\n",
    "    np.zeros(len(dphi_a[0])),\n",
    "    np.zeros(len(dphi_a[0])),\n",
    "    dphi_a[0],\n",
    "    dphi_b[0],\n",
    "    dphi_c[0],\n",
    "    np.zeros(len(dphi_a[0])),\n",
    "    np.zeros(len(dphi_a[0])),\n",
    "    np.zeros(len(dphi_a[0]))\n",
    "])\n",
    "delta_phi = propagate_uncertainty(jac_phi, pcov)"
   ]
  },
  {
   "cell_type": "code",
   "execution_count": 9,
   "id": "e0e12f1d",
   "metadata": {},
   "outputs": [
    {
     "name": "stderr",
     "output_type": "stream",
     "text": [
      "/tmp/ipykernel_1940859/3280914166.py:3: RuntimeWarning: invalid value encountered in sqrt\n",
      "  return np.sqrt(jacobian.T @ cov_matrix @ jacobian)\n"
     ]
    }
   ],
   "source": [
    "jac_sig = np.array([\n",
    "    np.zeros(len(dsig_da)),\n",
    "    np.zeros(len(dsig_da)),\n",
    "    np.zeros(len(dsig_da)),\n",
    "    dsig_da,\n",
    "    dsig_db,\n",
    "    dsig_dc,\n",
    "    np.zeros(len(dsig_da)),\n",
    "    np.zeros(len(dsig_da)),\n",
    "    np.zeros(len(dsig_da))\n",
    "    ])\n",
    "delta_sig= propagate_uncertainty(jac_sig, pcov)\n",
    "sig_err = np.sqrt(np.diag(delta_sig))"
   ]
  },
  {
   "cell_type": "code",
   "execution_count": 10,
   "id": "b6becd47",
   "metadata": {},
   "outputs": [
    {
     "data": {
      "text/plain": [
       "array([ 0.00000000e+00,  0.00000000e+00,  0.00000000e+00,  0.00000000e+00,\n",
       "        0.00000000e+00,  0.00000000e+00,  0.00000000e+00,  0.00000000e+00,\n",
       "        8.17891974e+00,  5.61414742e+00,  2.08659878e+00, -2.27810325e+00,\n",
       "       -7.32769881e+00, -1.28832911e+01, -1.87393465e+01, -2.46636945e+01,\n",
       "       -3.04755354e+01, -3.63265971e+01, -4.22255990e+01, -4.82373500e+01,\n",
       "       -5.44343685e+01, -6.05013891e+01, -6.43739224e+01, -6.58109897e+01,\n",
       "       -6.48918443e+01, -6.16533179e+01, -5.60557384e+01, -4.80068908e+01,\n",
       "       -3.70786043e+01, -2.38934386e+01, -8.50226277e+00,  9.03189297e+00,\n",
       "        2.86395695e+01,  5.09207091e+01,  7.58003349e+01,  1.03366865e+02,\n",
       "        1.32790093e+02,  1.58977974e+02,  1.80948660e+02,  1.98731401e+02,\n",
       "        2.12164755e+02,  2.21254270e+02,  2.25815461e+02,  2.25825565e+02,\n",
       "        2.21093483e+02,  2.11571133e+02,  1.97059355e+02,  1.77478780e+02,\n",
       "        1.52727609e+02,  1.26430932e+02,  1.01852391e+02,  7.91041751e+01,\n",
       "        5.81546229e+01,  3.91008020e+01,  2.19566273e+01,  6.80881740e+00,\n",
       "       -6.28286427e+00, -1.72352364e+01, -2.59447730e+01, -3.23230247e+01,\n",
       "       -3.62277068e+01, -3.75555088e+01, -3.61332452e+01, -3.18333397e+01,\n",
       "       -2.62026577e+01, -2.09598373e+01, -1.61102865e+01, -1.16922359e+01,\n",
       "       -7.71315141e+00, -4.21179793e+00, -1.26068108e+00,  1.11297595e+00,\n",
       "        2.88186646e+00,  4.01836773e+00,  4.49397778e+00,  4.28049260e+00,\n",
       "        3.44778773e+00,  2.57345731e+00,  1.75819396e+00,  1.00532971e+00,\n",
       "        3.18026107e-01, -3.00396895e-01, -8.46626654e-01, -1.31734742e+00,\n",
       "       -1.70916994e+00, -2.01875758e+00, -2.24267771e+00, -2.37757222e+00,\n",
       "       -2.41998873e+00, -2.36655249e+00, -2.21378724e+00, -1.97236453e+00,\n",
       "       -1.72474018e+00, -1.48533332e+00, -1.25460098e+00, -1.03304420e+00,\n",
       "       -8.21132299e-01, -6.19362897e-01, -4.28210699e-01, -2.48169709e-01,\n",
       "       -7.97223336e-02,  7.66405173e-02,  2.20429352e-01,  3.51155799e-01,\n",
       "        4.68323675e-01,  5.71447166e-01,  6.60022620e-01,  7.33564504e-01,\n",
       "        7.91563193e-01,  8.33532833e-01,  8.58960171e-01,  8.67362072e-01,\n",
       "        8.58211853e-01,  8.31018318e-01,  7.85258664e-01,  7.20438966e-01,\n",
       "        6.36030479e-01,  5.31532970e-01,  4.06412873e-01,  2.60159453e-01,\n",
       "        9.22437643e-02])"
      ]
     },
     "execution_count": 10,
     "metadata": {},
     "output_type": "execute_result"
    }
   ],
   "source": [
    "dsig_da"
   ]
  },
  {
   "cell_type": "code",
   "execution_count": 35,
   "id": "a52049b4",
   "metadata": {},
   "outputs": [
    {
     "data": {
      "text/plain": [
       "array([ 0.        ,  0.        ,  0.        ,  0.        ,  0.        ,\n",
       "        0.        ,  0.        ,  0.        ,  1.73287466,  1.43569135,\n",
       "        0.87526317,  0.91454669,  1.64022333,  2.17486643,  2.62298858,\n",
       "        3.00918054,  3.34499021,  3.65200646,  3.9373778 ,  4.20834077,\n",
       "        4.47049665,  4.71304788,  4.86154338,  4.9155078 ,  4.88106103,\n",
       "        4.75770386,  4.53658673,  4.19827583,  3.68961344,  2.96181894,\n",
       "        1.76679613,  1.82099423,  3.24266752,  4.323808  ,  5.27539206,\n",
       "        6.16041333,  6.91710815,  7.08291482,  6.60147693,  5.31186197,\n",
       "        3.03703772,  5.893593  ,  8.87579051, 11.54948804, 14.08683713,\n",
       "       16.55864993, 18.99560972, 21.41845104, 23.84259212, 26.05909856,\n",
       "       27.87722708, 29.37461045, 30.58218593, 31.53733706, 32.24288037,\n",
       "       32.71873081, 32.95185076, 32.94989691, 32.68644869, 32.15506071,\n",
       "       31.3123581 , 30.12813453, 28.52621622, 26.42012724, 23.96991395,\n",
       "       21.4381723 , 18.79513438, 16.01188962, 13.00498128,  9.61009247,\n",
       "        5.25770749,  4.94011083,  7.94933371,  9.38682328,  9.9267998 ,\n",
       "        9.68814607,  8.69488942,  7.51194306,  6.20907914,  4.69513476,\n",
       "        2.64073724,  2.5665015 ,  4.30863566,  5.37457299,  6.12190275,\n",
       "        6.65328134,  7.01257044,  7.22039009,  7.2845122 ,  7.2036379 ,\n",
       "        6.9672556 ,  6.57638749,  6.14972427,  5.70697231,  5.24501354,\n",
       "        4.7594115 ,  4.24326711,  3.68524526,  3.06423847,  2.33274995,\n",
       "        1.32215936,  1.29635222,  2.19851035,  2.77487692,  3.20454858,\n",
       "        3.53982543,  3.80428647,  4.01063332,  4.16616627,  4.27518742,\n",
       "        4.33990593,  4.36107963,  4.33801508,  4.26873408,  4.14954207,\n",
       "        3.97459059,  3.73450261,  3.41396376,  2.98522817,  2.388436  ,\n",
       "        1.42220536])"
      ]
     },
     "execution_count": 35,
     "metadata": {},
     "output_type": "execute_result"
    }
   ],
   "source": [
    "sig_err"
   ]
  },
  {
   "cell_type": "code",
   "execution_count": 27,
   "id": "c860826b",
   "metadata": {},
   "outputs": [],
   "source": [
    "sig_def = sig_def = InteractionCrossSections(mceq_air._mceq_db,interaction_model='SIBYLL23C').get_cs(211, mbarn=True)\n"
   ]
  },
  {
   "cell_type": "code",
   "execution_count": 37,
   "id": "3b7fa6e9",
   "metadata": {},
   "outputs": [
    {
     "name": "stderr",
     "output_type": "stream",
     "text": [
      "<>:14: SyntaxWarning: invalid escape sequence '\\s'\n",
      "<>:29: SyntaxWarning: invalid escape sequence '\\p'\n",
      "<>:14: SyntaxWarning: invalid escape sequence '\\s'\n",
      "<>:29: SyntaxWarning: invalid escape sequence '\\p'\n",
      "/tmp/ipykernel_1925282/1744385652.py:14: SyntaxWarning: invalid escape sequence '\\s'\n",
      "  ax.set_ylabel('$\\sigma_{\\pi - \\mathrm{air}}$ [mb]')\n",
      "/tmp/ipykernel_1925282/1744385652.py:29: SyntaxWarning: invalid escape sequence '\\p'\n",
      "  ax_ratio.set_xlabel('$E_{\\pi}$ [GeV]')\n",
      "/tmp/ipykernel_1925282/1744385652.py:21: RuntimeWarning: invalid value encountered in divide\n",
      "  ratio = sig_def / sig_def\n",
      "/tmp/ipykernel_1925282/1744385652.py:22: RuntimeWarning: invalid value encountered in divide\n",
      "  ratio_err = sig_err / sig_def\n"
     ]
    },
    {
     "data": {
      "image/png": "[encoded data removed]",
      "text/plain": [
       "<Figure size 826x410 with 2 Axes>"
      ]
     },
     "metadata": {},
     "output_type": "display_data"
    }
   ],
   "source": [
    "fig, (ax, ax_ratio) = plt.subplots(\n",
    "    nrows=2,\n",
    "    sharex=True,\n",
    "    figsize=(fig_width, 4.1),\n",
    "    gridspec_kw={\"height_ratios\": [3, 1]}\n",
    ")\n",
    "\n",
    "# --- Top plot: cross section ---\n",
    "ax.plot(mceq_air.e_grid, sig_def, label='Sibyll2.3c', color='black')\n",
    "ax.fill_between(mceq_air.e_grid, sig_def - sig_err, sig_def + sig_err,\n",
    "                label='sensitivity', alpha=0.5, color=colors[0])\n",
    "\n",
    "ax.legend(frameon=False, loc='upper left')\n",
    "ax.set_ylabel('$\\sigma_{\\pi - \\mathrm{air}}$ [mb]')\n",
    "ax.set_ylim(-10, 600)\n",
    "ax.set_xscale('log')\n",
    "ax.tick_params(labelbottom=False)\n",
    "\n",
    "# --- Bottom plot: ratio ---\n",
    "# Here we compare the band to itself — result should be ~1 ± uncertainty\n",
    "ratio = sig_def / sig_def\n",
    "ratio_err = sig_err / sig_def\n",
    "\n",
    "ax_ratio.fill_between(mceq_air.e_grid, 1 - ratio_err, 1 + ratio_err,\n",
    "                      color=colors[0], alpha=0.5)\n",
    "\n",
    "ax_ratio.axhline(1, color='black', linestyle='--', linewidth=1)\n",
    "ax_ratio.set_ylabel('ratio')\n",
    "ax_ratio.set_xlabel('$E_{\\pi}$ [GeV]')\n",
    "ax_ratio.set_xscale('log')\n",
    "ax_ratio.set_ylim(0.8, 1.19)\n",
    "ax_ratio.grid(True, linestyle=':', alpha=0.5)\n",
    "\n",
    "# Adjust spacing\n",
    "plt.subplots_adjust(hspace=0.05)\n",
    "\n",
    "plt.savefig(plot_dir + 'pi-air_sensitivity_d1.5km.pdf')"
   ]
  },
  {
   "cell_type": "code",
   "execution_count": 30,
   "id": "e8649e33",
   "metadata": {},
   "outputs": [
    {
     "data": {
      "text/plain": [
       "array([       nan,        nan,        nan,        nan,        nan,\n",
       "              nan,        nan,        nan, 0.00933679, 0.00700756,\n",
       "       0.00396593, 0.00392424, 0.00677939, 0.0087919 , 0.01051982,\n",
       "       0.01214158, 0.01373688, 0.01528856, 0.01681037, 0.0183004 ,\n",
       "       0.01975408, 0.02110929, 0.02201357, 0.02244217, 0.02240769,\n",
       "       0.02190045, 0.02089288, 0.01932525, 0.01714192, 0.01388515,\n",
       "       0.00835832, 0.00869112, 0.01562186, 0.02075082, 0.02521609,\n",
       "       0.02931021, 0.03275031, 0.03334601, 0.03089803, 0.02470047,\n",
       "       0.01402857, 0.02702762, 0.04040661, 0.05217108, 0.06313439,\n",
       "       0.07360235, 0.08373594, 0.09360606, 0.10324286, 0.11156863,\n",
       "       0.11798212, 0.12277517, 0.12620899, 0.1283822 , 0.12944651,\n",
       "       0.1294192 , 0.12839773, 0.12635123, 0.12333501, 0.11927554,\n",
       "       0.11417367, 0.10789206, 0.10032635, 0.09118355, 0.08118364,\n",
       "       0.07120531, 0.06122446, 0.05112422, 0.04076377, 0.02969085,\n",
       "       0.0160136 , 0.01483347, 0.02353526, 0.02740406, 0.02858134,\n",
       "       0.02751221, 0.02435734, 0.02076064, 0.01693193, 0.01263459,\n",
       "       0.0070136 , 0.00672839, 0.01115142, 0.01373427, 0.01544843,\n",
       "       0.01658146, 0.017263  , 0.01755921, 0.0175029 , 0.01710321,\n",
       "       0.01634791, 0.01525155, 0.0140982 , 0.01293433, 0.01175353,\n",
       "       0.01054643, 0.00929895, 0.00798776, 0.00656985, 0.00494786,\n",
       "       0.00277457, 0.00269177, 0.00451742, 0.00564274, 0.00644972,\n",
       "       0.00705209, 0.00750262, 0.00783051, 0.00805361, 0.00818309,\n",
       "       0.00822599, 0.00818605, 0.00806457, 0.0078601 , 0.00756837,\n",
       "       0.00718115, 0.00668447, 0.00605409, 0.00524513, 0.0041582 ,\n",
       "       0.00245357])"
      ]
     },
     "execution_count": 30,
     "metadata": {},
     "output_type": "execute_result"
    }
   ],
   "source": [
    "ratio_err"
   ]
  },
  {
   "cell_type": "code",
   "execution_count": 27,
   "id": "32c5cf3f",
   "metadata": {},
   "outputs": [
    {
     "data": {
      "text/plain": [
       "2.0"
      ]
     },
     "execution_count": 27,
     "metadata": {},
     "output_type": "execute_result"
    }
   ],
   "source": [
    "0.1/0.05"
   ]
  },
  {
   "cell_type": "code",
   "execution_count": null,
   "id": "10b05b9d",
   "metadata": {},
   "outputs": [],
   "source": []
  }
 ],
 "metadata": {
  "kernelspec": {
   "display_name": "cs_env",
   "language": "python",
   "name": "python3"
  },
  "language_info": {
   "codemirror_mode": {
    "name": "ipython",
    "version": 3
   },
   "file_extension": ".py",
   "mimetype": "text/x-python",
   "name": "python",
   "nbconvert_exporter": "python",
   "pygments_lexer": "ipython3",
   "version": "3.12.4"
  }
 },
 "nbformat": 4,
 "nbformat_minor": 5
}
