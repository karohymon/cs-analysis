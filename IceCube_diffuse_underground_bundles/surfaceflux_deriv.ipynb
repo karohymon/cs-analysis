{
 "cells": [
  {
   "cell_type": "code",
   "execution_count": 1,
   "id": "0a7a7d52",
   "metadata": {},
   "outputs": [],
   "source": [
    "import matplotlib.pyplot as plt\n",
    "from matplotlib import cm\n",
    "from matplotlib.colors import Normalize\n",
    "import matplotlib.lines as mlines\n",
    "from scipy.interpolate import UnivariateSpline\n",
    "from tqdm import tqdm\n",
    "import pickle\n",
    "import numpy as np\n",
    "\n",
    "import crflux.models as pm\n",
    "\n",
    "from MCEq.data import InteractionCrossSections\n",
    "from MCEq.core import MCEqRun\n",
    "import  mceq_underground_helper_forsplines as helper\n",
    "from slope_param_functions import sl_depth"
   ]
  },
  {
   "cell_type": "code",
   "execution_count": 2,
   "id": "68db9b1c",
   "metadata": {},
   "outputs": [],
   "source": [
    "plot_dir = '/hetghome/khymon/Plots/cs-analysis/'\n"
   ]
  },
  {
   "cell_type": "code",
   "execution_count": 3,
   "id": "b32d1f55",
   "metadata": {},
   "outputs": [
    {
     "name": "stdout",
     "output_type": "stream",
     "text": [
      "Key: (0.0, 0.0, 0.0)\n",
      "Length of cos_thetas: 3\n",
      "Shape of flux for season jan: (3, 121)\n",
      "Shape of flux for season apr: (3, 121)\n",
      "Shape of flux for season jul: (3, 121)\n",
      "Key: (0.05, 0.0, 0.0)\n",
      "Length of cos_thetas: 3\n",
      "Shape of flux for season jan: (3, 121)\n",
      "Shape of flux for season apr: (3, 121)\n",
      "Shape of flux for season jul: (3, 121)\n",
      "Key: (-0.05, 0.0, 0.0)\n",
      "Length of cos_thetas: 3\n",
      "Shape of flux for season jan: (3, 121)\n",
      "Shape of flux for season apr: (3, 121)\n",
      "Shape of flux for season jul: (3, 121)\n",
      "Key: (0.0, 0.05, 0.0)\n",
      "Length of cos_thetas: 3\n",
      "Shape of flux for season jan: (3, 121)\n",
      "Shape of flux for season apr: (3, 121)\n",
      "Shape of flux for season jul: (3, 121)\n",
      "Key: (0.0, -0.05, 0.0)\n",
      "Length of cos_thetas: 3\n",
      "Shape of flux for season jan: (3, 121)\n",
      "Shape of flux for season apr: (3, 121)\n",
      "Shape of flux for season jul: (3, 121)\n",
      "Key: (0.0, 0.0, 0.05)\n",
      "Length of cos_thetas: 3\n",
      "Shape of flux for season jan: (3, 121)\n",
      "Shape of flux for season apr: (3, 121)\n",
      "Shape of flux for season jul: (3, 121)\n",
      "Key: (0.0, 0.0, -0.05)\n",
      "Length of cos_thetas: 3\n",
      "Shape of flux for season jan: (3, 121)\n",
      "Shape of flux for season apr: (3, 121)\n",
      "Shape of flux for season jul: (3, 121)\n"
     ]
    }
   ],
   "source": [
    "p1_values = [0.00, 0.05, -0.05, 0.00,  0.00, 0.00, 0.00]\n",
    "p2_values = [0.00, 0.00,  0.00, 0.05, -0.05, 0.00, 0.00]\n",
    "p3_values = [0.00, 0.00,  0.00, 0.00,  0.00, 0.05, -0.05]\n",
    "season_values = [\"jan\", \"apr\", \"jul\"]  #  seasons\n",
    "\n",
    "\n",
    "\n",
    "helper.initialize_flux_dicts(p1_values, p2_values, p3_values)\n",
    "helper.some_function_that_uses_angles()\n",
    "angles = helper.angles"
   ]
  },
  {
   "cell_type": "code",
   "execution_count": 4,
   "id": "b352defc",
   "metadata": {},
   "outputs": [],
   "source": [
    "def derivative(param,angle):\n",
    "    if param =='p1':\n",
    "        delta_phi = (helper._flux(angle, \"apr\", p1=0.05, p2=0.0, p3=0.0, iecr=None) - helper._flux(angle, \"apr\", p1=-0.05, p2=0.0, p3= 0.0, iecr=None))\n",
    "    elif param =='p2':\n",
    "        delta_phi = helper._flux(angle, \"apr\", p1=0.0, p2=0.05, p3=0.0, iecr=None) - helper._flux(angle, \"apr\", p1=0.0, p2=-0.05, p3= 0.0, iecr=None)\n",
    "    elif param =='p3':\n",
    "        delta_phi = helper._flux(angle, \"apr\", p1=0.0, p2=0.0, p3=0.05, iecr=None) - helper._flux(angle, \"apr\", p1=0.0, p2=0.0, p3= -0.05, iecr=None)\n",
    "\n",
    "    return delta_phi/(2*0.05)"
   ]
  },
  {
   "cell_type": "code",
   "execution_count": 5,
   "id": "579d7366",
   "metadata": {},
   "outputs": [
    {
     "data": {
      "text/plain": [
       "array([1.       , 0.8660254, 0.5      ])"
      ]
     },
     "execution_count": 5,
     "metadata": {},
     "output_type": "execute_result"
    }
   ],
   "source": [
    "helper.cos_thetas"
   ]
  },
  {
   "cell_type": "code",
   "execution_count": 6,
   "id": "4e842d5e",
   "metadata": {},
   "outputs": [],
   "source": [
    "dphi_a = np.ndarray(shape=(len(angles),91))\n",
    "dphi_b = np.ndarray(shape=(len(angles),91))\n",
    "dphi_c = np.ndarray(shape=(len(angles),91))\n",
    "\n",
    "for i in range(len(angles)):\n",
    "  \n",
    "    dphi_a[i] = derivative(\"p1\",angles[i])\n",
    "    dphi_b[i] = derivative(\"p2\",angles[i])\n",
    "    dphi_c[i] = derivative(\"p3\",angles[i])"
   ]
  },
  {
   "cell_type": "code",
   "execution_count": 7,
   "id": "a5fc7458",
   "metadata": {},
   "outputs": [
    {
     "data": {
      "text/plain": [
       "array([1.       , 0.8660254, 0.5      ])"
      ]
     },
     "execution_count": 7,
     "metadata": {},
     "output_type": "execute_result"
    }
   ],
   "source": [
    "helper.cos_thetas"
   ]
  },
  {
   "cell_type": "code",
   "execution_count": 8,
   "id": "af1b097a",
   "metadata": {},
   "outputs": [],
   "source": [
    "# plot cs modification vs surface flux\n",
    "flux_mod = helper._flux(0., \"apr\", p1=0.05, p2=0.0, p3=0.0, iecr=None) #+ helper._flux(0., \"apr\", p1=0.0, p2=0.05, p3=0.0, iecr=None) + helper._flux(0., \"apr\", p1=0.0, p2=0.0, p3=0.05, iecr=None)\n",
    "flux_def = helper._flux(0., \"apr\", p1=0.0, p2=0.0, p3=0.0, iecr=None)"
   ]
  },
  {
   "cell_type": "code",
   "execution_count": 9,
   "id": "97ccd1e2",
   "metadata": {},
   "outputs": [
    {
     "data": {
      "text/plain": [
       "array([0.99931995, 0.99934163, 0.99936537, 0.99938923, 0.99941433,\n",
       "       0.99944132, 0.99946721, 0.99949124, 0.999512  , 0.99952888,\n",
       "       0.99954121, 0.99954828, 0.99954955, 0.99954667, 0.99954952,\n",
       "       0.99958897, 0.99973106, 1.00005831, 1.00056849, 1.00108174,\n",
       "       1.00148297, 1.0017605 , 1.00218937, 1.00251075, 1.00279642,\n",
       "       1.00296212, 1.00296169, 1.0027426 , 1.00226902, 1.00151562,\n",
       "       1.00045048, 0.99905216, 0.9973156 , 0.99524489, 0.99288727,\n",
       "       0.99038905, 0.98801774, 0.98601979, 0.98444359, 0.98329345,\n",
       "       0.98256688, 0.98224528, 0.9823193 , 0.98277108, 0.98359155,\n",
       "       0.98476226, 0.98628724, 0.9881208 , 0.99011684, 0.99205433,\n",
       "       0.99381194, 0.99540067, 0.99681606, 0.99806177, 0.99913607,\n",
       "       1.00003865, 1.00076933, 1.00132879, 1.00171795, 1.00193879,\n",
       "       1.00199634, 1.00189652, 1.00166138, 1.00134821, 1.0010357 ,\n",
       "       1.00076413, 1.00053405, 1.00034348, 1.00019167, 1.00007722,\n",
       "       0.99999734, 0.99994827, 0.99992505, 0.99992219, 0.99993339,\n",
       "       0.9999514 , 0.99996903, 0.99998189, 0.99999059, 0.99999617,\n",
       "       0.99999956, 1.00000143, 1.00000233, 1.00000265, 1.00000265,\n",
       "       1.00000248, 1.00000225, 1.00000197, 1.00000168, 1.00000138,\n",
       "       1.0000011 ])"
      ]
     },
     "execution_count": 9,
     "metadata": {},
     "output_type": "execute_result"
    }
   ],
   "source": [
    "flux_mod/(flux_def)"
   ]
  },
  {
   "cell_type": "code",
   "execution_count": 10,
   "id": "3145f08f",
   "metadata": {},
   "outputs": [
    {
     "data": {
      "text/plain": [
       "array([[0.99928131, 0.9993073 , 0.99933563, 0.99936393, 0.99939358,\n",
       "        0.99942543, 0.99945594, 0.99948427, 0.99950888, 0.99952922,\n",
       "        0.99954465, 0.99955458, 0.99955852, 0.99955803, 0.9995622 ,\n",
       "        0.99959938, 0.99973041, 1.00003251, 1.00050635, 1.00098473,\n",
       "        1.00135938, 1.00161763, 1.00201621, 1.00231756, 1.00258824,\n",
       "        1.00275184, 1.00276688, 1.00258576, 1.00217573, 1.0015132 ,\n",
       "        1.00056678, 0.99931279, 0.99774376, 0.99585879, 0.99369311,\n",
       "        0.99135623, 0.98905223, 0.98697406, 0.98516983, 0.98365189,\n",
       "        0.98242605, 0.98148128, 0.9808145 , 0.98041033, 0.98025985,\n",
       "        0.98034179, 0.98065548, 0.98116756, 0.98179122, 0.98239461,\n",
       "        0.98290369, 0.98333805, 0.98368747, 0.98396975, 0.9841904 ,\n",
       "        0.98435578, 0.98446764, 0.984518  , 0.98452934, 0.98451203,\n",
       "        0.98446566, 0.98440666, 0.98436449, 0.98441772, 0.9846776 ,\n",
       "        0.98519298, 0.9859434 , 0.98692894, 0.98811646, 0.98946211,\n",
       "        0.99092203, 0.99243571, 0.9939278 , 0.99534595, 0.99662474,\n",
       "        0.99770716, 0.99855309, 0.99915427, 0.99956052, 0.99982141,\n",
       "        0.99997957, 1.00006698, 1.00010898, 1.00012379, 1.00012373,\n",
       "        1.00011595, 1.00010481, 1.00009192, 1.0000784 , 1.00006454,\n",
       "        1.00005115],\n",
       "       [0.99950029, 0.9995151 , 0.99953135, 0.99954771, 0.99956491,\n",
       "        0.99958337, 0.99960097, 0.99961712, 0.99963072, 0.99964123,\n",
       "        0.999648  , 0.9996505 , 0.99964884, 0.99964606, 0.99965334,\n",
       "        0.9996981 , 0.99982806, 1.00008985, 1.00046556, 1.00083971,\n",
       "        1.00114642, 1.00139591, 1.0017778 , 1.00207831, 1.00236629,\n",
       "        1.00256062, 1.00261761, 1.00248191, 1.00211149, 1.00147211,\n",
       "        1.00052145, 0.99922608, 0.99757029, 0.99554855, 0.99319756,\n",
       "        0.99063746, 0.98809316, 0.98578042, 0.98375982, 0.98205152,\n",
       "        0.98066653, 0.97959591, 0.97883723, 0.97837398, 0.97819621,\n",
       "        0.97827966, 0.97862235, 0.97918688, 0.97987689, 0.98054686,\n",
       "        0.98111507, 0.98160265, 0.98199772, 0.98231996, 0.9825753 ,\n",
       "        0.98277098, 0.98290879, 0.98298012, 0.98300971, 0.983009  ,\n",
       "        0.98297765, 0.98293351, 0.98290841, 0.98298804, 0.98329302,\n",
       "        0.98387535, 0.98471155, 0.98580028, 0.98710405, 0.98857537,\n",
       "        0.99016745, 0.99181451, 0.99343513, 0.99497308, 0.99635816,\n",
       "        0.99752921, 0.99844346, 0.99909266, 0.999531  , 0.99981217,\n",
       "        0.99998229, 1.00007595, 1.00012056, 1.00013582, 1.00013508,\n",
       "        1.00012608, 1.00011357, 1.00009929, 1.00008444, 1.00006934,\n",
       "        1.00005482],\n",
       "       [0.99995253, 0.99995189, 0.99995119, 0.99995044, 0.99994959,\n",
       "        0.99994866, 0.99994762, 0.99994649, 0.99994534, 0.99994431,\n",
       "        0.99994379, 0.99994463, 0.99994847, 0.99995815, 0.99997796,\n",
       "        1.00001301, 1.00006735, 1.00014164, 1.00023252, 1.00033764,\n",
       "        1.00046202, 1.0006268 , 1.00085117, 1.00106604, 1.00131961,\n",
       "        1.00154351, 1.00171003, 1.00175638, 1.00162114, 1.00123232,\n",
       "        1.00049654, 0.99931316, 0.99758537, 0.99522644, 0.99221343,\n",
       "        0.98865514, 0.98483293, 0.98106918, 0.97752813, 0.97432481,\n",
       "        0.97155227, 0.9692598 , 0.96748674, 0.96623632, 0.96550915,\n",
       "        0.96527166, 0.96551944, 0.96618669, 0.96710811, 0.9680404 ,\n",
       "        0.96884625, 0.96954836, 0.97011789, 0.9705827 , 0.97094958,\n",
       "        0.97122729, 0.97141646, 0.97150179, 0.97152422, 0.97150228,\n",
       "        0.97143589, 0.9713544 , 0.97130993, 0.97144773, 0.9719697 ,\n",
       "        0.97295906, 0.97437475, 0.97621376, 0.97841039, 0.98088454,\n",
       "        0.98355811, 0.98632062, 0.98903606, 0.99161113, 0.99392943,\n",
       "        0.99588887, 0.99741802, 0.99850373, 0.99923707, 0.99970737,\n",
       "        0.9999912 , 1.00014631, 1.00021863, 1.00024133, 1.00023708,\n",
       "        1.00021914, 1.00019572, 1.0001698 , 1.00014346, 1.00011713,\n",
       "        1.00009216]])"
      ]
     },
     "execution_count": 10,
     "metadata": {},
     "output_type": "execute_result"
    }
   ],
   "source": [
    "flux_mod = (dphi_a * 0.05 + dphi_b * 0.05 + dphi_c * 0.05)+flux_def\n",
    "\n",
    "flux_mod/flux_def"
   ]
  },
  {
   "cell_type": "code",
   "execution_count": 12,
   "id": "d2c49a85",
   "metadata": {},
   "outputs": [
    {
     "name": "stdout",
     "output_type": "stream",
     "text": [
      "Key: (0.05, 0.05, 0.05)\n",
      "Length of cos_thetas: 3\n",
      "Shape of flux for season jan: (3, 121)\n",
      "Shape of flux for season apr: (3, 121)\n",
      "Shape of flux for season jul: (3, 121)\n"
     ]
    },
    {
     "data": {
      "text/plain": [
       "array([0.99929851, 0.99932312, 0.99934997, 0.99937686, 0.99940507,\n",
       "       0.99943537, 0.99946442, 0.9994914 , 0.99951482, 0.99953412,\n",
       "       0.99954865, 0.99955779, 0.99956104, 0.99955994, 0.99956359,\n",
       "       0.99960037, 0.9997312 , 1.00003317, 1.00050629, 1.00098372,\n",
       "       1.00135779, 1.0016163 , 1.00201531, 1.00231684, 1.00258717,\n",
       "       1.00274936, 1.00276146, 1.00257569, 1.00215971, 1.001491  ,\n",
       "       1.00054022, 0.99928685, 0.99772734, 0.99586577, 0.99374256,\n",
       "       0.99146949, 0.98924684, 0.9872591 , 0.98554745, 0.98411842,\n",
       "       0.98297275, 0.98209565, 0.98148103, 0.98111194, 0.98097864,\n",
       "       0.98106035, 0.98135693, 0.98183826, 0.98242479, 0.98299403,\n",
       "       0.98347616, 0.98388918, 0.9842225 , 0.98449273, 0.98470483,\n",
       "       0.98486469, 0.98497392, 0.98502491, 0.98503964, 0.98502853,\n",
       "       0.98499165, 0.98494539, 0.98491802, 0.9849831 , 0.98524386,\n",
       "       0.98574483, 0.98646622, 0.98740874, 0.98854173, 0.98982484,\n",
       "       0.99121808, 0.99266528, 0.99409559, 0.99545979, 0.99669513,\n",
       "       0.99774588, 0.99857158, 0.99916182, 0.99956287, 0.99982174,\n",
       "       0.99997946, 1.00006707, 1.00010943, 1.00012454, 1.00012467,\n",
       "       1.00011694, 1.00010577, 1.00009277, 1.00007911, 1.00006509,\n",
       "       1.00005153])"
      ]
     },
     "execution_count": 12,
     "metadata": {},
     "output_type": "execute_result"
    }
   ],
   "source": [
    "p1_values = [0.05]\n",
    "p2_values = [0.05]\n",
    "p3_values = [0.05]\n",
    "season_values = [\"jan\", \"apr\", \"jul\"]  #  seasons\n",
    "\n",
    "\n",
    "\n",
    "helper.initialize_flux_dicts(p1_values, p2_values, p3_values)\n",
    "\n",
    "flux_mod = helper._flux(0., \"apr\", p1=0.05, p2=0.05, p3=0.05, iecr=None)\n",
    "flux_mod/flux_def"
   ]
  },
  {
   "cell_type": "code",
   "execution_count": 9,
   "id": "af9011a9",
   "metadata": {},
   "outputs": [
    {
     "data": {
      "text/plain": [
       "array([1.99656776e-03, 1.81026468e-04, 4.25520437e-05, 1.46113949e-05,\n",
       "       6.22316282e-06, 3.03160918e-06, 1.63016977e-06, 9.48314122e-07,\n",
       "       5.88972913e-07, 3.83016549e-07, 2.58651224e-07, 1.82732345e-07,\n",
       "       1.33024917e-07, 9.90184977e-08, 7.56784924e-08, 5.87088728e-08,\n",
       "       4.65523583e-08, 3.74632395e-08, 3.05456400e-08, 2.51093577e-08,\n",
       "       2.09375036e-08, 1.76198383e-08, 1.49508423e-08, 1.27383282e-08,\n",
       "       1.09687462e-08, 9.50330688e-09, 8.28015244e-09, 7.25182939e-09,\n",
       "       6.34121833e-09, 5.60878714e-09, 4.98111442e-09, 4.44040925e-09,\n",
       "       3.97239946e-09, 3.56550682e-09, 3.21188799e-09, 2.90023885e-09,\n",
       "       2.62608390e-09, 2.38406803e-09, 2.16971649e-09, 1.97927210e-09,\n",
       "       1.80956563e-09, 1.64844321e-09, 1.51398329e-09, 1.39314628e-09,\n",
       "       1.28428868e-09, 1.18599650e-09, 1.09705174e-09, 1.01640039e-09,\n",
       "       9.43125044e-10, 8.76425115e-10, 8.11643264e-10, 7.56577589e-10,\n",
       "       7.06174008e-10, 6.59962995e-10, 6.17529554e-10, 5.78506071e-10,\n",
       "       5.42566212e-10, 5.09419690e-10, 4.78807771e-10, 4.50499399e-10,\n",
       "       4.24133885e-10, 3.99849980e-10, 3.77309697e-10, 3.56363581e-10,\n",
       "       3.36876992e-10, 3.18728448e-10, 3.01808165e-10, 2.86016787e-10,\n",
       "       2.71264263e-10, 2.57468859e-10, 2.44556290e-10, 2.32458952e-10,\n",
       "       2.21115239e-10, 2.09894179e-10, 1.99943913e-10, 1.90588699e-10,\n",
       "       1.81785883e-10, 1.73496358e-10, 1.65684234e-10, 1.58316535e-10,\n",
       "       1.51362911e-10, 1.44795407e-10, 1.38588216e-10, 1.32717534e-10,\n",
       "       1.27161391e-10, 1.21899492e-10, 1.16913068e-10, 1.12184744e-10,\n",
       "       1.07698424e-10, 1.02945437e-10, 9.89349654e-11, 9.51224686e-11,\n",
       "       9.14961584e-11, 8.80450662e-11, 8.47589774e-11, 8.16283728e-11,\n",
       "       7.86443742e-11, 7.57986957e-11, 7.30835981e-11, 7.04918479e-11,\n",
       "       6.80166799e-11])"
      ]
     },
     "execution_count": 9,
     "metadata": {},
     "output_type": "execute_result"
    }
   ],
   "source": [
    "# plot dN/dNmu\n",
    "d = 1.5\n",
    "angle = 0.\n",
    "X = sl_depth(d,angle)\n",
    "\n",
    "\n",
    "threshold = 500\n",
    "p1 = 0.05\n",
    "p2 = 0.\n",
    "p3 = 0.\n",
    "season = \"apr\"\n",
    "\n",
    "1e4*helper.mult_dist(X, angle,\n",
    "                        pm.GlobalSplineFitBeta(),\"yields_\" + season, \n",
    "                        p1, p2,p3,\n",
    "                        norm=False,threshold=threshold#))[0]\n",
    "                    ) / helper.rates(X, angle, season, p1, p2, p3, threshold)"
   ]
  },
  {
   "cell_type": "code",
   "execution_count": 10,
   "id": "484f5ffd",
   "metadata": {},
   "outputs": [],
   "source": [
    "def dNdN_mu(d, p1, p2, p3):\n",
    "    \n",
    "    angle = 0.\n",
    "    X = sl_depth(d,angle)\n",
    "    season = \"apr\"\n",
    "\n",
    "    return 1e4*helper.mult_dist(X, angle,\n",
    "                        pm.GlobalSplineFitBeta(),\"yields_\" + season, \n",
    "                        p1, p2,p3,\n",
    "                        norm=False,threshold=threshold#))[0]\n",
    "                    ) / helper.rates(X, angle, season, p1, p2, p3, threshold)"
   ]
  },
  {
   "cell_type": "code",
   "execution_count": null,
   "id": "0104d5bc",
   "metadata": {},
   "outputs": [],
   "source": [
    "# plot in log log for 1.5 km depth and 2.5k"
   ]
  }
 ],
 "metadata": {
  "kernelspec": {
   "display_name": "cs_env",
   "language": "python",
   "name": "python3"
  },
  "language_info": {
   "codemirror_mode": {
    "name": "ipython",
    "version": 3
   },
   "file_extension": ".py",
   "mimetype": "text/x-python",
   "name": "python",
   "nbconvert_exporter": "python",
   "pygments_lexer": "ipython3",
   "version": "3.12.4"
  }
 },
 "nbformat": 4,
 "nbformat_minor": 5
}
