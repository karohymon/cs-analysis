{
 "cells": [
  {
   "cell_type": "code",
   "execution_count": 1,
   "id": "0a7a7d52",
   "metadata": {},
   "outputs": [],
   "source": [
    "import matplotlib.pyplot as plt\n",
    "from matplotlib import cm\n",
    "from matplotlib.colors import Normalize\n",
    "import matplotlib.lines as mlines\n",
    "from scipy.interpolate import UnivariateSpline\n",
    "from tqdm import tqdm\n",
    "import pickle\n",
    "import numpy as np\n",
    "\n",
    "import crflux.models as pm\n",
    "\n",
    "from MCEq.data import InteractionCrossSections\n",
    "from MCEq.core import MCEqRun\n",
    "import  mceq_underground_helper_forsplines as helper\n",
    "import  mceq_underground_helper_deriv as deriv\n",
    "from slope_param_functions import sl_depth\n",
    "import seaborn as sns"
   ]
  },
  {
   "cell_type": "code",
   "execution_count": 2,
   "id": "06709552",
   "metadata": {},
   "outputs": [],
   "source": [
    "plt.rcParams.update({\n",
    "    \"font.size\": 12,\n",
    "    \"axes.labelsize\": 12,\n",
    "    \"xtick.labelsize\": 12,\n",
    "    \"ytick.labelsize\": 12\n",
    "})\n",
    "\n",
    "colors = sns.color_palette(\"colorblind\")"
   ]
  },
  {
   "cell_type": "code",
   "execution_count": 3,
   "id": "68db9b1c",
   "metadata": {},
   "outputs": [],
   "source": [
    "plot_dir = '/hetghome/khymon/Plots/cs-analysis/'\n"
   ]
  },
  {
   "cell_type": "code",
   "execution_count": 4,
   "id": "b32d1f55",
   "metadata": {},
   "outputs": [
    {
     "name": "stdout",
     "output_type": "stream",
     "text": [
      "Key: (0.0, 0.0, 0.0)\n",
      "Length of cos_thetas: 3\n",
      "Shape of flux for season jan: (3, 121)\n",
      "Shape of flux for season apr: (3, 121)\n",
      "Shape of flux for season jul: (3, 121)\n",
      "Key: (0.05, 0.0, 0.0)\n",
      "Length of cos_thetas: 3\n",
      "Shape of flux for season jan: (3, 121)\n",
      "Shape of flux for season apr: (3, 121)\n",
      "Shape of flux for season jul: (3, 121)\n",
      "Key: (-0.05, 0.0, 0.0)\n",
      "Length of cos_thetas: 3\n",
      "Shape of flux for season jan: (3, 121)\n",
      "Shape of flux for season apr: (3, 121)\n",
      "Shape of flux for season jul: (3, 121)\n",
      "Key: (0.0, 0.05, 0.0)\n",
      "Length of cos_thetas: 3\n",
      "Shape of flux for season jan: (3, 121)\n",
      "Shape of flux for season apr: (3, 121)\n",
      "Shape of flux for season jul: (3, 121)\n",
      "Key: (0.0, -0.05, 0.0)\n",
      "Length of cos_thetas: 3\n",
      "Shape of flux for season jan: (3, 121)\n",
      "Shape of flux for season apr: (3, 121)\n",
      "Shape of flux for season jul: (3, 121)\n",
      "Key: (0.0, 0.0, 0.05)\n",
      "Length of cos_thetas: 3\n",
      "Shape of flux for season jan: (3, 121)\n",
      "Shape of flux for season apr: (3, 121)\n",
      "Shape of flux for season jul: (3, 121)\n",
      "Key: (0.0, 0.0, -0.05)\n",
      "Length of cos_thetas: 3\n",
      "Shape of flux for season jan: (3, 121)\n",
      "Shape of flux for season apr: (3, 121)\n",
      "Shape of flux for season jul: (3, 121)\n"
     ]
    }
   ],
   "source": [
    "p1_values = [0.00, 0.05, -0.05, 0.00,  0.00, 0.00, 0.00]\n",
    "p2_values = [0.00, 0.00,  0.00, 0.05, -0.05, 0.00, 0.00]\n",
    "p3_values = [0.00, 0.00,  0.00, 0.00,  0.00, 0.05, -0.05]\n",
    "season_values = [\"jan\", \"apr\", \"jul\"]  #  seasons\n",
    "\n",
    "\n",
    "\n",
    "helper.initialize_flux_dicts(p1_values, p2_values, p3_values)\n",
    "helper.some_function_that_uses_angles()\n",
    "angles = helper.angles"
   ]
  },
  {
   "cell_type": "code",
   "execution_count": 5,
   "id": "b352defc",
   "metadata": {},
   "outputs": [],
   "source": [
    "def flux_derivative(param,angle):\n",
    "    if param =='p1':\n",
    "        delta_phi = (helper._flux(angle, \"apr\", p1=0.05, p2=0.0, p3=0.0, iecr=None) - helper._flux(angle, \"apr\", p1=-0.05, p2=0.0, p3= 0.0, iecr=None))\n",
    "    elif param =='p2':\n",
    "        delta_phi = helper._flux(angle, \"apr\", p1=0.0, p2=0.05, p3=0.0, iecr=None) - helper._flux(angle, \"apr\", p1=0.0, p2=-0.05, p3= 0.0, iecr=None)\n",
    "    elif param =='p3':\n",
    "        delta_phi = helper._flux(angle, \"apr\", p1=0.0, p2=0.0, p3=0.05, iecr=None) - helper._flux(angle, \"apr\", p1=0.0, p2=0.0, p3= -0.05, iecr=None)\n",
    "\n",
    "    return delta_phi/(2*0.05)"
   ]
  },
  {
   "cell_type": "code",
   "execution_count": 6,
   "id": "579d7366",
   "metadata": {},
   "outputs": [
    {
     "data": {
      "text/plain": [
       "array([ 0., 30., 60.])"
      ]
     },
     "execution_count": 6,
     "metadata": {},
     "output_type": "execute_result"
    }
   ],
   "source": [
    "helper.angles"
   ]
  },
  {
   "cell_type": "code",
   "execution_count": 7,
   "id": "4e842d5e",
   "metadata": {},
   "outputs": [],
   "source": [
    "dphi_a = np.ndarray(shape=(len(angles),91))\n",
    "dphi_b = np.ndarray(shape=(len(angles),91))\n",
    "dphi_c = np.ndarray(shape=(len(angles),91))\n",
    "\n",
    "for i in range(len(angles)):\n",
    "  \n",
    "    dphi_a[i] = flux_derivative(\"p1\",angles[i])\n",
    "    dphi_b[i] = flux_derivative(\"p2\",angles[i])\n",
    "    dphi_c[i] = flux_derivative(\"p3\",angles[i])"
   ]
  },
  {
   "cell_type": "code",
   "execution_count": 8,
   "id": "629ed41e",
   "metadata": {},
   "outputs": [],
   "source": [
    "with open(\"/hetghome/khymon/cs-files/deriv_surfaceflux.pkl\", \"wb\") as f:\n",
    "    pickle.dump(( dphi_a, dphi_b, dphi_c), f)"
   ]
  },
  {
   "cell_type": "code",
   "execution_count": null,
   "id": "a10f4834",
   "metadata": {},
   "outputs": [],
   "source": [
    "dphi_a_wrapped = {\n",
    "    (0.05,0.0,0.0): {\n",
    "        \"apr\": dphi_a  # your array for season 'apr'\n",
    "    }\n",
    "}\n",
    "\n",
    "dphi_a_wrapped = {\n",
    "    (0.0,0.05,0.0): {\n",
    "        \"apr\": dphi_a  # your array for season 'apr'\n",
    "    }\n",
    "}"
   ]
  },
  {
   "cell_type": "code",
   "execution_count": 53,
   "id": "bf500b14",
   "metadata": {},
   "outputs": [],
   "source": [
    "with open(\"/hetghome/khymon/cs-files/deriv_surfaceflux.pkl\", \"wb\") as f:\n",
    "    pickle.dump(( dphi_a, dphi_b, dphi_c), f)"
   ]
  },
  {
   "cell_type": "code",
   "execution_count": 52,
   "id": "a5fc7458",
   "metadata": {},
   "outputs": [
    {
     "data": {
      "text/plain": [
       "(3, 91)"
      ]
     },
     "execution_count": 52,
     "metadata": {},
     "output_type": "execute_result"
    }
   ],
   "source": [
    "dphi_a.shape"
   ]
  },
  {
   "cell_type": "code",
   "execution_count": 8,
   "id": "af1b097a",
   "metadata": {},
   "outputs": [],
   "source": [
    "# plot cs modification vs surface flux\n",
    "flux_mod = helper._flux(0., \"apr\", p1=0.05, p2=0.0, p3=0.0, iecr=None) #+ helper._flux(0., \"apr\", p1=0.0, p2=0.05, p3=0.0, iecr=None) + helper._flux(0., \"apr\", p1=0.0, p2=0.0, p3=0.05, iecr=None)\n",
    "flux_def = helper._flux(0., \"apr\", p1=0.0, p2=0.0, p3=0.0, iecr=None)"
   ]
  },
  {
   "cell_type": "code",
   "execution_count": 9,
   "id": "97ccd1e2",
   "metadata": {},
   "outputs": [
    {
     "data": {
      "text/plain": [
       "array([0.99931995, 0.99934163, 0.99936537, 0.99938923, 0.99941433,\n",
       "       0.99944132, 0.99946721, 0.99949124, 0.999512  , 0.99952888,\n",
       "       0.99954121, 0.99954828, 0.99954955, 0.99954667, 0.99954952,\n",
       "       0.99958897, 0.99973106, 1.00005831, 1.00056849, 1.00108174,\n",
       "       1.00148297, 1.0017605 , 1.00218937, 1.00251075, 1.00279642,\n",
       "       1.00296212, 1.00296169, 1.0027426 , 1.00226902, 1.00151562,\n",
       "       1.00045048, 0.99905216, 0.9973156 , 0.99524489, 0.99288727,\n",
       "       0.99038905, 0.98801774, 0.98601979, 0.98444359, 0.98329345,\n",
       "       0.98256688, 0.98224528, 0.9823193 , 0.98277108, 0.98359155,\n",
       "       0.98476226, 0.98628724, 0.9881208 , 0.99011684, 0.99205433,\n",
       "       0.99381194, 0.99540067, 0.99681606, 0.99806177, 0.99913607,\n",
       "       1.00003865, 1.00076933, 1.00132879, 1.00171795, 1.00193879,\n",
       "       1.00199634, 1.00189652, 1.00166138, 1.00134821, 1.0010357 ,\n",
       "       1.00076413, 1.00053405, 1.00034348, 1.00019167, 1.00007722,\n",
       "       0.99999734, 0.99994827, 0.99992505, 0.99992219, 0.99993339,\n",
       "       0.9999514 , 0.99996903, 0.99998189, 0.99999059, 0.99999617,\n",
       "       0.99999956, 1.00000143, 1.00000233, 1.00000265, 1.00000265,\n",
       "       1.00000248, 1.00000225, 1.00000197, 1.00000168, 1.00000138,\n",
       "       1.0000011 ])"
      ]
     },
     "execution_count": 9,
     "metadata": {},
     "output_type": "execute_result"
    }
   ],
   "source": [
    "flux_mod/(flux_def)"
   ]
  },
  {
   "cell_type": "code",
   "execution_count": 10,
   "id": "3145f08f",
   "metadata": {},
   "outputs": [
    {
     "data": {
      "text/plain": [
       "array([[0.99928131, 0.9993073 , 0.99933563, 0.99936393, 0.99939358,\n",
       "        0.99942543, 0.99945594, 0.99948427, 0.99950888, 0.99952922,\n",
       "        0.99954465, 0.99955458, 0.99955852, 0.99955803, 0.9995622 ,\n",
       "        0.99959938, 0.99973041, 1.00003251, 1.00050635, 1.00098473,\n",
       "        1.00135938, 1.00161763, 1.00201621, 1.00231756, 1.00258824,\n",
       "        1.00275184, 1.00276688, 1.00258576, 1.00217573, 1.0015132 ,\n",
       "        1.00056678, 0.99931279, 0.99774376, 0.99585879, 0.99369311,\n",
       "        0.99135623, 0.98905223, 0.98697406, 0.98516983, 0.98365189,\n",
       "        0.98242605, 0.98148128, 0.9808145 , 0.98041033, 0.98025985,\n",
       "        0.98034179, 0.98065548, 0.98116756, 0.98179122, 0.98239461,\n",
       "        0.98290369, 0.98333805, 0.98368747, 0.98396975, 0.9841904 ,\n",
       "        0.98435578, 0.98446764, 0.984518  , 0.98452934, 0.98451203,\n",
       "        0.98446566, 0.98440666, 0.98436449, 0.98441772, 0.9846776 ,\n",
       "        0.98519298, 0.9859434 , 0.98692894, 0.98811646, 0.98946211,\n",
       "        0.99092203, 0.99243571, 0.9939278 , 0.99534595, 0.99662474,\n",
       "        0.99770716, 0.99855309, 0.99915427, 0.99956052, 0.99982141,\n",
       "        0.99997957, 1.00006698, 1.00010898, 1.00012379, 1.00012373,\n",
       "        1.00011595, 1.00010481, 1.00009192, 1.0000784 , 1.00006454,\n",
       "        1.00005115],\n",
       "       [0.99950029, 0.9995151 , 0.99953135, 0.99954771, 0.99956491,\n",
       "        0.99958337, 0.99960097, 0.99961712, 0.99963072, 0.99964123,\n",
       "        0.999648  , 0.9996505 , 0.99964884, 0.99964606, 0.99965334,\n",
       "        0.9996981 , 0.99982806, 1.00008985, 1.00046556, 1.00083971,\n",
       "        1.00114642, 1.00139591, 1.0017778 , 1.00207831, 1.00236629,\n",
       "        1.00256062, 1.00261761, 1.00248191, 1.00211149, 1.00147211,\n",
       "        1.00052145, 0.99922608, 0.99757029, 0.99554855, 0.99319756,\n",
       "        0.99063746, 0.98809316, 0.98578042, 0.98375982, 0.98205152,\n",
       "        0.98066653, 0.97959591, 0.97883723, 0.97837398, 0.97819621,\n",
       "        0.97827966, 0.97862235, 0.97918688, 0.97987689, 0.98054686,\n",
       "        0.98111507, 0.98160265, 0.98199772, 0.98231996, 0.9825753 ,\n",
       "        0.98277098, 0.98290879, 0.98298012, 0.98300971, 0.983009  ,\n",
       "        0.98297765, 0.98293351, 0.98290841, 0.98298804, 0.98329302,\n",
       "        0.98387535, 0.98471155, 0.98580028, 0.98710405, 0.98857537,\n",
       "        0.99016745, 0.99181451, 0.99343513, 0.99497308, 0.99635816,\n",
       "        0.99752921, 0.99844346, 0.99909266, 0.999531  , 0.99981217,\n",
       "        0.99998229, 1.00007595, 1.00012056, 1.00013582, 1.00013508,\n",
       "        1.00012608, 1.00011357, 1.00009929, 1.00008444, 1.00006934,\n",
       "        1.00005482],\n",
       "       [0.99995253, 0.99995189, 0.99995119, 0.99995044, 0.99994959,\n",
       "        0.99994866, 0.99994762, 0.99994649, 0.99994534, 0.99994431,\n",
       "        0.99994379, 0.99994463, 0.99994847, 0.99995815, 0.99997796,\n",
       "        1.00001301, 1.00006735, 1.00014164, 1.00023252, 1.00033764,\n",
       "        1.00046202, 1.0006268 , 1.00085117, 1.00106604, 1.00131961,\n",
       "        1.00154351, 1.00171003, 1.00175638, 1.00162114, 1.00123232,\n",
       "        1.00049654, 0.99931316, 0.99758537, 0.99522644, 0.99221343,\n",
       "        0.98865514, 0.98483293, 0.98106918, 0.97752813, 0.97432481,\n",
       "        0.97155227, 0.9692598 , 0.96748674, 0.96623632, 0.96550915,\n",
       "        0.96527166, 0.96551944, 0.96618669, 0.96710811, 0.9680404 ,\n",
       "        0.96884625, 0.96954836, 0.97011789, 0.9705827 , 0.97094958,\n",
       "        0.97122729, 0.97141646, 0.97150179, 0.97152422, 0.97150228,\n",
       "        0.97143589, 0.9713544 , 0.97130993, 0.97144773, 0.9719697 ,\n",
       "        0.97295906, 0.97437475, 0.97621376, 0.97841039, 0.98088454,\n",
       "        0.98355811, 0.98632062, 0.98903606, 0.99161113, 0.99392943,\n",
       "        0.99588887, 0.99741802, 0.99850373, 0.99923707, 0.99970737,\n",
       "        0.9999912 , 1.00014631, 1.00021863, 1.00024133, 1.00023708,\n",
       "        1.00021914, 1.00019572, 1.0001698 , 1.00014346, 1.00011713,\n",
       "        1.00009216]])"
      ]
     },
     "execution_count": 10,
     "metadata": {},
     "output_type": "execute_result"
    }
   ],
   "source": [
    "flux_mod = (dphi_a * 0.05 + dphi_b * 0.05 + dphi_c * 0.05)+flux_def\n",
    "\n",
    "flux_mod/flux_def"
   ]
  },
  {
   "cell_type": "code",
   "execution_count": 34,
   "id": "d2c49a85",
   "metadata": {},
   "outputs": [
    {
     "name": "stdout",
     "output_type": "stream",
     "text": [
      "Key: (0.2, 0.2, 0.2)\n",
      "Length of cos_thetas: 3\n",
      "Shape of flux for season jan: (3, 121)\n",
      "Shape of flux for season apr: (3, 121)\n",
      "Shape of flux for season jul: (3, 121)\n"
     ]
    },
    {
     "data": {
      "text/plain": [
       "array([0.99737606, 0.99746035, 0.99755267, 0.99764569, 0.9977436 ,\n",
       "       0.99784882, 0.9979499 , 0.99804378, 0.99812507, 0.9981914 ,\n",
       "       0.99824009, 0.99826844, 0.99827431, 0.99826374, 0.99827306,\n",
       "       0.9984163 , 0.99893799, 1.00014487, 1.00203085, 1.00393239,\n",
       "       1.00542513, 1.00646488, 1.00806875, 1.00927998, 1.01036026,\n",
       "       1.01099517, 1.01101143, 1.01021609, 1.00848503, 1.00574211,\n",
       "       1.00189438, 0.99689599, 0.99077517, 0.98359853, 0.97557467,\n",
       "       0.9671623 , 0.95911123, 0.9520672 , 0.94612762, 0.9412674 ,\n",
       "       0.93744763, 0.93458088, 0.9326201 , 0.93148601, 0.93113248,\n",
       "       0.9314789 , 0.93252421, 0.93417111, 0.93616334, 0.93809941,\n",
       "       0.93974516, 0.94116369, 0.94231427, 0.9432562 , 0.94400637,\n",
       "       0.94458583, 0.94499991, 0.94522064, 0.94532862, 0.94536219,\n",
       "       0.94532178, 0.94526755, 0.94529596, 0.94565128, 0.94667357,\n",
       "       0.94850692, 0.95108476, 0.95441875, 0.95841066, 0.96293129,\n",
       "       0.96785454, 0.97299437, 0.97810792, 0.98302743, 0.9875284 ,\n",
       "       0.99140333, 0.99449125, 0.99673257, 0.99827837, 0.99929065,\n",
       "       0.99991638, 1.00026935, 1.00044332, 1.00050761, 1.00051045,\n",
       "       1.00048034, 1.00043523, 1.00038193, 1.00032544, 1.00026723,\n",
       "       1.000211  ])"
      ]
     },
     "execution_count": 34,
     "metadata": {},
     "output_type": "execute_result"
    }
   ],
   "source": [
    "p1_values = [0.2]\n",
    "p2_values = [0.2]\n",
    "p3_values = [0.2]\n",
    "season_values = [\"jan\", \"apr\", \"jul\"]  #  seasons\n",
    "\n",
    "\n",
    "\n",
    "helper.initialize_flux_dicts(p1_values, p2_values, p3_values)\n",
    "\n",
    "flux_mod = helper._flux(0., \"apr\", p1=0.2, p2=0.2, p3=0.2, iecr=None)\n",
    "flux_mod/flux_def"
   ]
  },
  {
   "cell_type": "code",
   "execution_count": 21,
   "id": "62ba30cf",
   "metadata": {},
   "outputs": [],
   "source": [
    "E = helper.mute_energies"
   ]
  },
  {
   "cell_type": "code",
   "execution_count": 41,
   "id": "616b91d8",
   "metadata": {},
   "outputs": [
    {
     "data": {
      "text/plain": [
       "<Figure size 2067.5x1550.62 with 0 Axes>"
      ]
     },
     "metadata": {},
     "output_type": "display_data"
    },
    {
     "data": {
      "image/png": "[encoded data removed]",
      "text/plain": [
       "<Figure size 413.5x310.125 with 2 Axes>"
      ]
     },
     "metadata": {},
     "output_type": "display_data"
    }
   ],
   "source": [
    "A4_width_inches = 0.5*8.27  # Width of A4 paper in inches\n",
    "A4_height_inches = A4_width_inches * 0.75 # Height is one-third of width\n",
    "figsize = (A4_width_inches, A4_height_inches)\n",
    "\n",
    "# Create subplots using GridSpec\n",
    "fig = plt.figure(figsize=figsize, dpi=500)\n",
    "fig.tight_layout(pad=0.4)\n",
    "\n",
    "# Create a gridspec with 2 rows and 1 column, where the second row will be narrow\n",
    "fig, (ax1, ax2) = plt.subplots(2, 1, figsize=(A4_width_inches, A4_height_inches), sharex=True, height_ratios=[3,1 ])\n",
    "\n",
    "\n",
    "# Plot lines with labels (same as before)\n",
    "ax1.plot(E, E**3. * flux_mod , color=colors[0], label=r'modified')\n",
    "ax1.plot(E, E**3. * flux_def , color='black', label=r'default',ls='--')\n",
    "\n",
    "\n",
    "# Axes labels and text (same as before)\n",
    "#ax1.set_xlabel('$E$/GeV')\n",
    "ax1.set_ylabel(r'$E^{3}$ $\\frac{\\mathrm{d}\\Phi_{\\mu}}{\\mathrm{d}E}$' + '\\n' + r'[GeV$^{2}$ cm$^{-2}$s$^{-1}$sr$^{-1}$]')\n",
    "#ax1.text(0.35, 0.05, '$90^{\\circ} \\leq \\Theta \\leq 110^{\\circ}$', verticalalignment='bottom', horizontalalignment='right', transform=ax1.transAxes, color=colors[3])\n",
    "plt.setp(ax1.get_xticklabels(), visible=False) \n",
    "\n",
    "# Log scales and limits (same as before)\n",
    "ax1.set_xscale('log')\n",
    "ax1.set_yscale('log')\n",
    "#ax1.set_xlim(50., 1e6)\n",
    "#ax1.set_ylim(2e-4, 1.1e-1)\n",
    "ax1.minorticks_on()\n",
    "ax1.tick_params(axis='x', which='both', direction='in', bottom=True, top=True)\n",
    "ax1.tick_params(axis='y', which='both', direction='in', left=True, right=True)\n",
    "\n",
    "\n",
    "\n",
    "ax1.legend( loc='upper right', frameon=False)\n",
    "\n",
    "\n",
    "ax2.plot(E, flux_mod/flux_def,  color=colors[0])\n",
    "\n",
    "ax2.set_xlabel('$E$ [GeV]')\n",
    "ax2.set_ylabel('Ratio')\n",
    "\n",
    "# Set limits for the lower plot\n",
    "ax2.set_xscale('log')\n",
    "#ax2.set_ylim(-0.05, 1.05)\n",
    "ax2.set_xlim(500., 1e8)\n",
    "\n",
    "\n",
    "# Save the figure\n",
    "plt.savefig(plot_dir+ \"musurfacespectrum_def_vs_mod_0.2abc.pdf\", bbox_inches='tight')\n"
   ]
  },
  {
   "cell_type": "code",
   "execution_count": 40,
   "id": "cd9bda43",
   "metadata": {},
   "outputs": [
    {
     "data": {
      "text/plain": [
       "<Figure size 2067.5x1550.62 with 0 Axes>"
      ]
     },
     "metadata": {},
     "output_type": "display_data"
    },
    {
     "data": {
      "image/png": "[encoded data removed]",
      "text/plain": [
       "<Figure size 413.5x310.125 with 2 Axes>"
      ]
     },
     "metadata": {},
     "output_type": "display_data"
    }
   ],
   "source": [
    "# test two modification approaches  (linearity)\n",
    "\n",
    "flux_dphi = (dphi_a * 0.05 + dphi_b * 0.05 + dphi_c * 0.05)+flux_def\n",
    "\n",
    "A4_width_inches = 0.5*8.27  # Width of A4 paper in inches\n",
    "A4_height_inches = A4_width_inches * 0.75 # Height is one-third of width\n",
    "figsize = (A4_width_inches, A4_height_inches)\n",
    "\n",
    "# Create subplots using GridSpec\n",
    "fig = plt.figure(figsize=figsize, dpi=500)\n",
    "fig.tight_layout(pad=0.4)\n",
    "\n",
    "# Create a gridspec with 2 rows and 1 column, where the second row will be narrow\n",
    "fig, (ax1, ax2) = plt.subplots(2, 1, figsize=(A4_width_inches, A4_height_inches), sharex=True, height_ratios=[3,1 ])\n",
    "\n",
    "\n",
    "# Plot lines with labels (same as before)\n",
    "ax1.plot(E, E**3. * flux_mod , color=colors[0], label=r'modified')\n",
    "ax1.plot(E, E**3. * flux_dphi[0] , color=colors[1], label=r'linear combination',ls='--')\n",
    "\n",
    "\n",
    "# Axes labels and text (same as before)\n",
    "#ax1.set_xlabel('$E$/GeV')\n",
    "ax1.set_ylabel(r'$E^{3}$ $\\frac{\\mathrm{d}\\Phi_{\\mu}}{\\mathrm{d}E}$' + '\\n' + r'[GeV$^{2}$ cm$^{-2}$s$^{-1}$sr$^{-1}$]')\n",
    "#ax1.text(0.35, 0.05, '$90^{\\circ} \\leq \\Theta \\leq 110^{\\circ}$', verticalalignment='bottom', horizontalalignment='right', transform=ax1.transAxes, color=colors[3])\n",
    "plt.setp(ax1.get_xticklabels(), visible=False) \n",
    "\n",
    "# Log scales and limits (same as before)\n",
    "ax1.set_xscale('log')\n",
    "ax1.set_yscale('log')\n",
    "#ax1.set_xlim(50., 1e6)\n",
    "#ax1.set_ylim(2e-4, 1.1e-1)\n",
    "ax1.minorticks_on()\n",
    "ax1.tick_params(axis='x', which='both', direction='in', bottom=True, top=True)\n",
    "ax1.tick_params(axis='y', which='both', direction='in', left=True, right=True)\n",
    "\n",
    "\n",
    "\n",
    "ax1.legend( loc='upper right', frameon=False)\n",
    "\n",
    "\n",
    "ax2.plot(E, flux_mod/flux_dphi[0],  color=colors[0])\n",
    "\n",
    "ax2.set_xlabel('$E$ [GeV]')\n",
    "ax2.set_ylabel('Fraction ')\n",
    "\n",
    "# Set limits for the lower plot\n",
    "ax2.set_xscale('log')\n",
    "#ax2.set_ylim(-0.05, 1.05)\n",
    "ax2.set_xlim(500., 1e8)\n",
    "\n",
    "\n",
    "# Save the figure\n",
    "plt.savefig(plot_dir+ \"spectrumtest_modified_lincombi.pdf\", bbox_inches='tight')\n"
   ]
  },
  {
   "cell_type": "code",
   "execution_count": 31,
   "id": "6ddde33f",
   "metadata": {},
   "outputs": [
    {
     "data": {
      "text/plain": [
       "array([1.00001721, 1.00001583, 1.00001435, 1.00001294, 1.0000115 ,\n",
       "       1.00000995, 1.00000849, 1.00000713, 1.00000594, 1.0000049 ,\n",
       "       1.000004  , 1.00000321, 1.00000252, 1.00000191, 1.00000139,\n",
       "       1.00000099, 1.00000079, 1.00000066, 0.99999995, 0.99999899,\n",
       "       0.99999842, 0.99999868, 0.9999991 , 0.99999928, 0.99999893,\n",
       "       0.99999752, 0.99999459, 0.99998996, 0.99998401, 0.99997783,\n",
       "       0.99997345, 0.99997404, 0.99998354, 1.00000701, 1.00004977,\n",
       "       1.00011425, 1.00019676, 1.0002888 , 1.00038331, 1.00047429,\n",
       "       1.00055648, 1.00062595, 1.00067957, 1.00071563, 1.00073326,\n",
       "       1.00073297, 1.00071529, 1.00068358, 1.00064531, 1.00061016,\n",
       "       1.00058242, 1.00056047, 1.0005439 , 1.00053151, 1.00052269,\n",
       "       1.00051699, 1.00051427, 1.00051488, 1.00051833, 1.00052463,\n",
       "       1.00053428, 1.00054726, 1.00056232, 1.00057432, 1.00057507,\n",
       "       1.00056014, 1.00053027, 1.00048615, 1.00043038, 1.0003666 ,\n",
       "       1.00029876, 1.00023133, 1.00016881, 1.00011437, 1.00007062,\n",
       "       1.0000388 , 1.00001852, 1.00000756, 1.00000235, 1.00000033,\n",
       "       0.99999989, 1.00000009, 1.00000045, 1.00000076, 1.00000094,\n",
       "       1.00000099, 1.00000096, 1.00000085, 1.00000071, 1.00000055,\n",
       "       1.00000039])"
      ]
     },
     "execution_count": 31,
     "metadata": {},
     "output_type": "execute_result"
    }
   ],
   "source": [
    "flux_mod/flux_dphi[0]"
   ]
  },
  {
   "cell_type": "code",
   "execution_count": 12,
   "id": "af9011a9",
   "metadata": {},
   "outputs": [
    {
     "ename": "KeyError",
     "evalue": "'Invalid key: (0.05, 0.0, 0.0), available keys: [(0.05, 0.05, 0.05)]'",
     "output_type": "error",
     "traceback": [
      "\u001b[0;31m---------------------------------------------------------------------------\u001b[0m",
      "\u001b[0;31mKeyError\u001b[0m                                  Traceback (most recent call last)",
      "Cell \u001b[0;32mIn[12], line 13\u001b[0m\n\u001b[1;32m     10\u001b[0m p3 \u001b[38;5;241m=\u001b[39m \u001b[38;5;241m0.\u001b[39m\n\u001b[1;32m     11\u001b[0m season \u001b[38;5;241m=\u001b[39m \u001b[38;5;124m\"\u001b[39m\u001b[38;5;124mapr\u001b[39m\u001b[38;5;124m\"\u001b[39m\n\u001b[0;32m---> 13\u001b[0m \u001b[38;5;241m1e4\u001b[39m\u001b[38;5;241m*\u001b[39m\u001b[43mhelper\u001b[49m\u001b[38;5;241;43m.\u001b[39;49m\u001b[43mmult_dist\u001b[49m\u001b[43m(\u001b[49m\u001b[43mX\u001b[49m\u001b[43m,\u001b[49m\u001b[43m \u001b[49m\u001b[43mangle\u001b[49m\u001b[43m,\u001b[49m\n\u001b[1;32m     14\u001b[0m \u001b[43m                        \u001b[49m\u001b[43mpm\u001b[49m\u001b[38;5;241;43m.\u001b[39;49m\u001b[43mGlobalSplineFitBeta\u001b[49m\u001b[43m(\u001b[49m\u001b[43m)\u001b[49m\u001b[43m,\u001b[49m\u001b[38;5;124;43m\"\u001b[39;49m\u001b[38;5;124;43myields_\u001b[39;49m\u001b[38;5;124;43m\"\u001b[39;49m\u001b[43m \u001b[49m\u001b[38;5;241;43m+\u001b[39;49m\u001b[43m \u001b[49m\u001b[43mseason\u001b[49m\u001b[43m,\u001b[49m\u001b[43m \u001b[49m\n\u001b[1;32m     15\u001b[0m \u001b[43m                        \u001b[49m\u001b[43mp1\u001b[49m\u001b[43m,\u001b[49m\u001b[43m \u001b[49m\u001b[43mp2\u001b[49m\u001b[43m,\u001b[49m\u001b[43mp3\u001b[49m\u001b[43m,\u001b[49m\n\u001b[1;32m     16\u001b[0m \u001b[43m                        \u001b[49m\u001b[43mnorm\u001b[49m\u001b[38;5;241;43m=\u001b[39;49m\u001b[38;5;28;43;01mFalse\u001b[39;49;00m\u001b[43m,\u001b[49m\u001b[43mthreshold\u001b[49m\u001b[38;5;241;43m=\u001b[39;49m\u001b[43mthreshold\u001b[49m\u001b[38;5;66;43;03m#))[0]\u001b[39;49;00m\n\u001b[1;32m     17\u001b[0m \u001b[43m                    \u001b[49m\u001b[43m)\u001b[49m \u001b[38;5;241m/\u001b[39m helper\u001b[38;5;241m.\u001b[39mrates(X, angle, season, p1, p2, p3, threshold)\n",
      "File \u001b[0;32m~/cs-analysis/IceCube_diffuse_underground_bundles/mceq_underground_helper_forsplines.py:480\u001b[0m, in \u001b[0;36mmult_dist\u001b[0;34m(depth, angle, pmodel, flux_label, p1, p2, p3, norm, threshold)\u001b[0m\n\u001b[1;32m    477\u001b[0m \u001b[38;5;28;01mdef\u001b[39;00m \u001b[38;5;21mmult_dist\u001b[39m(depth, angle, pmodel, flux_label, p1, p2, p3, norm\u001b[38;5;241m=\u001b[39m\u001b[38;5;28;01mTrue\u001b[39;00m, threshold\u001b[38;5;241m=\u001b[39m\u001b[38;5;241m500\u001b[39m):\n\u001b[1;32m    478\u001b[0m     \u001b[38;5;66;03m# Unweighted multiplicity vector for all CR energies at specific depth\u001b[39;00m\n\u001b[1;32m    479\u001b[0m     mult_vec \u001b[38;5;241m=\u001b[39m np\u001b[38;5;241m.\u001b[39marray(\n\u001b[0;32m--> 480\u001b[0m         [\u001b[43mmean_mult\u001b[49m\u001b[43m(\u001b[49m\u001b[43mdepth\u001b[49m\u001b[43m,\u001b[49m\u001b[43m \u001b[49m\u001b[43mangle\u001b[49m\u001b[43m,\u001b[49m\u001b[43m \u001b[49m\u001b[43mflux_label\u001b[49m\u001b[43m,\u001b[49m\u001b[43m \u001b[49m\u001b[43mp1\u001b[49m\u001b[43m,\u001b[49m\u001b[43m \u001b[49m\u001b[43mp2\u001b[49m\u001b[43m,\u001b[49m\u001b[43m \u001b[49m\u001b[43mp3\u001b[49m\u001b[43m,\u001b[49m\u001b[43m \u001b[49m\u001b[43mei\u001b[49m\u001b[43m,\u001b[49m\u001b[43mthreshold\u001b[49m\u001b[43m)\u001b[49m \u001b[38;5;28;01mfor\u001b[39;00m ei, e_cr \u001b[38;5;129;01min\u001b[39;00m \u001b[38;5;28menumerate\u001b[39m(cr_grid)] \u001b[38;5;66;03m#needs yields\u001b[39;00m\n\u001b[1;32m    481\u001b[0m     )\n\u001b[1;32m    482\u001b[0m     \u001b[38;5;66;03m# Truncate to only include energies with multiplicity > 1e-2\u001b[39;00m\n\u001b[1;32m    483\u001b[0m     cr_grid_tr \u001b[38;5;241m=\u001b[39m cr_grid[mult_vec \u001b[38;5;241m>\u001b[39m \u001b[38;5;241m1e-1\u001b[39m]\n",
      "File \u001b[0;32m~/cs-analysis/IceCube_diffuse_underground_bundles/mceq_underground_helper_forsplines.py:434\u001b[0m, in \u001b[0;36mmean_mult\u001b[0;34m(depth, angle, flux_label, p1, p2, p3, iecr, threshold)\u001b[0m\n\u001b[1;32m    423\u001b[0m \u001b[38;5;28;01mdef\u001b[39;00m \u001b[38;5;21mmean_mult\u001b[39m(depth, angle, flux_label, p1, p2, p3, iecr\u001b[38;5;241m=\u001b[39m\u001b[38;5;28;01mNone\u001b[39;00m,threshold\u001b[38;5;241m=\u001b[39m\u001b[38;5;241m500\u001b[39m):\n\u001b[1;32m    424\u001b[0m \u001b[38;5;250m    \u001b[39m\u001b[38;5;124;03m\"\"\"\u001b[39;00m\n\u001b[1;32m    425\u001b[0m \u001b[38;5;124;03m    Calculate the mean multiplicity.\u001b[39;00m\n\u001b[1;32m    426\u001b[0m \n\u001b[0;32m   (...)\u001b[0m\n\u001b[1;32m    431\u001b[0m \u001b[38;5;124;03m        float: Mean multiplicity.\u001b[39;00m\n\u001b[1;32m    432\u001b[0m \u001b[38;5;124;03m    \"\"\"\u001b[39;00m\n\u001b[0;32m--> 434\u001b[0m     ufluxes \u001b[38;5;241m=\u001b[39m \u001b[43mflux\u001b[49m\u001b[43m(\u001b[49m\u001b[43mdepth\u001b[49m\u001b[43m,\u001b[49m\u001b[43m \u001b[49m\u001b[43mangle\u001b[49m\u001b[43m,\u001b[49m\u001b[43m \u001b[49m\u001b[43mflux_label\u001b[49m\u001b[43m,\u001b[49m\u001b[43m \u001b[49m\u001b[43mp1\u001b[49m\u001b[43m,\u001b[49m\u001b[43m \u001b[49m\u001b[43mp2\u001b[49m\u001b[43m,\u001b[49m\u001b[43m \u001b[49m\u001b[43mp3\u001b[49m\u001b[43m,\u001b[49m\u001b[43m \u001b[49m\u001b[43miecr\u001b[49m\u001b[43m)\u001b[49m\n\u001b[1;32m    436\u001b[0m     \u001b[38;5;66;03m# Apply threshold to energy and flux\u001b[39;00m\n\u001b[1;32m    437\u001b[0m     mask \u001b[38;5;241m=\u001b[39m mute_energies \u001b[38;5;241m>\u001b[39m threshold\n",
      "File \u001b[0;32m~/cs-analysis/IceCube_diffuse_underground_bundles/mceq_underground_helper_forsplines.py:276\u001b[0m, in \u001b[0;36mflux\u001b[0;34m(depth, angle, flux_label, p1, p2, p3, iecr)\u001b[0m\n\u001b[1;32m    274\u001b[0m     \u001b[38;5;28;01massert\u001b[39;00m np\u001b[38;5;241m.\u001b[39mmin(depth) \u001b[38;5;241m>\u001b[39m\u001b[38;5;241m=\u001b[39m slant_depths[\u001b[38;5;241m0\u001b[39m] \u001b[38;5;129;01mand\u001b[39;00m np\u001b[38;5;241m.\u001b[39mmax(depth) \u001b[38;5;241m<\u001b[39m slant_depths[\u001b[38;5;241m-\u001b[39m\u001b[38;5;241m1\u001b[39m]\n\u001b[1;32m    275\u001b[0m \u001b[38;5;66;03m# depth = np.array([depth])\u001b[39;00m\n\u001b[0;32m--> 276\u001b[0m fl \u001b[38;5;241m=\u001b[39m \u001b[43m_flux\u001b[49m\u001b[43m(\u001b[49m\u001b[43mangle\u001b[49m\u001b[43m,\u001b[49m\u001b[43m \u001b[49m\u001b[43mflux_label\u001b[49m\u001b[43m,\u001b[49m\u001b[43m  \u001b[49m\u001b[43mp1\u001b[49m\u001b[43m,\u001b[49m\u001b[43m \u001b[49m\u001b[43mp2\u001b[49m\u001b[43m,\u001b[49m\u001b[43m \u001b[49m\u001b[43mp3\u001b[49m\u001b[43m,\u001b[49m\u001b[43m \u001b[49m\u001b[43miecr\u001b[49m\u001b[43m)\u001b[49m\n\u001b[1;32m    277\u001b[0m idx \u001b[38;5;241m=\u001b[39m np\u001b[38;5;241m.\u001b[39margmax(slant_depths \u001b[38;5;241m>\u001b[39m depth)\n\u001b[1;32m    278\u001b[0m frange \u001b[38;5;241m=\u001b[39m (\n\u001b[1;32m    279\u001b[0m     utensor[idx \u001b[38;5;241m-\u001b[39m \u001b[38;5;241m1\u001b[39m : idx \u001b[38;5;241m+\u001b[39m \u001b[38;5;241m1\u001b[39m]\u001b[38;5;241m.\u001b[39mdot(np\u001b[38;5;241m.\u001b[39mnan_to_num(fl \u001b[38;5;241m*\u001b[39m _e_widths)) \u001b[38;5;241m/\u001b[39m _e_widths\n\u001b[1;32m    280\u001b[0m )\n",
      "File \u001b[0;32m~/cs-analysis/IceCube_diffuse_underground_bundles/mceq_underground_helper_forsplines.py:230\u001b[0m, in \u001b[0;36m_flux\u001b[0;34m(angle, flux_label, p1, p2, p3, iecr)\u001b[0m\n\u001b[1;32m    227\u001b[0m \u001b[38;5;66;03m#print('key in helper',key)\u001b[39;00m\n\u001b[1;32m    229\u001b[0m \u001b[38;5;28;01mif\u001b[39;00m key \u001b[38;5;129;01mnot\u001b[39;00m \u001b[38;5;129;01min\u001b[39;00m intp_ground_mu_yields:\n\u001b[0;32m--> 230\u001b[0m     \u001b[38;5;28;01mraise\u001b[39;00m \u001b[38;5;167;01mKeyError\u001b[39;00m(\u001b[38;5;124mf\u001b[39m\u001b[38;5;124m\"\u001b[39m\u001b[38;5;124mInvalid key: \u001b[39m\u001b[38;5;132;01m{\u001b[39;00mkey\u001b[38;5;132;01m}\u001b[39;00m\u001b[38;5;124m, available keys: \u001b[39m\u001b[38;5;132;01m{\u001b[39;00m\u001b[38;5;28mlist\u001b[39m(intp_ground_mu_yields\u001b[38;5;241m.\u001b[39mkeys())\u001b[38;5;132;01m}\u001b[39;00m\u001b[38;5;124m\"\u001b[39m)\n\u001b[1;32m    235\u001b[0m \u001b[38;5;28;01mif\u001b[39;00m flux_label \u001b[38;5;241m==\u001b[39m \u001b[38;5;124m\"\u001b[39m\u001b[38;5;124mdaemonflux\u001b[39m\u001b[38;5;124m\"\u001b[39m:\n\u001b[1;32m    236\u001b[0m     \u001b[38;5;28;01mreturn\u001b[39;00m mute_energies\u001b[38;5;241m*\u001b[39m\u001b[38;5;241m*\u001b[39m\u001b[38;5;241m-\u001b[39m\u001b[38;5;241m3\u001b[39m \u001b[38;5;241m*\u001b[39m Flux\u001b[38;5;241m.\u001b[39mflux(mute_energies, angle, quantity\u001b[38;5;241m=\u001b[39m\u001b[38;5;124m\"\u001b[39m\u001b[38;5;124mmuflux\u001b[39m\u001b[38;5;124m\"\u001b[39m)\n",
      "\u001b[0;31mKeyError\u001b[0m: 'Invalid key: (0.05, 0.0, 0.0), available keys: [(0.05, 0.05, 0.05)]'"
     ]
    }
   ],
   "source": [
    "# plot dN/dNmu\n",
    "d = 1.5\n",
    "angle = 0.\n",
    "X = sl_depth(d,angle)\n",
    "\n",
    "\n",
    "threshold = 500\n",
    "p1 = 0.05\n",
    "p2 = 0.\n",
    "p3 = 0.\n",
    "season = \"apr\"\n",
    "\n",
    "1e4*helper.mult_dist(X, angle,\n",
    "                        pm.GlobalSplineFitBeta(),\"yields_\" + season, \n",
    "                        p1, p2,p3,\n",
    "                        norm=False,threshold=threshold#))[0]\n",
    "                    ) / helper.rates(X, angle, season, p1, p2, p3, threshold)"
   ]
  },
  {
   "cell_type": "code",
   "execution_count": 10,
   "id": "484f5ffd",
   "metadata": {},
   "outputs": [],
   "source": [
    "def dNdN_mu(d, p1, p2, p3):\n",
    "    \n",
    "    angle = 0.\n",
    "    X = sl_depth(d,angle)\n",
    "    season = \"apr\"\n",
    "\n",
    "    return 1e4*helper.mult_dist(X, angle,\n",
    "                        pm.GlobalSplineFitBeta(),\"yields_\" + season, \n",
    "                        p1, p2,p3,\n",
    "                        norm=False,threshold=threshold#))[0]\n",
    "                    ) / helper.rates(X, angle, season, p1, p2, p3, threshold)"
   ]
  },
  {
   "cell_type": "code",
   "execution_count": null,
   "id": "0104d5bc",
   "metadata": {},
   "outputs": [],
   "source": [
    "# plot in log log for 1.5 km depth and 2.5k"
   ]
  }
 ],
 "metadata": {
  "kernelspec": {
   "display_name": "cs_env",
   "language": "python",
   "name": "python3"
  },
  "language_info": {
   "codemirror_mode": {
    "name": "ipython",
    "version": 3
   },
   "file_extension": ".py",
   "mimetype": "text/x-python",
   "name": "python",
   "nbconvert_exporter": "python",
   "pygments_lexer": "ipython3",
   "version": "3.12.4"
  }
 },
 "nbformat": 4,
 "nbformat_minor": 5
}
