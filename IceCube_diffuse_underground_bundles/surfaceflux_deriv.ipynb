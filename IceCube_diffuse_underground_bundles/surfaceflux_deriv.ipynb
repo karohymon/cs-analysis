{
 "cells": [
  {
   "cell_type": "code",
   "execution_count": 1,
   "id": "0a7a7d52",
   "metadata": {},
   "outputs": [],
   "source": [
    "import matplotlib.pyplot as plt\n",
    "from matplotlib import cm\n",
    "from matplotlib.colors import Normalize\n",
    "import matplotlib.lines as mlines\n",
    "from scipy.interpolate import UnivariateSpline\n",
    "from tqdm import tqdm\n",
    "import pickle\n",
    "import numpy as np\n",
    "\n",
    "import crflux.models as pm\n",
    "\n",
    "from MCEq.data import InteractionCrossSections\n",
    "from MCEq.core import MCEqRun\n",
    "import  mceq_underground_helper_forsplines as helper"
   ]
  },
  {
   "cell_type": "code",
   "execution_count": 2,
   "id": "68db9b1c",
   "metadata": {},
   "outputs": [],
   "source": [
    "plot_dir = '/hetghome/khymon/Plots/cs-analysis/'\n"
   ]
  },
  {
   "cell_type": "code",
   "execution_count": 4,
   "id": "b32d1f55",
   "metadata": {},
   "outputs": [
    {
     "name": "stdout",
     "output_type": "stream",
     "text": [
      "Key: (0.0, 0.0, 0.0)\n",
      "Length of cos_thetas: 3\n",
      "Shape of flux for season jan: (3, 121)\n",
      "Shape of flux for season apr: (3, 121)\n",
      "Shape of flux for season jul: (3, 121)\n",
      "Key: (0.05, 0.0, 0.0)\n",
      "Length of cos_thetas: 3\n",
      "Shape of flux for season jan: (3, 121)\n",
      "Shape of flux for season apr: (3, 121)\n",
      "Shape of flux for season jul: (3, 121)\n",
      "Key: (-0.05, 0.0, 0.0)\n",
      "Length of cos_thetas: 3\n",
      "Shape of flux for season jan: (3, 121)\n",
      "Shape of flux for season apr: (3, 121)\n",
      "Shape of flux for season jul: (3, 121)\n",
      "Key: (0.0, 0.05, 0.0)\n",
      "Length of cos_thetas: 3\n",
      "Shape of flux for season jan: (3, 121)\n",
      "Shape of flux for season apr: (3, 121)\n",
      "Shape of flux for season jul: (3, 121)\n",
      "Key: (0.0, -0.05, 0.0)\n",
      "Length of cos_thetas: 3\n",
      "Shape of flux for season jan: (3, 121)\n",
      "Shape of flux for season apr: (3, 121)\n",
      "Shape of flux for season jul: (3, 121)\n",
      "Key: (0.0, 0.0, 0.05)\n",
      "Length of cos_thetas: 3\n",
      "Shape of flux for season jan: (3, 121)\n",
      "Shape of flux for season apr: (3, 121)\n",
      "Shape of flux for season jul: (3, 121)\n",
      "Key: (0.0, 0.0, -0.05)\n",
      "Length of cos_thetas: 3\n",
      "Shape of flux for season jan: (3, 121)\n",
      "Shape of flux for season apr: (3, 121)\n",
      "Shape of flux for season jul: (3, 121)\n"
     ]
    },
    {
     "name": "stderr",
     "output_type": "stream",
     "text": [
      "/hetghome/khymon/cs-analysis/IceCube_diffuse_underground_bundles/mceq_underground_helper_forsplines.py:99: RuntimeWarning: invalid value encountered in arccos\n",
      "  angles = np.degrees(np.arccos(cos_thetas))  # Convert from cos(theta) to theta in degrees\n"
     ]
    }
   ],
   "source": [
    "p1_values = [0.00, 0.05, -0.05, 0.00,  0.00, 0.00, 0.00]\n",
    "p2_values = [0.00, 0.00,  0.00, 0.05, -0.05, 0.00, 0.00]\n",
    "p3_values = [0.00, 0.00,  0.00, 0.00,  0.00, 0.05, -0.05]\n",
    "season_values = [\"jan\", \"apr\", \"jul\"]  #  seasons\n",
    "\n",
    "\n",
    "\n",
    "helper.initialize_flux_dicts(p1_values, p2_values, p3_values)\n",
    "helper.some_function_that_uses_angles()\n",
    "angles = helper.angles"
   ]
  },
  {
   "cell_type": "code",
   "execution_count": 6,
   "id": "16435d13",
   "metadata": {},
   "outputs": [
    {
     "data": {
      "text/plain": [
       "array([1.16221386e-03, 1.26948600e-03, 1.37648682e-03, 1.47533340e-03,\n",
       "       1.56335171e-03, 1.63697377e-03, 1.69103554e-03, 1.71586308e-03,\n",
       "       1.70739559e-03, 1.65842163e-03, 1.56579094e-03, 1.42995871e-03,\n",
       "       1.25901264e-03, 1.06446070e-03, 8.63796219e-04, 6.71553727e-04,\n",
       "       4.99745300e-04, 3.55133596e-04, 2.41991368e-04, 1.59772118e-04,\n",
       "       1.03431098e-04, 6.51157394e-05, 3.93373761e-05, 2.32682012e-05,\n",
       "       1.33668954e-05, 7.49599241e-06, 4.11243537e-06, 2.21388483e-06,\n",
       "       1.17112315e-06, 6.08657715e-07, 3.10967470e-07, 1.56383487e-07,\n",
       "       7.71879775e-08, 3.74479816e-08, 1.79276123e-08, 8.47808808e-09,\n",
       "       3.96721350e-09, 1.83887930e-09, 8.44858727e-10, 3.85022216e-10,\n",
       "       1.74253120e-10, 7.83848788e-11, 3.50440894e-11, 1.55843998e-11,\n",
       "       6.89856789e-12, 3.04077721e-12, 1.33403645e-12, 5.82675859e-13,\n",
       "       2.53499695e-13, 1.09852713e-13, 4.74637504e-14, 2.04349799e-14,\n",
       "       8.76824285e-15, 3.75206705e-15, 1.60050908e-15, 6.80035647e-16,\n",
       "       2.87778079e-16, 1.21266979e-16, 5.09114757e-17, 2.12955168e-17,\n",
       "       8.86922065e-18, 3.67456303e-18, 1.51448685e-18, 6.21255127e-19,\n",
       "       2.53395628e-19, 1.02945676e-19, 4.16894680e-20, 1.68065320e-20,\n",
       "       6.75798956e-21, 2.71964090e-21, 1.09742968e-21, 4.44862474e-22,\n",
       "       1.81505987e-22, 7.50484809e-23, 3.15230529e-23, 1.34687695e-23,\n",
       "       5.86743945e-24, 2.60319416e-24, 1.17567055e-24, 5.38353098e-25,\n",
       "       2.50491822e-25, 1.18081169e-25, 5.62250857e-26, 2.69940360e-26,\n",
       "       1.30222975e-26, 6.29505985e-27, 3.03218425e-27, 1.45313353e-27,\n",
       "       6.89799598e-28, 3.24289555e-28, 1.50689464e-28])"
      ]
     },
     "execution_count": 6,
     "metadata": {},
     "output_type": "execute_result"
    }
   ],
   "source": [
    "helper._flux(0.0, \"apr\", p1=0.00, p2=0.0, p3= 0.0, iecr=None)"
   ]
  },
  {
   "cell_type": "code",
   "execution_count": 7,
   "id": "b352defc",
   "metadata": {},
   "outputs": [],
   "source": [
    "def derivative(param,angle):\n",
    "    if param =='p1':\n",
    "        delta_phi = helper._flux(angle, \"apr\", p1=0.05, p2=0.0, p3=0.0, iecr=None) - helper._flux(angle, \"apr\", p1=-0.05, p2=0.0, p3= 0.0, iecr=None)\n",
    "    elif param =='p2':\n",
    "        delta_phi = helper._flux(angle, \"apr\", p1=0.0, p2=0.05, p3=0.0, iecr=None) - helper._flux(angle, \"apr\", p1=0.0, p2=-0.05, p3= 0.0, iecr=None)\n",
    "    elif param =='p3':\n",
    "        delta_phi = helper._flux(angle, \"apr\", p1=0.0, p2=0.0, p3=0.05, iecr=None) - helper._flux(angle, \"apr\", p1=0.0, p2=0.0, p3= -0.05, iecr=None)\n",
    "\n",
    "    return delta_phi/(2*0.05)"
   ]
  },
  {
   "cell_type": "code",
   "execution_count": 8,
   "id": "91ac5bb4",
   "metadata": {},
   "outputs": [
    {
     "data": {
      "text/plain": [
       "array([90., nan, nan])"
      ]
     },
     "execution_count": 8,
     "metadata": {},
     "output_type": "execute_result"
    }
   ],
   "source": [
    "angles"
   ]
  },
  {
   "cell_type": "code",
   "execution_count": 9,
   "id": "569126cf",
   "metadata": {},
   "outputs": [],
   "source": [
    "thetas = np.array([0., 30., 60.])\n",
    "cos_thetas = np.cos(np.radians(thetas))"
   ]
  },
  {
   "cell_type": "code",
   "execution_count": 10,
   "id": "7f7eac48",
   "metadata": {},
   "outputs": [
    {
     "data": {
      "text/plain": [
       "array([1.       , 0.8660254, 0.5      ])"
      ]
     },
     "execution_count": 10,
     "metadata": {},
     "output_type": "execute_result"
    }
   ],
   "source": [
    "cos_thetas  "
   ]
  },
  {
   "cell_type": "code",
   "execution_count": null,
   "id": "af1b097a",
   "metadata": {},
   "outputs": [],
   "source": []
  }
 ],
 "metadata": {
  "kernelspec": {
   "display_name": "cs_env",
   "language": "python",
   "name": "python3"
  },
  "language_info": {
   "codemirror_mode": {
    "name": "ipython",
    "version": 3
   },
   "file_extension": ".py",
   "mimetype": "text/x-python",
   "name": "python",
   "nbconvert_exporter": "python",
   "pygments_lexer": "ipython3",
   "version": "3.12.4"
  }
 },
 "nbformat": 4,
 "nbformat_minor": 5
}
