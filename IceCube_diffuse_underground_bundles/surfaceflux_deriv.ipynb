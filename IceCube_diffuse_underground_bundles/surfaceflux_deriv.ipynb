{
 "cells": [
  {
   "cell_type": "code",
   "execution_count": 1,
   "id": "0a7a7d52",
   "metadata": {},
   "outputs": [],
   "source": [
    "import matplotlib.pyplot as plt\n",
    "from matplotlib import cm\n",
    "from matplotlib.colors import Normalize\n",
    "import matplotlib.lines as mlines\n",
    "from scipy.interpolate import UnivariateSpline\n",
    "from tqdm import tqdm\n",
    "import pickle\n",
    "import numpy as np\n",
    "\n",
    "import crflux.models as pm\n",
    "\n",
    "from MCEq.data import InteractionCrossSections\n",
    "from MCEq.core import MCEqRun\n",
    "import  mceq_underground_helper_forsplines as helper\n",
    "import  mceq_underground_helper_deriv as deriv\n",
    "from slope_param_functions import sl_depth\n",
    "import seaborn as sns"
   ]
  },
  {
   "cell_type": "code",
   "execution_count": 2,
   "id": "06709552",
   "metadata": {},
   "outputs": [],
   "source": [
    "plt.rcParams.update({\n",
    "    \"font.size\": 12,\n",
    "    \"axes.labelsize\": 12,\n",
    "    \"xtick.labelsize\": 12,\n",
    "    \"ytick.labelsize\": 12\n",
    "})\n",
    "\n",
    "colors = sns.color_palette(\"colorblind\")"
   ]
  },
  {
   "cell_type": "code",
   "execution_count": 3,
   "id": "68db9b1c",
   "metadata": {},
   "outputs": [],
   "source": [
    "plot_dir = '/hetghome/khymon/Plots/cs-analysis/'\n"
   ]
  },
  {
   "cell_type": "code",
   "execution_count": 15,
   "id": "b32d1f55",
   "metadata": {},
   "outputs": [
    {
     "name": "stdout",
     "output_type": "stream",
     "text": [
      "Key: (0.0, 0.0, 0.0)\n",
      "Length of cos_thetas: 3\n",
      "Shape of flux for season jan: (3, 121)\n",
      "Shape of flux for season apr: (3, 121)\n",
      "Shape of flux for season jul: (3, 121)\n",
      "Key: (0.05, 0.0, 0.0)\n",
      "Length of cos_thetas: 3\n",
      "Shape of flux for season jan: (3, 121)\n",
      "Shape of flux for season apr: (3, 121)\n",
      "Shape of flux for season jul: (3, 121)\n",
      "Key: (-0.05, 0.0, 0.0)\n",
      "Length of cos_thetas: 3\n",
      "Shape of flux for season jan: (3, 121)\n",
      "Shape of flux for season apr: (3, 121)\n",
      "Shape of flux for season jul: (3, 121)\n",
      "Key: (0.0, 0.05, 0.0)\n",
      "Length of cos_thetas: 3\n",
      "Shape of flux for season jan: (3, 121)\n",
      "Shape of flux for season apr: (3, 121)\n",
      "Shape of flux for season jul: (3, 121)\n",
      "Key: (0.0, -0.05, 0.0)\n",
      "Length of cos_thetas: 3\n",
      "Shape of flux for season jan: (3, 121)\n",
      "Shape of flux for season apr: (3, 121)\n",
      "Shape of flux for season jul: (3, 121)\n",
      "Key: (0.0, 0.0, 0.05)\n",
      "Length of cos_thetas: 3\n",
      "Shape of flux for season jan: (3, 121)\n",
      "Shape of flux for season apr: (3, 121)\n",
      "Shape of flux for season jul: (3, 121)\n",
      "Key: (0.0, 0.0, -0.05)\n",
      "Length of cos_thetas: 3\n",
      "Shape of flux for season jan: (3, 121)\n",
      "Shape of flux for season apr: (3, 121)\n",
      "Shape of flux for season jul: (3, 121)\n"
     ]
    }
   ],
   "source": [
    "p1_values = [0.00, 0.05, -0.05, 0.00,  0.00, 0.00, 0.00]\n",
    "p2_values = [0.00, 0.00,  0.00, 0.05, -0.05, 0.00, 0.00]\n",
    "p3_values = [0.00, 0.00,  0.00, 0.00,  0.00, 0.05, -0.05]\n",
    "season_values = [\"jan\", \"apr\", \"jul\"]  #  seasons\n",
    "\n",
    "\n",
    "\n",
    "helper.initialize_flux_dicts(p1_values, p2_values, p3_values)\n",
    "helper.some_function_that_uses_angles()\n",
    "angles = helper.angles\n",
    "\n",
    "flux_def= helper._flux(0., \"apr\", p1=0., p2=0., p3=0., iecr=None)"
   ]
  },
  {
   "cell_type": "code",
   "execution_count": 16,
   "id": "b352defc",
   "metadata": {},
   "outputs": [],
   "source": [
    "def flux_derivative(param,angle):\n",
    "    if param =='p1':\n",
    "        delta_phi = (helper._flux(angle, \"apr\", p1=0.05, p2=0.0, p3=0.0, iecr=None) - helper._flux(angle, \"apr\", p1=-0.05, p2=0.0, p3= 0.0, iecr=None))\n",
    "    elif param =='p2':\n",
    "        delta_phi = helper._flux(angle, \"apr\", p1=0.0, p2=0.05, p3=0.0, iecr=None) - helper._flux(angle, \"apr\", p1=0.0, p2=-0.05, p3= 0.0, iecr=None)\n",
    "    elif param =='p3':\n",
    "        delta_phi = helper._flux(angle, \"apr\", p1=0.0, p2=0.0, p3=0.05, iecr=None) - helper._flux(angle, \"apr\", p1=0.0, p2=0.0, p3= -0.05, iecr=None)\n",
    "\n",
    "    return delta_phi/(2*0.05)"
   ]
  },
  {
   "cell_type": "code",
   "execution_count": 17,
   "id": "579d7366",
   "metadata": {},
   "outputs": [
    {
     "data": {
      "text/plain": [
       "array([ 0., 30., 60.])"
      ]
     },
     "execution_count": 17,
     "metadata": {},
     "output_type": "execute_result"
    }
   ],
   "source": [
    "helper.angles"
   ]
  },
  {
   "cell_type": "code",
   "execution_count": 18,
   "id": "4e842d5e",
   "metadata": {},
   "outputs": [],
   "source": [
    "dphi_a = np.ndarray(shape=(len(angles),91))\n",
    "dphi_b = np.ndarray(shape=(len(angles),91))\n",
    "dphi_c = np.ndarray(shape=(len(angles),91))\n",
    "\n",
    "for i in range(len(angles)):\n",
    "  \n",
    "    dphi_a[i] = flux_derivative(\"p1\",angles[i])\n",
    "    dphi_b[i] = flux_derivative(\"p2\",angles[i])\n",
    "    dphi_c[i] = flux_derivative(\"p3\",angles[i])"
   ]
  },
  {
   "cell_type": "code",
   "execution_count": 19,
   "id": "629ed41e",
   "metadata": {},
   "outputs": [],
   "source": [
    "with open(\"/hetghome/khymon/cs-files/deriv_surfaceflux.pkl\", \"wb\") as f:\n",
    "    pickle.dump(( dphi_a, dphi_b, dphi_c), f)"
   ]
  },
  {
   "cell_type": "code",
   "execution_count": 20,
   "id": "a5fc7458",
   "metadata": {},
   "outputs": [
    {
     "data": {
      "text/plain": [
       "(3, 91)"
      ]
     },
     "execution_count": 20,
     "metadata": {},
     "output_type": "execute_result"
    }
   ],
   "source": [
    "dphi_a.shape"
   ]
  },
  {
   "cell_type": "code",
   "execution_count": 21,
   "id": "3145f08f",
   "metadata": {},
   "outputs": [
    {
     "data": {
      "text/plain": [
       "array([[0.99928131, 0.9993073 , 0.99933563, 0.99936393, 0.99939358,\n",
       "        0.99942543, 0.99945594, 0.99948427, 0.99950888, 0.99952922,\n",
       "        0.99954465, 0.99955458, 0.99955852, 0.99955803, 0.9995622 ,\n",
       "        0.99959938, 0.99973041, 1.00003251, 1.00050635, 1.00098473,\n",
       "        1.00135938, 1.00161763, 1.00201621, 1.00231756, 1.00258824,\n",
       "        1.00275184, 1.00276688, 1.00258576, 1.00217573, 1.0015132 ,\n",
       "        1.00056678, 0.99931279, 0.99774376, 0.99585879, 0.99369311,\n",
       "        0.99135623, 0.98905223, 0.98697406, 0.98516983, 0.98365189,\n",
       "        0.98242605, 0.98148128, 0.9808145 , 0.98041033, 0.98025985,\n",
       "        0.98034179, 0.98065548, 0.98116756, 0.98179122, 0.98239461,\n",
       "        0.98290369, 0.98333805, 0.98368747, 0.98396975, 0.9841904 ,\n",
       "        0.98435578, 0.98446764, 0.984518  , 0.98452934, 0.98451203,\n",
       "        0.98446566, 0.98440666, 0.98436449, 0.98441772, 0.9846776 ,\n",
       "        0.98519298, 0.9859434 , 0.98692894, 0.98811646, 0.98946211,\n",
       "        0.99092203, 0.99243571, 0.9939278 , 0.99534595, 0.99662474,\n",
       "        0.99770716, 0.99855309, 0.99915427, 0.99956052, 0.99982141,\n",
       "        0.99997957, 1.00006698, 1.00010898, 1.00012379, 1.00012373,\n",
       "        1.00011595, 1.00010481, 1.00009192, 1.0000784 , 1.00006454,\n",
       "        1.00005115],\n",
       "       [0.99950029, 0.9995151 , 0.99953135, 0.99954771, 0.99956491,\n",
       "        0.99958337, 0.99960097, 0.99961712, 0.99963072, 0.99964123,\n",
       "        0.999648  , 0.9996505 , 0.99964884, 0.99964606, 0.99965334,\n",
       "        0.9996981 , 0.99982806, 1.00008985, 1.00046556, 1.00083971,\n",
       "        1.00114642, 1.00139591, 1.0017778 , 1.00207831, 1.00236629,\n",
       "        1.00256062, 1.00261761, 1.00248191, 1.00211149, 1.00147211,\n",
       "        1.00052145, 0.99922608, 0.99757029, 0.99554855, 0.99319756,\n",
       "        0.99063746, 0.98809316, 0.98578042, 0.98375982, 0.98205152,\n",
       "        0.98066653, 0.97959591, 0.97883723, 0.97837398, 0.97819621,\n",
       "        0.97827966, 0.97862235, 0.97918688, 0.97987689, 0.98054686,\n",
       "        0.98111507, 0.98160265, 0.98199772, 0.98231996, 0.9825753 ,\n",
       "        0.98277098, 0.98290879, 0.98298012, 0.98300971, 0.983009  ,\n",
       "        0.98297765, 0.98293351, 0.98290841, 0.98298804, 0.98329302,\n",
       "        0.98387535, 0.98471155, 0.98580028, 0.98710405, 0.98857537,\n",
       "        0.99016745, 0.99181451, 0.99343513, 0.99497308, 0.99635816,\n",
       "        0.99752921, 0.99844346, 0.99909266, 0.999531  , 0.99981217,\n",
       "        0.99998229, 1.00007595, 1.00012056, 1.00013582, 1.00013508,\n",
       "        1.00012608, 1.00011357, 1.00009929, 1.00008444, 1.00006934,\n",
       "        1.00005482],\n",
       "       [0.99995253, 0.99995189, 0.99995119, 0.99995044, 0.99994959,\n",
       "        0.99994866, 0.99994762, 0.99994649, 0.99994534, 0.99994431,\n",
       "        0.99994379, 0.99994463, 0.99994847, 0.99995815, 0.99997796,\n",
       "        1.00001301, 1.00006735, 1.00014164, 1.00023252, 1.00033764,\n",
       "        1.00046202, 1.0006268 , 1.00085117, 1.00106604, 1.00131961,\n",
       "        1.00154351, 1.00171003, 1.00175638, 1.00162114, 1.00123232,\n",
       "        1.00049654, 0.99931316, 0.99758537, 0.99522644, 0.99221343,\n",
       "        0.98865514, 0.98483293, 0.98106918, 0.97752813, 0.97432481,\n",
       "        0.97155227, 0.9692598 , 0.96748674, 0.96623632, 0.96550915,\n",
       "        0.96527166, 0.96551944, 0.96618669, 0.96710811, 0.9680404 ,\n",
       "        0.96884625, 0.96954836, 0.97011789, 0.9705827 , 0.97094958,\n",
       "        0.97122729, 0.97141646, 0.97150179, 0.97152422, 0.97150228,\n",
       "        0.97143589, 0.9713544 , 0.97130993, 0.97144773, 0.9719697 ,\n",
       "        0.97295906, 0.97437475, 0.97621376, 0.97841039, 0.98088454,\n",
       "        0.98355811, 0.98632062, 0.98903606, 0.99161113, 0.99392943,\n",
       "        0.99588887, 0.99741802, 0.99850373, 0.99923707, 0.99970737,\n",
       "        0.9999912 , 1.00014631, 1.00021863, 1.00024133, 1.00023708,\n",
       "        1.00021914, 1.00019572, 1.0001698 , 1.00014346, 1.00011713,\n",
       "        1.00009216]])"
      ]
     },
     "execution_count": 21,
     "metadata": {},
     "output_type": "execute_result"
    }
   ],
   "source": [
    "flux_mod = (dphi_a * 0.05 + dphi_b * 0.05 + dphi_c * 0.05)+flux_def\n",
    "\n",
    "flux_mod/flux_def"
   ]
  },
  {
   "cell_type": "code",
   "execution_count": 22,
   "id": "d2c49a85",
   "metadata": {},
   "outputs": [
    {
     "name": "stdout",
     "output_type": "stream",
     "text": [
      "Key: (0.2, 0.2, 0.2)\n",
      "Length of cos_thetas: 3\n",
      "Shape of flux for season jan: (3, 121)\n",
      "Shape of flux for season apr: (3, 121)\n",
      "Shape of flux for season jul: (3, 121)\n"
     ]
    }
   ],
   "source": [
    "p1_values = [0.2]\n",
    "p2_values = [0.2]\n",
    "p3_values = [0.2]\n",
    "season_values = [\"jan\", \"apr\", \"jul\"]  #  seasons\n",
    "\n",
    "\n",
    "\n",
    "helper.initialize_flux_dicts(p1_values, p2_values, p3_values)\n",
    "\n",
    "flux_mod = helper._flux(0., \"apr\", p1=0.2, p2=0.2, p3=0.2, iecr=None)\n"
   ]
  },
  {
   "cell_type": "code",
   "execution_count": 23,
   "id": "62ba30cf",
   "metadata": {},
   "outputs": [],
   "source": [
    "E = helper.mute_energies"
   ]
  },
  {
   "cell_type": "code",
   "execution_count": 25,
   "id": "616b91d8",
   "metadata": {},
   "outputs": [
    {
     "data": {
      "text/plain": [
       "<Figure size 2067.5x1550.62 with 0 Axes>"
      ]
     },
     "metadata": {},
     "output_type": "display_data"
    },
    {
     "data": {
      "image/png": "[encoded data removed]",
      "text/plain": [
       "<Figure size 413.5x310.125 with 2 Axes>"
      ]
     },
     "metadata": {},
     "output_type": "display_data"
    }
   ],
   "source": [
    "A4_width_inches = 0.5*8.27  # Width of A4 paper in inches\n",
    "A4_height_inches = A4_width_inches * 0.75 # Height is one-third of width\n",
    "figsize = (A4_width_inches, A4_height_inches)\n",
    "\n",
    "# Create subplots using GridSpec\n",
    "fig = plt.figure(figsize=figsize, dpi=500)\n",
    "fig.tight_layout(pad=0.4)\n",
    "\n",
    "# Create a gridspec with 2 rows and 1 column, where the second row will be narrow\n",
    "fig, (ax1, ax2) = plt.subplots(2, 1, figsize=(A4_width_inches, A4_height_inches), sharex=True, height_ratios=[3,1 ])\n",
    "\n",
    "\n",
    "# Plot lines with labels (same as before)\n",
    "ax1.plot(E, E**3. * flux_mod , color=colors[0], label=r'modified')\n",
    "ax1.plot(E, E**3. * flux_def , color='black', label=r'default',ls='--')\n",
    "\n",
    "\n",
    "# Axes labels and text (same as before)\n",
    "#ax1.set_xlabel('$E$/GeV')\n",
    "ax1.set_ylabel(r'$E^{3}$ $\\frac{\\mathrm{d}\\Phi_{\\mu^{+}+\\mu^{-}}}{\\mathrm{d}E}$' + '\\n' + r'[GeV$^{2}$ cm$^{-2}$s$^{-1}$sr$^{-1}$]')\n",
    "#ax1.text(0.35, 0.05, '$90^{\\circ} \\leq \\Theta \\leq 110^{\\circ}$', verticalalignment='bottom', horizontalalignment='right', transform=ax1.transAxes, color=colors[3])\n",
    "plt.setp(ax1.get_xticklabels(), visible=False) \n",
    "\n",
    "# Log scales and limits (same as before)\n",
    "ax1.set_xscale('log')\n",
    "ax1.set_yscale('log')\n",
    "#ax1.set_xlim(50., 1e6)\n",
    "#ax1.set_ylim(2e-4, 1.1e-1)\n",
    "ax1.minorticks_on()\n",
    "ax1.tick_params(axis='x', which='both', direction='in', bottom=True, top=True)\n",
    "ax1.tick_params(axis='y', which='both', direction='in', left=True, right=True)\n",
    "\n",
    "\n",
    "\n",
    "ax1.legend( loc='upper right', frameon=False)\n",
    "\n",
    "\n",
    "ax2.plot(E, flux_mod/flux_def,  color=colors[0])\n",
    "\n",
    "ax2.set_xlabel('$E$ [GeV]')\n",
    "ax2.set_ylabel('Ratio')\n",
    "\n",
    "# Set limits for the lower plot\n",
    "ax2.set_xscale('log')\n",
    "#ax2.set_ylim(-0.05, 1.05)\n",
    "ax2.set_xlim(500., 1e8)\n",
    "\n",
    "\n",
    "# Save the figure\n",
    "plt.savefig(plot_dir+ \"musurfacespectrum_def_vs_mod_0.2abc.pdf\", bbox_inches='tight')\n"
   ]
  },
  {
   "cell_type": "code",
   "execution_count": 26,
   "id": "cd9bda43",
   "metadata": {},
   "outputs": [
    {
     "data": {
      "text/plain": [
       "<Figure size 2067.5x1550.62 with 0 Axes>"
      ]
     },
     "metadata": {},
     "output_type": "display_data"
    },
    {
     "data": {
      "image/png": "[encoded data removed]",
      "text/plain": [
       "<Figure size 413.5x310.125 with 2 Axes>"
      ]
     },
     "metadata": {},
     "output_type": "display_data"
    }
   ],
   "source": [
    "# test two modification approaches  (linearity)\n",
    "\n",
    "flux_dphi = (dphi_a * 0.05 + dphi_b * 0.05 + dphi_c * 0.05)+flux_def\n",
    "\n",
    "A4_width_inches = 0.5*8.27  # Width of A4 paper in inches\n",
    "A4_height_inches = A4_width_inches * 0.75 # Height is one-third of width\n",
    "figsize = (A4_width_inches, A4_height_inches)\n",
    "\n",
    "# Create subplots using GridSpec\n",
    "fig = plt.figure(figsize=figsize, dpi=500)\n",
    "fig.tight_layout(pad=0.4)\n",
    "\n",
    "# Create a gridspec with 2 rows and 1 column, where the second row will be narrow\n",
    "fig, (ax1, ax2) = plt.subplots(2, 1, figsize=(A4_width_inches, A4_height_inches), sharex=True, height_ratios=[3,1 ])\n",
    "\n",
    "\n",
    "# Plot lines with labels (same as before)\n",
    "ax1.plot(E, E**3. * flux_mod , color=colors[0], label=r'modified')\n",
    "ax1.plot(E, E**3. * flux_dphi[0] , color=colors[1], label=r'linear combination',ls='--')\n",
    "\n",
    "\n",
    "# Axes labels and text (same as before)\n",
    "#ax1.set_xlabel('$E$/GeV')\n",
    "ax1.set_ylabel(r'$E^{3}$ $\\frac{\\mathrm{d}\\Phi_{\\mu}}{\\mathrm{d}E}$' + '\\n' + r'[GeV$^{2}$ cm$^{-2}$s$^{-1}$sr$^{-1}$]')\n",
    "#ax1.text(0.35, 0.05, '$90^{\\circ} \\leq \\Theta \\leq 110^{\\circ}$', verticalalignment='bottom', horizontalalignment='right', transform=ax1.transAxes, color=colors[3])\n",
    "plt.setp(ax1.get_xticklabels(), visible=False) \n",
    "\n",
    "# Log scales and limits (same as before)\n",
    "ax1.set_xscale('log')\n",
    "ax1.set_yscale('log')\n",
    "#ax1.set_xlim(50., 1e6)\n",
    "#ax1.set_ylim(2e-4, 1.1e-1)\n",
    "ax1.minorticks_on()\n",
    "ax1.tick_params(axis='x', which='both', direction='in', bottom=True, top=True)\n",
    "ax1.tick_params(axis='y', which='both', direction='in', left=True, right=True)\n",
    "\n",
    "\n",
    "\n",
    "ax1.legend( loc='upper right', frameon=False)\n",
    "\n",
    "\n",
    "ax2.plot(E, flux_mod/flux_dphi[0],  color=colors[0])\n",
    "\n",
    "ax2.set_xlabel('$E$ [GeV]')\n",
    "ax2.set_ylabel('Fraction ')\n",
    "\n",
    "# Set limits for the lower plot\n",
    "ax2.set_xscale('log')\n",
    "#ax2.set_ylim(-0.05, 1.05)\n",
    "ax2.set_xlim(500., 1e8)\n",
    "\n",
    "\n",
    "# Save the figure\n",
    "plt.savefig(plot_dir+ \"spectrumtest_modified_lincombi.pdf\", bbox_inches='tight')\n"
   ]
  }
 ],
 "metadata": {
  "kernelspec": {
   "display_name": "cs_env",
   "language": "python",
   "name": "python3"
  },
  "language_info": {
   "codemirror_mode": {
    "name": "ipython",
    "version": 3
   },
   "file_extension": ".py",
   "mimetype": "text/x-python",
   "name": "python",
   "nbconvert_exporter": "python",
   "pygments_lexer": "ipython3",
   "version": "3.12.4"
  }
 },
 "nbformat": 4,
 "nbformat_minor": 5
}
