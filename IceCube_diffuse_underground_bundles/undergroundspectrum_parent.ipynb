{
 "cells": [
  {
   "cell_type": "code",
   "execution_count": 2,
   "id": "a78155b0",
   "metadata": {},
   "outputs": [],
   "source": [
    "import matplotlib.pyplot as plt\n",
    "from matplotlib import cm\n",
    "from matplotlib.colors import Normalize\n",
    "import matplotlib.lines as mlines\n",
    "from scipy.interpolate import UnivariateSpline\n",
    "from tqdm import tqdm\n",
    "import pickle\n",
    "import numpy as np\n",
    "import pathlib\n",
    "import scipy.interpolate as ip\n",
    "\n",
    "import  mceq_underground_helpers_oneregion_threshold as helper"
   ]
  },
  {
   "cell_type": "code",
   "execution_count": 3,
   "id": "9134e50c",
   "metadata": {},
   "outputs": [],
   "source": [
    "cos_thetas = np.arange(0.5, 1.001, 0.1)\n",
    "thetas = np.degrees(np.arccos(cos_thetas))\n",
    "\n",
    "depths = [1.5,3.5]"
   ]
  },
  {
   "cell_type": "code",
   "execution_count": 4,
   "id": "a9b5c735",
   "metadata": {},
   "outputs": [],
   "source": [
    "file = \"/hetghome/khymon/cs-files/surface_fluxes_parent_apr_GSF_Sibyll23c.pkl\"\n",
    "\n",
    "\n",
    "with open(file, \"rb\") as f:\n",
    "            data = pickle.load(f)\n",
    "\n",
    "_, cos_thetas, *fluxes = data\n",
    "surface_fluxes  = {\"tot\": np.asarray(fluxes[0]), \"conv\": np.asarray(fluxes[1]), \"pr\": np.asarray(fluxes[2]), \"k\": np.asarray(fluxes[3]),\n",
    "                   \"pi\": np.asarray(fluxes[4])}\n",
    "\n",
    "\n",
    "    "
   ]
  },
  {
   "cell_type": "code",
   "execution_count": 5,
   "id": "23de6f06",
   "metadata": {},
   "outputs": [
    {
     "data": {
      "text/plain": [
       "(6, 121)"
      ]
     },
     "execution_count": 5,
     "metadata": {},
     "output_type": "execute_result"
    }
   ],
   "source": [
    "surface_fluxes[\"pr\"].shape"
   ]
  },
  {
   "cell_type": "code",
   "execution_count": 6,
   "id": "8455c283",
   "metadata": {},
   "outputs": [],
   "source": [
    "tensor_fname = (\n",
    "   \"water_0.997_1000000_Survival_Probabilities.txt\"\n",
    ")"
   ]
  },
  {
   "cell_type": "code",
   "execution_count": 7,
   "id": "4ce9342e",
   "metadata": {},
   "outputs": [],
   "source": [
    "helper.load_survival_probability_tensor(file_name=tensor_fname)\n",
    "\n",
    "utensor = helper.load_survival_probability_tensor().swapaxes(0, 1).swapaxes(1, 2)"
   ]
  },
  {
   "cell_type": "code",
   "execution_count": 8,
   "id": "6adecb50",
   "metadata": {},
   "outputs": [
    {
     "name": "stdout",
     "output_type": "stream",
     "text": [
      "Key: tot\n",
      "Length of cos_thetas: 6\n",
      "Key: conv\n",
      "Length of cos_thetas: 6\n",
      "Key: pr\n",
      "Length of cos_thetas: 6\n",
      "Key: k\n",
      "Length of cos_thetas: 6\n",
      "Key: pi\n",
      "Length of cos_thetas: 6\n"
     ]
    }
   ],
   "source": [
    "for key in surface_fluxes:\n",
    "        print(f\"Key: {key}\")  # Print the key\n",
    "        print(f\"Length of cos_thetas: {len(cos_thetas)}\") "
   ]
  },
  {
   "cell_type": "code",
   "execution_count": 9,
   "id": "c8067299",
   "metadata": {},
   "outputs": [],
   "source": [
    "intp_surface_fluxes = {\n",
    "    key: ip.interp1d(cos_thetas, flux, axis=0, kind=\"linear\")\n",
    "    for key, flux in surface_fluxes.items()\n",
    "}"
   ]
  },
  {
   "cell_type": "code",
   "execution_count": 10,
   "id": "c1494be3",
   "metadata": {},
   "outputs": [],
   "source": [
    "# calculate underground flux fpr specific flux type and angle\n",
    "def uflux(depth,key,angle):\n",
    "    cth = np.cos(np.radians(angle))\n",
    "\n",
    "    # Directly set the maximum value to 1.0 for cos(theta)\n",
    "    cos_thetas_max_adjusted = 1.0  # Explicitly set the upper bound to 1.0\n",
    "\n",
    "    # Check that the min and max of cth are within the bounds of cos_thetas\n",
    "    assert np.min(cth) >= cos_thetas[0] and np.max(cth) <= cos_thetas_max_adjusted\n",
    "\n",
    "    if np.isscalar(depth):\n",
    "    \n",
    "        \n",
    "        # depth = np.array([depth])\n",
    "        fl = intp_surface_fluxes[key](cth)[:helper.dim_ug]\n",
    "        idx = np.argmax(helper.slant_depths > depth)\n",
    "        frange = (\n",
    "            utensor[idx - 1 : idx + 1].dot(np.nan_to_num(fl * helper._e_widths)) / helper._e_widths\n",
    "        )\n",
    "        with np.errstate(all=\"ignore\"):\n",
    "            return np.nan_to_num(\n",
    "                np.exp(\n",
    "                    ip.interp1d(\n",
    "                        helper.slant_depths[idx - 1 : idx + 1],\n",
    "                        np.log(frange),\n",
    "                        axis=0,\n",
    "                        kind=\"linear\",\n",
    "                    )(depth)\n",
    "                )\n",
    "            )\n"
   ]
  },
  {
   "cell_type": "code",
   "execution_count": 11,
   "id": "87bd294c",
   "metadata": {},
   "outputs": [
    {
     "data": {
      "text/plain": [
       "(91,)"
      ]
     },
     "execution_count": 11,
     "metadata": {},
     "output_type": "execute_result"
    }
   ],
   "source": [
    "uflux(1.5,\"tot\",60.).shape"
   ]
  },
  {
   "cell_type": "code",
   "execution_count": 12,
   "id": "9c513d7d",
   "metadata": {},
   "outputs": [],
   "source": [
    "ufluxes_tot = np.ndarray(shape=(len(thetas),len(depths),91))\n",
    "ufluxes_conv = np.ndarray(shape=(len(thetas),len(depths),91))\n",
    "ufluxes_pr = np.ndarray(shape=(len(thetas),len(depths),91))\n",
    "ufluxes_pi = np.ndarray(shape=(len(thetas),len(depths),91))\n",
    "ufluxes_k = np.ndarray(shape=(len(thetas),len(depths),91))\n",
    "\n",
    "\n",
    "for t in range(len(cos_thetas)):\n",
    "    for d in range(len(depths)):\n",
    "        ufluxes_tot[t][d] = uflux(depths[d],\"tot\",thetas[t])\n",
    "        ufluxes_conv[t][d] = uflux(depths[d],\"conv\",thetas[t])\n",
    "        ufluxes_pr[t][d] = uflux(depths[d],\"pr\",thetas[t])\n",
    "        ufluxes_pi[t][d] = uflux(depths[d],\"pi\",thetas[t])\n",
    "        ufluxes_k[t][d] = uflux(depths[d],\"k\",thetas[t])"
   ]
  },
  {
   "cell_type": "code",
   "execution_count": 13,
   "id": "e54a125e",
   "metadata": {},
   "outputs": [],
   "source": [
    "# avg flux accounting for solid angle\n",
    "#solid_angles = 2 * np.pi * (cos_thetas[:-1] - cos_thetas[1:])  # Shape: (N,)\n",
    "\n",
    "# Weighted average over zenith\n",
    "#avg_flux = np.sum(ufluxes_tot* solid_angles) / np.sum(solid_angles)"
   ]
  },
  {
   "cell_type": "code",
   "execution_count": 28,
   "id": "2cd78258",
   "metadata": {},
   "outputs": [
    {
     "name": "stderr",
     "output_type": "stream",
     "text": [
      "<>:32: SyntaxWarning: invalid escape sequence '\\c'\n",
      "<>:32: SyntaxWarning: invalid escape sequence '\\c'\n",
      "/tmp/ipykernel_4025577/2962969493.py:32: SyntaxWarning: invalid escape sequence '\\c'\n",
      "  ax1.text(0.35, 0.05, str(np.round(thetas[t],decimals=2))+ '$^{\\circ}$', verticalalignment='bottom', horizontalalignment='right', transform=ax1.transAxes, color=colors[3])\n",
      "/tmp/ipykernel_4025577/2962969493.py:50: RuntimeWarning: invalid value encountered in divide\n",
      "  ax2.plot(helper.mute_energies, ufluxes_pi[t][d]/ufluxes_tot[t][d], label=r'Fraction from $K$', color=colors[0])\n",
      "/tmp/ipykernel_4025577/2962969493.py:51: RuntimeWarning: invalid value encountered in divide\n",
      "  ax2.plot(helper.mute_energies, ufluxes_k[t][d]/ufluxes_tot[t][d], label=r'Fraction from $\\pi$', color=colors[1])\n",
      "/tmp/ipykernel_4025577/2962969493.py:52: RuntimeWarning: invalid value encountered in divide\n",
      "  ax2.plot(helper.mute_energies, ufluxes_pr[t][d]/ufluxes_tot[t][d], label=r'Fraction from prompt', color=colors[2])\n",
      "/tmp/ipykernel_4025577/2962969493.py:62: UserWarning: Attempt to set non-positive xlim on a log-scaled axis will be ignored.\n",
      "  fig.clf()\n",
      "/tmp/ipykernel_4025577/2962969493.py:50: RuntimeWarning: invalid value encountered in divide\n",
      "  ax2.plot(helper.mute_energies, ufluxes_pi[t][d]/ufluxes_tot[t][d], label=r'Fraction from $K$', color=colors[0])\n",
      "/tmp/ipykernel_4025577/2962969493.py:51: RuntimeWarning: invalid value encountered in divide\n",
      "  ax2.plot(helper.mute_energies, ufluxes_k[t][d]/ufluxes_tot[t][d], label=r'Fraction from $\\pi$', color=colors[1])\n",
      "/tmp/ipykernel_4025577/2962969493.py:52: RuntimeWarning: invalid value encountered in divide\n",
      "  ax2.plot(helper.mute_energies, ufluxes_pr[t][d]/ufluxes_tot[t][d], label=r'Fraction from prompt', color=colors[2])\n",
      "/tmp/ipykernel_4025577/2962969493.py:62: UserWarning: Attempt to set non-positive xlim on a log-scaled axis will be ignored.\n",
      "  fig.clf()\n",
      "/tmp/ipykernel_4025577/2962969493.py:50: RuntimeWarning: invalid value encountered in divide\n",
      "  ax2.plot(helper.mute_energies, ufluxes_pi[t][d]/ufluxes_tot[t][d], label=r'Fraction from $K$', color=colors[0])\n",
      "/tmp/ipykernel_4025577/2962969493.py:51: RuntimeWarning: invalid value encountered in divide\n",
      "  ax2.plot(helper.mute_energies, ufluxes_k[t][d]/ufluxes_tot[t][d], label=r'Fraction from $\\pi$', color=colors[1])\n",
      "/tmp/ipykernel_4025577/2962969493.py:52: RuntimeWarning: invalid value encountered in divide\n",
      "  ax2.plot(helper.mute_energies, ufluxes_pr[t][d]/ufluxes_tot[t][d], label=r'Fraction from prompt', color=colors[2])\n",
      "/tmp/ipykernel_4025577/2962969493.py:62: UserWarning: Attempt to set non-positive xlim on a log-scaled axis will be ignored.\n",
      "  fig.clf()\n",
      "/tmp/ipykernel_4025577/2962969493.py:50: RuntimeWarning: invalid value encountered in divide\n",
      "  ax2.plot(helper.mute_energies, ufluxes_pi[t][d]/ufluxes_tot[t][d], label=r'Fraction from $K$', color=colors[0])\n",
      "/tmp/ipykernel_4025577/2962969493.py:51: RuntimeWarning: invalid value encountered in divide\n",
      "  ax2.plot(helper.mute_energies, ufluxes_k[t][d]/ufluxes_tot[t][d], label=r'Fraction from $\\pi$', color=colors[1])\n",
      "/tmp/ipykernel_4025577/2962969493.py:52: RuntimeWarning: invalid value encountered in divide\n",
      "  ax2.plot(helper.mute_energies, ufluxes_pr[t][d]/ufluxes_tot[t][d], label=r'Fraction from prompt', color=colors[2])\n",
      "/tmp/ipykernel_4025577/2962969493.py:62: UserWarning: Attempt to set non-positive xlim on a log-scaled axis will be ignored.\n",
      "  fig.clf()\n",
      "/tmp/ipykernel_4025577/2962969493.py:50: RuntimeWarning: invalid value encountered in divide\n",
      "  ax2.plot(helper.mute_energies, ufluxes_pi[t][d]/ufluxes_tot[t][d], label=r'Fraction from $K$', color=colors[0])\n",
      "/tmp/ipykernel_4025577/2962969493.py:51: RuntimeWarning: invalid value encountered in divide\n",
      "  ax2.plot(helper.mute_energies, ufluxes_k[t][d]/ufluxes_tot[t][d], label=r'Fraction from $\\pi$', color=colors[1])\n",
      "/tmp/ipykernel_4025577/2962969493.py:52: RuntimeWarning: invalid value encountered in divide\n",
      "  ax2.plot(helper.mute_energies, ufluxes_pr[t][d]/ufluxes_tot[t][d], label=r'Fraction from prompt', color=colors[2])\n",
      "/tmp/ipykernel_4025577/2962969493.py:62: UserWarning: Attempt to set non-positive xlim on a log-scaled axis will be ignored.\n",
      "  fig.clf()\n",
      "/tmp/ipykernel_4025577/2962969493.py:50: RuntimeWarning: invalid value encountered in divide\n",
      "  ax2.plot(helper.mute_energies, ufluxes_pi[t][d]/ufluxes_tot[t][d], label=r'Fraction from $K$', color=colors[0])\n",
      "/tmp/ipykernel_4025577/2962969493.py:51: RuntimeWarning: invalid value encountered in divide\n",
      "  ax2.plot(helper.mute_energies, ufluxes_k[t][d]/ufluxes_tot[t][d], label=r'Fraction from $\\pi$', color=colors[1])\n",
      "/tmp/ipykernel_4025577/2962969493.py:52: RuntimeWarning: invalid value encountered in divide\n",
      "  ax2.plot(helper.mute_energies, ufluxes_pr[t][d]/ufluxes_tot[t][d], label=r'Fraction from prompt', color=colors[2])\n",
      "/tmp/ipykernel_4025577/2962969493.py:62: UserWarning: Attempt to set non-positive xlim on a log-scaled axis will be ignored.\n",
      "  fig.clf()\n",
      "/tmp/ipykernel_4025577/2962969493.py:50: RuntimeWarning: invalid value encountered in divide\n",
      "  ax2.plot(helper.mute_energies, ufluxes_pi[t][d]/ufluxes_tot[t][d], label=r'Fraction from $K$', color=colors[0])\n",
      "/tmp/ipykernel_4025577/2962969493.py:51: RuntimeWarning: invalid value encountered in divide\n",
      "  ax2.plot(helper.mute_energies, ufluxes_k[t][d]/ufluxes_tot[t][d], label=r'Fraction from $\\pi$', color=colors[1])\n",
      "/tmp/ipykernel_4025577/2962969493.py:52: RuntimeWarning: invalid value encountered in divide\n",
      "  ax2.plot(helper.mute_energies, ufluxes_pr[t][d]/ufluxes_tot[t][d], label=r'Fraction from prompt', color=colors[2])\n",
      "/tmp/ipykernel_4025577/2962969493.py:62: UserWarning: Attempt to set non-positive xlim on a log-scaled axis will be ignored.\n",
      "  fig.clf()\n",
      "/tmp/ipykernel_4025577/2962969493.py:50: RuntimeWarning: invalid value encountered in divide\n",
      "  ax2.plot(helper.mute_energies, ufluxes_pi[t][d]/ufluxes_tot[t][d], label=r'Fraction from $K$', color=colors[0])\n",
      "/tmp/ipykernel_4025577/2962969493.py:51: RuntimeWarning: invalid value encountered in divide\n",
      "  ax2.plot(helper.mute_energies, ufluxes_k[t][d]/ufluxes_tot[t][d], label=r'Fraction from $\\pi$', color=colors[1])\n",
      "/tmp/ipykernel_4025577/2962969493.py:52: RuntimeWarning: invalid value encountered in divide\n",
      "  ax2.plot(helper.mute_energies, ufluxes_pr[t][d]/ufluxes_tot[t][d], label=r'Fraction from prompt', color=colors[2])\n",
      "/tmp/ipykernel_4025577/2962969493.py:62: UserWarning: Attempt to set non-positive xlim on a log-scaled axis will be ignored.\n",
      "  fig.clf()\n",
      "/tmp/ipykernel_4025577/2962969493.py:50: RuntimeWarning: invalid value encountered in divide\n",
      "  ax2.plot(helper.mute_energies, ufluxes_pi[t][d]/ufluxes_tot[t][d], label=r'Fraction from $K$', color=colors[0])\n",
      "/tmp/ipykernel_4025577/2962969493.py:51: RuntimeWarning: invalid value encountered in divide\n",
      "  ax2.plot(helper.mute_energies, ufluxes_k[t][d]/ufluxes_tot[t][d], label=r'Fraction from $\\pi$', color=colors[1])\n",
      "/tmp/ipykernel_4025577/2962969493.py:52: RuntimeWarning: invalid value encountered in divide\n",
      "  ax2.plot(helper.mute_energies, ufluxes_pr[t][d]/ufluxes_tot[t][d], label=r'Fraction from prompt', color=colors[2])\n",
      "/tmp/ipykernel_4025577/2962969493.py:62: UserWarning: Attempt to set non-positive xlim on a log-scaled axis will be ignored.\n",
      "  fig.clf()\n",
      "/tmp/ipykernel_4025577/2962969493.py:50: RuntimeWarning: invalid value encountered in divide\n",
      "  ax2.plot(helper.mute_energies, ufluxes_pi[t][d]/ufluxes_tot[t][d], label=r'Fraction from $K$', color=colors[0])\n",
      "/tmp/ipykernel_4025577/2962969493.py:51: RuntimeWarning: invalid value encountered in divide\n",
      "  ax2.plot(helper.mute_energies, ufluxes_k[t][d]/ufluxes_tot[t][d], label=r'Fraction from $\\pi$', color=colors[1])\n",
      "/tmp/ipykernel_4025577/2962969493.py:52: RuntimeWarning: invalid value encountered in divide\n",
      "  ax2.plot(helper.mute_energies, ufluxes_pr[t][d]/ufluxes_tot[t][d], label=r'Fraction from prompt', color=colors[2])\n",
      "/tmp/ipykernel_4025577/2962969493.py:62: UserWarning: Attempt to set non-positive xlim on a log-scaled axis will be ignored.\n",
      "  fig.clf()\n",
      "/tmp/ipykernel_4025577/2962969493.py:50: RuntimeWarning: invalid value encountered in divide\n",
      "  ax2.plot(helper.mute_energies, ufluxes_pi[t][d]/ufluxes_tot[t][d], label=r'Fraction from $K$', color=colors[0])\n",
      "/tmp/ipykernel_4025577/2962969493.py:51: RuntimeWarning: invalid value encountered in divide\n",
      "  ax2.plot(helper.mute_energies, ufluxes_k[t][d]/ufluxes_tot[t][d], label=r'Fraction from $\\pi$', color=colors[1])\n",
      "/tmp/ipykernel_4025577/2962969493.py:52: RuntimeWarning: invalid value encountered in divide\n",
      "  ax2.plot(helper.mute_energies, ufluxes_pr[t][d]/ufluxes_tot[t][d], label=r'Fraction from prompt', color=colors[2])\n",
      "/tmp/ipykernel_4025577/2962969493.py:62: UserWarning: Attempt to set non-positive xlim on a log-scaled axis will be ignored.\n",
      "  fig.clf()\n",
      "/tmp/ipykernel_4025577/2962969493.py:50: RuntimeWarning: invalid value encountered in divide\n",
      "  ax2.plot(helper.mute_energies, ufluxes_pi[t][d]/ufluxes_tot[t][d], label=r'Fraction from $K$', color=colors[0])\n",
      "/tmp/ipykernel_4025577/2962969493.py:51: RuntimeWarning: invalid value encountered in divide\n",
      "  ax2.plot(helper.mute_energies, ufluxes_k[t][d]/ufluxes_tot[t][d], label=r'Fraction from $\\pi$', color=colors[1])\n",
      "/tmp/ipykernel_4025577/2962969493.py:52: RuntimeWarning: invalid value encountered in divide\n",
      "  ax2.plot(helper.mute_energies, ufluxes_pr[t][d]/ufluxes_tot[t][d], label=r'Fraction from prompt', color=colors[2])\n",
      "/tmp/ipykernel_4025577/2962969493.py:62: UserWarning: Attempt to set non-positive xlim on a log-scaled axis will be ignored.\n",
      "  fig.clf()\n"
     ]
    },
    {
     "data": {
      "text/plain": [
       "<Figure size 2067.5x1550.62 with 0 Axes>"
      ]
     },
     "metadata": {},
     "output_type": "display_data"
    },
    {
     "data": {
      "text/plain": [
       "<Figure size 2067.5x1550.62 with 0 Axes>"
      ]
     },
     "metadata": {},
     "output_type": "display_data"
    },
    {
     "data": {
      "text/plain": [
       "<Figure size 2067.5x1550.62 with 0 Axes>"
      ]
     },
     "metadata": {},
     "output_type": "display_data"
    },
    {
     "data": {
      "text/plain": [
       "<Figure size 2067.5x1550.62 with 0 Axes>"
      ]
     },
     "metadata": {},
     "output_type": "display_data"
    },
    {
     "data": {
      "text/plain": [
       "<Figure size 2067.5x1550.62 with 0 Axes>"
      ]
     },
     "metadata": {},
     "output_type": "display_data"
    },
    {
     "data": {
      "text/plain": [
       "<Figure size 2067.5x1550.62 with 0 Axes>"
      ]
     },
     "metadata": {},
     "output_type": "display_data"
    },
    {
     "data": {
      "text/plain": [
       "<Figure size 2067.5x1550.62 with 0 Axes>"
      ]
     },
     "metadata": {},
     "output_type": "display_data"
    },
    {
     "data": {
      "text/plain": [
       "<Figure size 2067.5x1550.62 with 0 Axes>"
      ]
     },
     "metadata": {},
     "output_type": "display_data"
    },
    {
     "data": {
      "text/plain": [
       "<Figure size 2067.5x1550.62 with 0 Axes>"
      ]
     },
     "metadata": {},
     "output_type": "display_data"
    },
    {
     "data": {
      "text/plain": [
       "<Figure size 2067.5x1550.62 with 0 Axes>"
      ]
     },
     "metadata": {},
     "output_type": "display_data"
    },
    {
     "data": {
      "text/plain": [
       "<Figure size 2067.5x1550.62 with 0 Axes>"
      ]
     },
     "metadata": {},
     "output_type": "display_data"
    },
    {
     "data": {
      "text/plain": [
       "<Figure size 2067.5x1550.62 with 0 Axes>"
      ]
     },
     "metadata": {},
     "output_type": "display_data"
    }
   ],
   "source": [
    "plot_dir = '/hetghome/khymon/Plots/cs-analysis/'\n",
    "\n",
    "for t in range(len(cos_thetas)):\n",
    "    for d in range(len(depths)):\n",
    "\n",
    "        A4_width_inches = 0.5*8.27  # Width of A4 paper in inches\n",
    "        A4_height_inches = A4_width_inches * 0.75 # Height is one-third of width\n",
    "        figsize = (A4_width_inches, A4_height_inches)\n",
    "        # Create subplots using GridSpec\n",
    "        fig = plt.figure(figsize=figsize, dpi=500)\n",
    "        fig.tight_layout(pad=0.4)\n",
    "        plt.rcParams.update({'font.size': 11})\n",
    "        #plt.style.use('science')\n",
    "        plt.style.use('tableau-colorblind10')\n",
    "        colors = plt.rcParams['axes.prop_cycle'].by_key()['color']\n",
    "        # Create a gridspec with 2 rows and 1 column, where the second row will be narrow\n",
    "        gs = fig.add_gridspec(2, 1, height_ratios=[3, 1], hspace=.1)  # 3:1 ratio between upper and lower plots\n",
    "        # Upper plot for the spectrum\n",
    "        ax1 = fig.add_subplot(gs[0])\n",
    "        # Lower plot for the fraction\n",
    "        ax2 = fig.add_subplot(gs[1], sharex=ax1)\n",
    "        # Plot lines with labels (same as before)\n",
    "        ax1.plot(helper.mute_energies, helper.mute_energies**2.7*ufluxes_tot[t][d], color='black', label='total')\n",
    "        ax1.plot(helper.mute_energies,  helper.mute_energies**2.7*ufluxes_pi[t][d], color=colors[0], label=r'$\\pi$')\n",
    "        ax1.plot(helper.mute_energies,  helper.mute_energies**2.7*ufluxes_k[t][d], color=colors[1], label=r'K')\n",
    "        ax1.plot(helper.mute_energies,  helper.mute_energies**2.7*ufluxes_pr[t][d], color=colors[2], label=r'prompt')\n",
    "\n",
    "        # Axes labels and text (same as before)\n",
    "        #ax1.set_xlabel('$E$/GeV')\n",
    "        ax1.set_ylabel(r'$E^{2.7}$ $\\Phi_{\\mu}$ /' + '\\n' + r'GeV$^{1.7}$ cm$^{-2}$s$^{-1}$sr$^{-1}$')\n",
    "\n",
    "        ax1.text(0.35, 0.05, str(np.round(thetas[t],decimals=2))+ '$^{\\circ}$', verticalalignment='bottom', horizontalalignment='right', transform=ax1.transAxes, color=colors[3])\n",
    "        plt.setp(ax1.get_xticklabels(), visible=False)\n",
    "        # Log scales and limits (same as before)\n",
    "        ax1.set_xscale('log')\n",
    "        ax1.set_yscale('log')\n",
    "        ax1.set_xlim(100., 1e6)\n",
    "        ax1.set_ylim(1.e-6, 1.e-1)\n",
    "        ax1.minorticks_on()\n",
    "        ax1.tick_params(axis='x', which='both', direction='in', bottom=True, top=True)\n",
    "        ax1.tick_params(axis='y', which='both', direction='in', left=True, right=True)\n",
    "        # Dummy lines for January and July to show in legend in color[3]\n",
    "        ax1.set_title('$d$=' +str(depths[d])+'km')\n",
    "        ax1.legend( loc='upper right', frameon=False,ncol=2)\n",
    "        # Legend for colors, placed above the plot\n",
    "        handles, labels = ax1.get_legend_handles_labels()\n",
    "        #fig.legend(handles, labels, loc='upper center', bbox_to_anchor=(0.55, 1.15), ncol=2)\n",
    "        # Plot fraction of each parent to the total flux in the lower plot\n",
    "\n",
    "        ax2.plot(helper.mute_energies, ufluxes_pi[t][d]/ufluxes_tot[t][d], label=r'Fraction from $K$', color=colors[0])\n",
    "        ax2.plot(helper.mute_energies, ufluxes_k[t][d]/ufluxes_tot[t][d], label=r'Fraction from $\\pi$', color=colors[1])\n",
    "        ax2.plot(helper.mute_energies, ufluxes_pr[t][d]/ufluxes_tot[t][d], label=r'Fraction from prompt', color=colors[2])\n",
    "\n",
    "        ax2.set_xlabel('$E$/GeV')\n",
    "        ax2.set_ylabel('Fraction ')\n",
    "        # Set limits for the lower plot\n",
    "        ax2.set_xscale('log')\n",
    "        ax2.set_ylim(-0.05, 1.05)\n",
    "        ax2.set_xlim(100., 1e6)\n",
    "\n",
    "        fig.savefig(plot_dir + 'uspectrum_parent_d' + str(depths[d]) + '_costheta' + str(cos_thetas[t]) + '.pdf',dpi=500,bbox_inches='tight')\n",
    "        fig.clf()"
   ]
  },
  {
   "cell_type": "code",
   "execution_count": null,
   "id": "16825adb",
   "metadata": {},
   "outputs": [
    {
     "ename": "",
     "evalue": "",
     "output_type": "error",
     "traceback": [
      "\u001b[1;31mnotebook controller is DISPOSED. \n",
      "\u001b[1;31mView Jupyter <a href='command:jupyter.viewOutput'>log</a> for further details."
     ]
    }
   ],
   "source": []
  }
 ],
 "metadata": {
  "kernelspec": {
   "display_name": "cs_env",
   "language": "python",
   "name": "python3"
  },
  "language_info": {
   "codemirror_mode": {
    "name": "ipython",
    "version": 3
   },
   "file_extension": ".py",
   "mimetype": "text/x-python",
   "name": "python",
   "nbconvert_exporter": "python",
   "pygments_lexer": "ipython3",
   "version": "3.12.4"
  }
 },
 "nbformat": 4,
 "nbformat_minor": 5
}
