{
 "cells": [
  {
   "cell_type": "code",
   "execution_count": 2,
   "id": "792efff4",
   "metadata": {},
   "outputs": [],
   "source": [
    "import matplotlib.pyplot as plt\n",
    "from matplotlib import cm\n",
    "from matplotlib.colors import Normalize\n",
    "import matplotlib.lines as mlines\n",
    "from scipy.interpolate import UnivariateSpline\n",
    "from tqdm import tqdm\n",
    "import pickle\n",
    "import numpy as np\n",
    "from scipy.optimize import curve_fit\n",
    "\n",
    "import crflux.models as pm\n",
    "\n",
    "import  mceq_underground_helper_forsplines as helper\n",
    "\n",
    "from helper_functions import sl_depth\n",
    "import seaborn as sns"
   ]
  },
  {
   "cell_type": "code",
   "execution_count": 3,
   "id": "1d289b4a",
   "metadata": {},
   "outputs": [],
   "source": [
    "# for plotting\n",
    "\n",
    "plt.rcParams.update({\n",
    "    \"font.size\": 12,\n",
    "    \"axes.labelsize\": 12,\n",
    "    \"xtick.labelsize\": 12,\n",
    "    \"ytick.labelsize\": 12\n",
    "})\n",
    "\n",
    "colors = sns.color_palette(\"colorblind\")\n",
    "\n",
    "plot_dir = '/hetghome/khymon/Plots/cs-analysis/'"
   ]
  },
  {
   "cell_type": "code",
   "execution_count": 4,
   "id": "4c6e2162",
   "metadata": {},
   "outputs": [],
   "source": [
    "def dNdN_mu(d, n_mu, p1, p2, p3):\n",
    "    '''\n",
    "        Get multiplicity intensity spectrum in cm-2 s-1 sr-1\n",
    "        p1, p2, p3: float \n",
    "        n_mu: multiplicity vector for which dNdNmu is calculated\n",
    "    '''\n",
    "    \n",
    "    angle = 0.\n",
    "    X = sl_depth(d,angle)\n",
    "    season = \"apr\"\n",
    "    threshold = 500.\n",
    "\n",
    "    return 1e4*helper.mult_dist(X, angle,\n",
    "                        pm.GlobalSplineFitBeta(),\"yields_\" + season, \n",
    "                        p1, p2,p3,n_mu,\n",
    "                        norm=False,threshold=threshold#))[0]\n",
    "                    ) / helper.rates(X, angle, season, p1, p2, p3, threshold)"
   ]
  },
  {
   "cell_type": "code",
   "execution_count": 5,
   "id": "95dedeb8",
   "metadata": {},
   "outputs": [],
   "source": [
    "def derivative(param,d,n_mu):\n",
    "    ''' Calculate derviate dNdNmu/dmu for each spline parameter\n",
    "        param: string\n",
    "        n_mu: multiplicity grid\n",
    "    '''\n",
    "    if param =='p1':\n",
    "        delta_dNdNmu = dNdN_mu(d, n_mu, 0.05, 0., 0.) - dNdN_mu(d, n_mu,-0.05, 0., 0.)\n",
    "    elif param =='p2':\n",
    "        delta_dNdNmu = dNdN_mu(d, n_mu, 0.0, 0.05, 0.) - dNdN_mu(d, n_mu, 0., -0.05, 0.)\n",
    "    elif param =='p3':\n",
    "        delta_dNdNmu = dNdN_mu(d, n_mu, 0.0, 0., 0.05) - dNdN_mu(d, n_mu, 0., 0., 0.05)\n",
    "\n",
    "    return delta_dNdNmu/(2*0.05)"
   ]
  },
  {
   "cell_type": "code",
   "execution_count": 6,
   "id": "663f48ed",
   "metadata": {},
   "outputs": [
    {
     "name": "stdout",
     "output_type": "stream",
     "text": [
      "Key: (0.0, 0.0, 0.0)\n",
      "Length of cos_thetas: 3\n",
      "Shape of flux for season jan: (3, 121)\n",
      "Shape of flux for season apr: (3, 121)\n",
      "Shape of flux for season jul: (3, 121)\n",
      "Key: (0.05, 0.0, 0.0)\n",
      "Length of cos_thetas: 3\n",
      "Shape of flux for season jan: (3, 121)\n",
      "Shape of flux for season apr: (3, 121)\n",
      "Shape of flux for season jul: (3, 121)\n",
      "Key: (-0.05, 0.0, 0.0)\n",
      "Length of cos_thetas: 3\n",
      "Shape of flux for season jan: (3, 121)\n",
      "Shape of flux for season apr: (3, 121)\n",
      "Shape of flux for season jul: (3, 121)\n",
      "Key: (0.0, 0.05, 0.0)\n",
      "Length of cos_thetas: 3\n",
      "Shape of flux for season jan: (3, 121)\n",
      "Shape of flux for season apr: (3, 121)\n",
      "Shape of flux for season jul: (3, 121)\n",
      "Key: (0.0, -0.05, 0.0)\n",
      "Length of cos_thetas: 3\n",
      "Shape of flux for season jan: (3, 121)\n",
      "Shape of flux for season apr: (3, 121)\n",
      "Shape of flux for season jul: (3, 121)\n",
      "Key: (0.0, 0.0, 0.05)\n",
      "Length of cos_thetas: 3\n",
      "Shape of flux for season jan: (3, 121)\n",
      "Shape of flux for season apr: (3, 121)\n",
      "Shape of flux for season jul: (3, 121)\n",
      "Key: (0.0, 0.0, -0.05)\n",
      "Length of cos_thetas: 3\n",
      "Shape of flux for season jan: (3, 121)\n",
      "Shape of flux for season apr: (3, 121)\n",
      "Shape of flux for season jul: (3, 121)\n"
     ]
    }
   ],
   "source": [
    "# initialize helper - loads respective surace flux files\n",
    "\n",
    "p1_values = [0.00, 0.05, -0.05, 0.00,  0.00, 0.00, 0.00]\n",
    "p2_values = [0.00, 0.00,  0.00, 0.05, -0.05, 0.00, 0.00]\n",
    "p3_values = [0.00, 0.00,  0.00, 0.00,  0.00, 0.05, -0.05]\n",
    "season_values = [\"jan\", \"apr\", \"jul\"]  #  seasons\n",
    "\n",
    "\n",
    "\n",
    "helper.initialize_flux_dicts(p1_values, p2_values, p3_values)\n",
    "helper.some_function_that_uses_angles()\n",
    "angles = helper.angles"
   ]
  },
  {
   "cell_type": "code",
   "execution_count": 7,
   "id": "2b4e65f0",
   "metadata": {},
   "outputs": [],
   "source": [
    "d = [1.5, 2.5]\n",
    "angles = helper.angles\n",
    "Nmu =  np.linspace(1, 100, 101) # "
   ]
  },
  {
   "cell_type": "code",
   "execution_count": 8,
   "id": "e87e1bdc",
   "metadata": {},
   "outputs": [
    {
     "data": {
      "text/plain": [
       "array([0.02069899, 0.01652536, 0.01371603, 0.0124227 , 0.01209741,\n",
       "       0.01230516, 0.01279795, 0.01339121, 0.01402032, 0.01460808,\n",
       "       0.01532415, 0.01583928, 0.01627999, 0.01661892, 0.01694276,\n",
       "       0.01728614, 0.0174101 , 0.01759244, 0.01773968, 0.01791961,\n",
       "       0.01799982, 0.01806911, 0.01812449, 0.01823022, 0.01821076,\n",
       "       0.01823933, 0.01826373, 0.01828535, 0.01842155, 0.0183395 ,\n",
       "       0.01835427, 0.01836918, 0.01838437, 0.01839993, 0.01840668,\n",
       "       0.01842407, 0.01839827, 0.01842055, 0.01844335, 0.01846671,\n",
       "       0.0184907 , 0.01862182, 0.01863965, 0.01862874, 0.01865102,\n",
       "       0.01867459, 0.01869943, 0.01872552, 0.01875281, 0.01878127,\n",
       "       0.01890255, 0.01892761, 0.01895383, 0.01891985, 0.01895165,\n",
       "       0.01898443, 0.01901815, 0.0190528 , 0.01908833, 0.01912473,\n",
       "       0.01916892, 0.01920663, 0.01924513, 0.01928439, 0.01931911,\n",
       "       0.01936007, 0.01940173, 0.01944407, 0.01948706, 0.01953068,\n",
       "       0.01957492, 0.01961977, 0.0196652 , 0.0197652 , 0.01980969,\n",
       "       0.01985477, 0.01990044, 0.01994669, 0.01989665, 0.01994737,\n",
       "       0.0199986 , 0.02005036, 0.02010263, 0.02015543, 0.02020875,\n",
       "       0.02026259, 0.02031696, 0.02037186, 0.02042728, 0.02058147,\n",
       "       0.02063483, 0.02068873, 0.02074317, 0.02079815, 0.02085367,\n",
       "       0.02085852, 0.02091647, 0.02097493, 0.0210339 , 0.02109338,\n",
       "       0.02115335])"
      ]
     },
     "execution_count": 8,
     "metadata": {},
     "output_type": "execute_result"
    }
   ],
   "source": [
    "\n",
    "m_test = np.linspace(3, 300, 101) \n",
    "\n",
    "dNdN_mu(1.5, m_test, 0.05, 0., 0.)/dNdN_mu(1.5, Nmu,0.05, 0., 0.)"
   ]
  },
  {
   "cell_type": "code",
   "execution_count": 10,
   "id": "aa1185d6",
   "metadata": {},
   "outputs": [],
   "source": [
    "#calculate derivatesfor all angles and depths, array structure #shape=(depth,angle,multiplicities)\n",
    "\n",
    "dNdNmu_da = np.ndarray(shape=(len(d), len(Nmu)))\n",
    "dNdNmu_db = np.ndarray(shape=(len(d), len(Nmu)))\n",
    "dNdNmu_dc = np.ndarray(shape=(len(d), len(Nmu)))\n",
    "\n",
    "for i in range(len(d)):\n",
    "    dNdNmu_da[i] = derivative(\"p1\",d[i], Nmu)\n",
    "    dNdNmu_db[i] = derivative(\"p2\",d[i], Nmu)\n",
    "    dNdNmu_dc[i] = derivative(\"p3\",d[i], Nmu)\n"
   ]
  },
  {
   "cell_type": "code",
   "execution_count": 11,
   "id": "64038a7c",
   "metadata": {},
   "outputs": [],
   "source": [
    "# get total derviative\n",
    "\n",
    "a = 0.05\n",
    "b = 0.05\n",
    "c = 0.05\n",
    "\n",
    "dNdNmu_def = np.ndarray(shape=(len(d), len(Nmu)))\n",
    "for i in range(len(d)):\n",
    "    dNdNmu_def[i] = dNdN_mu(d[i], Nmu, 0., 0., 0.)\n",
    "dNdNmu_mod = dNdNmu_def + dNdNmu_da * a  + dNdNmu_db * b + dNdNmu_dc * c"
   ]
  },
  {
   "cell_type": "code",
   "execution_count": 12,
   "id": "8f8316ed",
   "metadata": {},
   "outputs": [],
   "source": [
    "# create function forone depth and angle that can be fitted\n",
    "# returns dNdNmu/dmu in log10\n",
    "\n",
    "a = 0.05\n",
    "b = 0.05\n",
    "c = 0.05\n",
    "\n",
    "def f_mod(d, a,b,c, n_mu):\n",
    "    \n",
    "    dNdNmu_da = derivative(\"p1\",d,n_mu)\n",
    "    dNdNmu_db = derivative(\"p2\",d,n_mu)\n",
    "    dNdNmu_dc = derivative(\"p3\",d,n_mu)\n",
    "\n",
    "    dNdNmu_def = dNdN_mu(d, n_mu, 0., 0., 0.)\n",
    "    \n",
    "    return np.log10(dNdNmu_def + dNdNmu_da * a  + dNdNmu_db * b + dNdNmu_dc * c)"
   ]
  },
  {
   "cell_type": "code",
   "execution_count": 13,
   "id": "1c9ef704",
   "metadata": {},
   "outputs": [],
   "source": [
    "dNdNmu_mod_00 = f_mod(d=1.5,n_mu=Nmu,a=0.05,b=0.05,c=0.05) # in log - index is the depth, 0 = 1.5km, 1 = 2.5km\n",
    "dNdNmu_mod_10 = f_mod(d=2.5,n_mu=Nmu,a=0.05,b=0.05,c=0.05)\n",
    "\n"
   ]
  },
  {
   "cell_type": "code",
   "execution_count": 14,
   "id": "16ec6f05",
   "metadata": {},
   "outputs": [
    {
     "data": {
      "text/plain": [
       "array([ -3.42619739,  -4.53272196,  -5.23116433,  -5.74089738,\n",
       "        -6.13865183,  -6.45617457,  -6.71903497,  -6.94224088,\n",
       "        -7.13682785,  -7.30741741,  -7.46203557,  -7.60087706,\n",
       "        -7.730916  ,  -7.84812565,  -7.95721981,  -8.059353  ,\n",
       "        -8.15541361,  -8.24748557,  -8.33422744,  -8.41537714,\n",
       "        -8.49267758,  -8.56889084,  -8.63897838,  -8.7062948 ,\n",
       "        -8.77090331,  -8.83300766,  -8.89328171,  -8.95068543,\n",
       "        -9.00625578,  -9.05994475,  -9.11187137,  -9.16281071,\n",
       "        -9.21277828,  -9.25916129,  -9.3049102 ,  -9.34935506,\n",
       "        -9.39256809,  -9.43461611,  -9.47668666,  -9.51875712,\n",
       "        -9.55619581,  -9.59398233,  -9.63087095,  -9.66690333,\n",
       "        -9.7021183 ,  -9.7365521 ,  -9.77086427,  -9.80506587,\n",
       "        -9.83655358,  -9.86810455,  -9.89902555,  -9.92934129,\n",
       "        -9.95907436,  -9.98824501, -10.01687215, -10.0449742 ,\n",
       "       -10.07298785, -10.10137678, -10.12749337, -10.15316047,\n",
       "       -10.17884189, -10.20409233, -10.2289249 , -10.25335212,\n",
       "       -10.27738597, -10.30103791, -10.32431891, -10.34723948,\n",
       "       -10.36980969, -10.39280895, -10.41627112, -10.436871  ,\n",
       "       -10.45806734, -10.47895896, -10.49955375, -10.5198593 ,\n",
       "       -10.53988294, -10.5596317 , -10.57911237, -10.59833149,\n",
       "       -10.61729539, -10.63601014, -10.65448165, -10.67282453,\n",
       "       -10.69082255, -10.70881308, -10.72635501, -10.74357173,\n",
       "       -10.76068915, -10.77759944, -10.79430709, -10.81081649,\n",
       "       -10.82713183, -10.84325712, -10.85919617, -10.87495267,\n",
       "       -10.89053022, -10.90593232, -10.92116241, -10.93622384,\n",
       "       -10.95111985])"
      ]
     },
     "execution_count": 14,
     "metadata": {},
     "output_type": "execute_result"
    }
   ],
   "source": [
    "dNdNmu_mod_10"
   ]
  },
  {
   "cell_type": "code",
   "execution_count": 23,
   "id": "e5163ad2",
   "metadata": {},
   "outputs": [
    {
     "name": "stderr",
     "output_type": "stream",
     "text": [
      "<>:22: SyntaxWarning: invalid escape sequence '\\m'\n",
      "<>:36: SyntaxWarning: invalid escape sequence '\\m'\n",
      "<>:22: SyntaxWarning: invalid escape sequence '\\m'\n",
      "<>:36: SyntaxWarning: invalid escape sequence '\\m'\n",
      "/tmp/ipykernel_1908796/1493693591.py:22: SyntaxWarning: invalid escape sequence '\\m'\n",
      "  ax1.set_ylabel(\"log (dN/dN$_\\mu$ / (s cm$^2$ sr)$^{-1})$\")\n",
      "/tmp/ipykernel_1908796/1493693591.py:36: SyntaxWarning: invalid escape sequence '\\m'\n",
      "  ax2.set_xlabel('log($N_{\\mu}$)')\n"
     ]
    },
    {
     "data": {
      "text/plain": [
       "<Figure size 4135x3101.25 with 0 Axes>"
      ]
     },
     "metadata": {},
     "output_type": "display_data"
    },
    {
     "data": {
      "image/png": "[encoded data removed]",
      "text/plain": [
       "<Figure size 827x620.25 with 2 Axes>"
      ]
     },
     "metadata": {},
     "output_type": "display_data"
    },
    {
     "data": {
      "text/plain": [
       "<Figure size 640x480 with 0 Axes>"
      ]
     },
     "metadata": {},
     "output_type": "display_data"
    },
    {
     "data": {
      "text/plain": [
       "<Figure size 4135x3101.25 with 0 Axes>"
      ]
     },
     "metadata": {},
     "output_type": "display_data"
    },
    {
     "data": {
      "image/png": "[encoded data removed]",
      "text/plain": [
       "<Figure size 827x620.25 with 2 Axes>"
      ]
     },
     "metadata": {},
     "output_type": "display_data"
    },
    {
     "data": {
      "text/plain": [
       "<Figure size 640x480 with 0 Axes>"
      ]
     },
     "metadata": {},
     "output_type": "display_data"
    }
   ],
   "source": [
    "# plot multiplicity spectrum for angle = 0., d=1.5km in log log\n",
    "\n",
    "A4_width_inches = 8.27  # Width of A4 paper in inches\n",
    "A4_height_inches = A4_width_inches * 0.75 # Height is one-third of width\n",
    "figsize = (A4_width_inches, A4_height_inches)\n",
    "\n",
    "for i in range(len(d)):\n",
    "\n",
    "    # Create subplots using GridSpec\n",
    "    fig = plt.figure(figsize=figsize, dpi=500)\n",
    "    fig.tight_layout(pad=0.4)\n",
    "\n",
    "    # Create a gridspec with 2 rows and 1 column, where the second row will be narrow\n",
    "    fig, (ax1, ax2) = plt.subplots(2, 1, figsize=(A4_width_inches, A4_height_inches), sharex=True, height_ratios=[3,1 ])\n",
    "\n",
    "    # Plot lines with labels (same as before)\n",
    "    ax1.plot(np.log10(Nmu), np.log10(dNdNmu_mod[i]), color=colors[0], label=r'modified')\n",
    "    ax1.plot(np.log10(Nmu), np.log10(dNdNmu_def[i]), color='black', label=r'default',ls='--')\n",
    "\n",
    "    ax1.set_ylim(-11,-2)\n",
    "\n",
    "    ax1.set_ylabel(\"log (dN/dN$_\\mu$ / (s cm$^2$ sr)$^{-1})$\")\n",
    "    plt.setp(ax1.get_xticklabels(), visible=False) \n",
    "\n",
    "\n",
    "    ax1.minorticks_on()\n",
    "    ax1.tick_params(axis='x', which='both', direction='in', bottom=True, top=True)\n",
    "    ax1.tick_params(axis='y', which='both', direction='in', left=True, right=True)\n",
    "\n",
    "    ax1.legend( loc='upper right', frameon=False)\n",
    "    ax1.text(0.1, -10, '$d=$' +str(d[i])+  'km' , fontsize=12, color='grey')\n",
    "\n",
    "    ax2.plot(np.log10(Nmu), np.log10(dNdNmu_mod[i])/np.log10(dNdNmu_def[i]),  color=colors[0])\n",
    "    ax2.plot([0.,2.],[1,1], lw=0.7, ls=\"--\",color='black')\n",
    "\n",
    "    ax2.set_xlabel('log($N_{\\mu}$)')\n",
    "    ax2.set_ylabel('mod./def.')\n",
    "    ax2.set_ylim(0.99,1.01)\n",
    "    ax2.set_xlim(0,2)\n",
    "\n",
    "\n",
    "    # Save the figure\n",
    "    plt.savefig(plot_dir+ \"dNdNmu_def_vs_mod_0.05abc_depth\" + str(d[i])+\"km.pdf\", bbox_inches='tight')\n",
    "    plt.show()\n",
    "    plt.clf()"
   ]
  },
  {
   "cell_type": "code",
   "execution_count": 16,
   "id": "bc234d5b",
   "metadata": {},
   "outputs": [
    {
     "name": "stderr",
     "output_type": "stream",
     "text": [
      "/tmp/ipykernel_1908796/88444011.py:10: RuntimeWarning: divide by zero encountered in power\n",
      "  func = np.where(x < 0.5, 0.25, a * x**b)\n"
     ]
    }
   ],
   "source": [
    "#interpolate error from IceCube muon muplicity paper\n",
    "# x-values (multiplicity given in absolute log10(N))\n",
    "\n",
    "x_known = np.array([0.6,1.,1.5,2.])    \n",
    "sigma_known = np.array([0.18, 0.14, 0.1, 0.08])  # observed uncertainties\n",
    "\n",
    "# Define power-law model for sigma\n",
    "def sigma_model(x, a, b):\n",
    "    x = np.asarray(x)\n",
    "    func = np.where(x < 0.5, 0.25, a * x**b)\n",
    "    return func\n",
    "\n",
    "# Fit model to known uncertainties\n",
    "popt, _ = curve_fit(sigma_model, x_known, sigma_known)\n",
    "a_fit, b_fit = popt\n",
    "\n",
    "# Predict uncertainties for all multiplicities \n",
    "sigma_all = sigma_model(np.log10(Nmu), a_fit, b_fit)\n"
   ]
  },
  {
   "cell_type": "code",
   "execution_count": 17,
   "id": "4c285e29",
   "metadata": {},
   "outputs": [
    {
     "data": {
      "text/plain": [
       "array([0.25      , 0.25      , 0.25      , 0.18347187, 0.16656558,\n",
       "       0.15538067, 0.14729226, 0.14109437, 0.13614798, 0.13207971,\n",
       "       0.12865522, 0.12571919, 0.12316412, 0.12091298, 0.11890893,\n",
       "       0.11710901, 0.11548005, 0.113996  , 0.11263607, 0.11138343,\n",
       "       0.11022431, 0.10914728, 0.10814282, 0.10720287, 0.1063206 ,\n",
       "       0.10549014, 0.10470643, 0.10396511, 0.10326234, 0.10259477,\n",
       "       0.10195945, 0.10135376, 0.10077538, 0.10022223, 0.09969246,\n",
       "       0.09918439, 0.09869652, 0.09822748, 0.09777605, 0.0973411 ,\n",
       "       0.09692161, 0.09651663, 0.09612532, 0.09574689, 0.0953806 ,\n",
       "       0.0950258 , 0.09468186, 0.09434823, 0.09402435, 0.09370976,\n",
       "       0.09340398, 0.09310659, 0.09281721, 0.09253545, 0.09226096,\n",
       "       0.09199344, 0.09173256, 0.09147805, 0.09122964, 0.09098707,\n",
       "       0.0907501 , 0.09051852, 0.0902921 , 0.09007066, 0.08985399,\n",
       "       0.08964193, 0.08943429, 0.08923093, 0.08903168, 0.08883641,\n",
       "       0.08864497, 0.08845723, 0.08827307, 0.08809238, 0.08791502,\n",
       "       0.08774091, 0.08756993, 0.08740199, 0.08723698, 0.08707483,\n",
       "       0.08691545, 0.08675875, 0.08660465, 0.08645309, 0.08630397,\n",
       "       0.08615725, 0.08601284, 0.08587069, 0.08573073, 0.0855929 ,\n",
       "       0.08545716, 0.08532343, 0.08519167, 0.08506183, 0.08493386,\n",
       "       0.08480772, 0.08468334, 0.0845607 , 0.08443975, 0.08432045,\n",
       "       0.08420276])"
      ]
     },
     "execution_count": 17,
     "metadata": {},
     "output_type": "execute_result"
    }
   ],
   "source": [
    "sigma_all"
   ]
  },
  {
   "cell_type": "code",
   "execution_count": 18,
   "id": "9570ac95",
   "metadata": {},
   "outputs": [
    {
     "name": "stderr",
     "output_type": "stream",
     "text": [
      "<>:5: SyntaxWarning: invalid escape sequence '\\m'\n",
      "<>:6: SyntaxWarning: invalid escape sequence '\\m'\n",
      "<>:5: SyntaxWarning: invalid escape sequence '\\m'\n",
      "<>:6: SyntaxWarning: invalid escape sequence '\\m'\n",
      "/tmp/ipykernel_1908796/3306530509.py:5: SyntaxWarning: invalid escape sequence '\\m'\n",
      "  plt.xlabel('log($N_{\\mu}$)')\n",
      "/tmp/ipykernel_1908796/3306530509.py:6: SyntaxWarning: invalid escape sequence '\\m'\n",
      "  plt.ylabel('Absolute Error log($N_{\\mu}$)')\n"
     ]
    },
    {
     "data": {
      "text/plain": [
       "<matplotlib.legend.Legend at 0x7ce5c0385910>"
      ]
     },
     "execution_count": 18,
     "metadata": {},
     "output_type": "execute_result"
    },
    {
     "data": {
      "image/png": "[encoded data removed]",
      "text/plain": [
       "<Figure size 640x480 with 1 Axes>"
      ]
     },
     "metadata": {},
     "output_type": "display_data"
    }
   ],
   "source": [
    "# test plot for interpolation\n",
    "\n",
    "plt.scatter(x_known,sigma_known,label='data points',color='red')\n",
    "plt.plot(np.log10(Nmu),sigma_all,label='exp. fit')\n",
    "plt.xlabel('log($N_{\\mu}$)')\n",
    "plt.ylabel('Absolute Error log($N_{\\mu}$)')\n",
    "plt.legend()"
   ]
  },
  {
   "cell_type": "code",
   "execution_count": 42,
   "id": "f15ca266",
   "metadata": {},
   "outputs": [],
   "source": [
    "# propagate error to dNdNmu\n",
    "\n",
    "\n",
    "def propagate_error_via_gradient(f, x, x_err, dx=1e-6):\n",
    "    def finite_diff(f, x, i, dx):\n",
    "        x = np.array(x, copy=True)\n",
    "        x_fwd = x.copy()\n",
    "        x_bwd = x.copy()\n",
    "        \n",
    "        if i == 0:\n",
    "            # Forward difference at start\n",
    "            x_fwd[i] += dx\n",
    "            return (f(x_fwd)[i] - f(x)[i]) / dx\n",
    "        elif i == len(x) - 1:\n",
    "            # Backward difference at end\n",
    "            x_bwd[i] -= dx\n",
    "            return (f(x)[i] - f(x_bwd)[i]) / dx\n",
    "        else:\n",
    "            # Central difference\n",
    "            x_fwd[i] += dx\n",
    "            x_bwd[i] -= dx\n",
    "            return (f(x_fwd)[i] - f(x_bwd)[i]) / (2 * dx)\n",
    "\n",
    "    dfdx = np.array([finite_diff(f, x, i, dx) for i in range(len(x))])\n",
    "    return np.abs(dfdx) * x_err\n",
    "\n",
    "\n",
    "def f_wrapped(Nmu):\n",
    "    a = 0.05\n",
    "    b = 0.05\n",
    "    c = 0.05\n",
    "    return f_mod(1.5, a, b, c, Nmu)"
   ]
  },
  {
   "cell_type": "code",
   "execution_count": 33,
   "id": "ae8e9ac8",
   "metadata": {},
   "outputs": [
    {
     "data": {
      "text/plain": [
       "array([ 0.57564627,  1.14553608,  1.71542589,  1.67716461,  1.90231586,\n",
       "        2.12877445,  2.35372151,  2.57631261,  2.79635145,  3.01387648,\n",
       "        3.22901151,  3.4419068 ,  3.65271482,  3.86158045,  4.06863737,\n",
       "        4.27400734,  4.47780051,  4.68011642,  4.88104495,  5.08066745,\n",
       "        5.27905766,  5.47628258,  5.6724033 ,  5.8674756 ,  6.06155062,\n",
       "        6.25467532,  6.44689295,  6.63824345,  6.82876379,  7.01848825,\n",
       "        7.20744869,  7.39567483,  7.58319436,  7.7700332 ,  7.95621565,\n",
       "        8.14176448,  8.32670111,  8.51104571,  8.69481729,  8.8780338 ,\n",
       "        9.06071223,  9.24286862,  9.42451823,  9.60567551,  9.78635418,\n",
       "        9.96656732, 10.14632736, 10.32564616, 10.50453502, 10.68300477,\n",
       "       10.8610657 , 11.03872771, 11.21600025, 11.39289237, 11.56941278,\n",
       "       11.7455698 , 11.92137144, 12.0968254 , 12.27193909, 12.44671962,\n",
       "       12.62117385, 12.79530838, 12.9691296 , 13.14264364, 13.31585644,\n",
       "       13.48877372, 13.66140102, 13.83374368, 14.00580689, 14.17759564,\n",
       "       14.34911479, 14.52036903, 14.69136292, 14.86210085, 15.0325871 ,\n",
       "       15.20282584, 15.37282107, 15.54257672, 15.71209658, 15.88138435,\n",
       "       16.0504436 , 16.21927782, 16.38789042, 16.55628469, 16.72446384,\n",
       "       16.892431  , 17.06018923, 17.22774148, 17.39509066, 17.56223958,\n",
       "       17.72919099, 17.89594758, 18.06251196, 18.22888668, 18.39507425,\n",
       "       18.56107709, 18.72689758, 18.89253805, 19.05800076, 19.22328793,\n",
       "       19.38840173])"
      ]
     },
     "execution_count": 33,
     "metadata": {},
     "output_type": "execute_result"
    }
   ],
   "source": [
    "x_err_lin = Nmu * np.log(10) * sigma_all\n",
    "x_err_lin"
   ]
  },
  {
   "cell_type": "code",
   "execution_count": 51,
   "id": "b9638312",
   "metadata": {},
   "outputs": [],
   "source": [
    "y_err_log = propagate_error_via_gradient(f_wrapped, Nmu, x_err_lin)"
   ]
  },
  {
   "cell_type": "code",
   "execution_count": 53,
   "id": "f94d7cb9",
   "metadata": {},
   "outputs": [
    {
     "data": {
      "text/plain": [
       "array([0.85959703, 0.87917653, 0.90815265, 0.68792982, 0.64625854,\n",
       "       0.61635715, 0.59109561, 0.56990153, 0.55259043, 0.53451215,\n",
       "       0.51742292, 0.50098288, 0.48720584, 0.47322343, 0.46198917,\n",
       "       0.45090732, 0.44069261, 0.43201815, 0.42426317, 0.41527925,\n",
       "       0.40982216, 0.40424439, 0.3992126 , 0.39280205, 0.38935897,\n",
       "       0.38562861, 0.38223518, 0.37914322, 0.37295373, 0.37160309,\n",
       "       0.36925743, 0.36708025, 0.36501596, 0.36306757, 0.36148975,\n",
       "       0.35964549, 0.35799412, 0.35642764, 0.35493988, 0.35352539,\n",
       "       0.35217915, 0.35001958, 0.34693396, 0.34675114, 0.34563981,\n",
       "       0.34457438, 0.34353724, 0.34251157, 0.34150554, 0.34051883,\n",
       "       0.33882087, 0.33632115, 0.33620775, 0.33529485, 0.33439776,\n",
       "       0.33351605, 0.33264904, 0.33179633, 0.33095724, 0.33013147,\n",
       "       0.32926756, 0.32841483, 0.32757421, 0.32684529, 0.32607952,\n",
       "       0.32532477, 0.32458052, 0.32384637, 0.32312219, 0.32240754,\n",
       "       0.32170226, 0.32100604, 0.32031857, 0.31926736, 0.31859768,\n",
       "       0.31714712, 0.31690771, 0.31626261, 0.31562479, 0.31499429,\n",
       "       0.31437124, 0.31375676, 0.31315257, 0.31255965, 0.31197851,\n",
       "       0.3114072 , 0.31084502, 0.31029189, 0.30974763, 0.30857609,\n",
       "       0.30805008, 0.3061767 , 0.30566929, 0.30588157, 0.30538773,\n",
       "       0.3049012 , 0.30442194, 0.30394955, 0.30348366, 0.30302473,\n",
       "       0.30257223])"
      ]
     },
     "execution_count": 53,
     "metadata": {},
     "output_type": "execute_result"
    }
   ],
   "source": [
    "y_err_log"
   ]
  },
  {
   "cell_type": "code",
   "execution_count": 52,
   "id": "e3c83c2a",
   "metadata": {},
   "outputs": [
    {
     "name": "stderr",
     "output_type": "stream",
     "text": [
      "/hetghome/khymon/cs-analysis/IceCube_diffuse_underground_bundles/mceq_underground_helper_forsplines.py:494: RuntimeWarning: divide by zero encountered in log\n",
      "  return np.exp(s_ecr(np.log(nmu)))\n",
      "/hetghome/khymon/cs-analysis/IceCube_diffuse_underground_bundles/mceq_underground_helper_forsplines.py:502: RuntimeWarning: divide by zero encountered in log\n",
      "  return np.exp(sd_ecr(np.log(nmu)))\n",
      "/tmp/ipykernel_1908796/2155343901.py:9: OptimizeWarning: Covariance of the parameters could not be estimated\n",
      "  popt, pcov = curve_fit(f_fit, np.log10(Nmu), dNdNmu_mod_10, p0=[0.05, 0.0, 0.0])\n"
     ]
    }
   ],
   "source": [
    "# fit optimal a, b ,c\n",
    "def f_fit(Nmu, a, b, c):\n",
    "    return f_mod(1.5, a, b, c, Nmu)\n",
    "\n",
    "\n",
    "sigma_test = 0.1 * dNdNmu_mod_00 #(assuma 10% error)\n",
    "\n",
    "\n",
    "popt, pcov = curve_fit(f_fit, np.log10(Nmu), dNdNmu_mod_10, p0=[0.05, 0.0, 0.0])\n"
   ]
  },
  {
   "cell_type": "code",
   "execution_count": 63,
   "id": "f0cb4e08",
   "metadata": {},
   "outputs": [],
   "source": [
    "def log_model(logNmu, a, b, c):\n",
    "    Nmu_linear = 10**logNmu\n",
    "    return f_mod(1.5, a, b, c, Nmu_linear)"
   ]
  },
  {
   "cell_type": "code",
   "execution_count": 60,
   "id": "741279b3",
   "metadata": {},
   "outputs": [
    {
     "data": {
      "text/plain": [
       "array([ -2.70226402,  -3.74334235,  -4.37161459,  -4.83558901,\n",
       "        -5.20624428,  -5.51860695,  -5.78807931,  -6.02339671,\n",
       "        -6.23033558,  -6.41724146,  -6.58609387,  -6.73869947,\n",
       "        -6.87660888,  -7.00481819,  -7.1215824 ,  -7.23094353,\n",
       "        -7.33262799,  -7.42697633,  -7.5156401 ,  -7.60169253,\n",
       "        -7.6796679 ,  -7.75460183,  -7.82594983,  -7.89642422,\n",
       "        -7.96047578,  -8.02277177,  -8.08262255,  -8.14022822,\n",
       "        -8.2002599 ,  -8.25182241,  -8.30338072,  -8.35330139,\n",
       "        -8.40168932,  -8.44863856,  -8.49386681,  -8.53836552,\n",
       "        -8.58150739,  -8.62351384,  -8.66444578,  -8.70435937,\n",
       "        -8.74330646,  -8.78257957,  -8.82226326,  -8.85692202,\n",
       "        -8.89227053,  -8.92686416,  -8.9607353 ,  -8.99391255,\n",
       "        -9.02642263,  -9.05829124,  -9.09059982,  -9.12344709,\n",
       "        -9.15212623,  -9.18153054,  -9.21040424,  -9.23876563,\n",
       "        -9.26663208,  -9.2940201 ,  -9.32094537,  -9.34742282,\n",
       "        -9.37354568,  -9.39924777,  -9.42453491,  -9.44927139,\n",
       "        -9.47370223,  -9.49776143,  -9.52145975,  -9.5448075 ,\n",
       "        -9.56781454,  -9.59049034,  -9.61284397,  -9.63488411,\n",
       "        -9.65661913,  -9.67865217,  -9.69977606,  -9.72185819,\n",
       "        -9.74170466,  -9.76198077,  -9.78199614,  -9.80175712,\n",
       "        -9.82126984,  -9.84054026,  -9.85957425,  -9.87837754,\n",
       "        -9.89695574,  -9.91531424,  -9.93345816,  -9.95139243,\n",
       "        -9.96912185,  -9.98769198, -10.00498975, -10.02430463,\n",
       "       -10.04114992, -10.05664379, -10.07316739, -10.0895162 ,\n",
       "       -10.10569388, -10.12170397, -10.1375499 , -10.15323501,\n",
       "       -10.16876252])"
      ]
     },
     "execution_count": 60,
     "metadata": {},
     "output_type": "execute_result"
    }
   ],
   "source": [
    "f_mod(1.5, a, b, c, Nmu)"
   ]
  },
  {
   "cell_type": "code",
   "execution_count": 64,
   "id": "8bf3bf07",
   "metadata": {},
   "outputs": [
    {
     "data": {
      "text/plain": [
       "array([ -2.70226402,  -3.74334235,  -4.37161459,  -4.83558901,\n",
       "        -5.20624428,  -5.51860695,  -5.78807931,  -6.02339671,\n",
       "        -6.23033558,  -6.41724146,  -6.58609387,  -6.73869947,\n",
       "        -6.87660888,  -7.00481819,  -7.1215824 ,  -7.23094353,\n",
       "        -7.33262799,  -7.42697633,  -7.5156401 ,  -7.60169253,\n",
       "        -7.6796679 ,  -7.75460183,  -7.82594983,  -7.89642422,\n",
       "        -7.96047578,  -8.02277177,  -8.08262255,  -8.14022822,\n",
       "        -8.2002599 ,  -8.25182241,  -8.30338072,  -8.35330139,\n",
       "        -8.40168932,  -8.44863856,  -8.49386681,  -8.53836552,\n",
       "        -8.58150739,  -8.62351384,  -8.66444578,  -8.70435937,\n",
       "        -8.74330646,  -8.78257957,  -8.82226326,  -8.85692202,\n",
       "        -8.89227053,  -8.92686416,  -8.9607353 ,  -8.99391255,\n",
       "        -9.02642263,  -9.05829124,  -9.09059982,  -9.12344709,\n",
       "        -9.15212623,  -9.18153054,  -9.21040424,  -9.23876563,\n",
       "        -9.26663208,  -9.2940201 ,  -9.32094537,  -9.34742282,\n",
       "        -9.37354568,  -9.39924777,  -9.42453491,  -9.44927139,\n",
       "        -9.47370223,  -9.49776143,  -9.52145975,  -9.5448075 ,\n",
       "        -9.56781454,  -9.59049034,  -9.61284397,  -9.63488411,\n",
       "        -9.65661913,  -9.67865217,  -9.69977606,  -9.72185819,\n",
       "        -9.74170466,  -9.76198077,  -9.78199614,  -9.80175712,\n",
       "        -9.82126984,  -9.84054026,  -9.85957425,  -9.87837754,\n",
       "        -9.89695574,  -9.91531424,  -9.93345816,  -9.95139243,\n",
       "        -9.96912185,  -9.98769198, -10.00498975, -10.02430463,\n",
       "       -10.04114992, -10.05664379, -10.07316739, -10.0895162 ,\n",
       "       -10.10569388, -10.12170397, -10.1375499 , -10.15323501,\n",
       "       -10.16876252])"
      ]
     },
     "execution_count": 64,
     "metadata": {},
     "output_type": "execute_result"
    }
   ],
   "source": [
    "log_model(np.log10(Nmu), a, b, c)\n"
   ]
  },
  {
   "cell_type": "code",
   "execution_count": 76,
   "id": "47c9a943",
   "metadata": {},
   "outputs": [
    {
     "name": "stderr",
     "output_type": "stream",
     "text": [
      "/tmp/ipykernel_1908796/1942927758.py:1: OptimizeWarning: Covariance of the parameters could not be estimated\n",
      "  popt, pcov = curve_fit(\n"
     ]
    }
   ],
   "source": [
    "popt, pcov = curve_fit(\n",
    "    log_model,\n",
    "    np.log10(Nmu),\n",
    "    dNdNmu_mod_00, p0=[0.,0.,0],\n",
    "    sigma=sigma_test,\n",
    "    absolute_sigma=True\n",
    "  )"
   ]
  },
  {
   "cell_type": "code",
   "execution_count": 77,
   "id": "e8bc40a0",
   "metadata": {},
   "outputs": [
    {
     "data": {
      "text/plain": [
       "array([0.05, 0.05, 0.  ])"
      ]
     },
     "execution_count": 77,
     "metadata": {},
     "output_type": "execute_result"
    }
   ],
   "source": [
    "popt"
   ]
  },
  {
   "cell_type": "code",
   "execution_count": 78,
   "id": "3aaa7fe0",
   "metadata": {},
   "outputs": [
    {
     "data": {
      "text/plain": [
       "array([[inf, inf, inf],\n",
       "       [inf, inf, inf],\n",
       "       [inf, inf, inf]])"
      ]
     },
     "execution_count": 78,
     "metadata": {},
     "output_type": "execute_result"
    }
   ],
   "source": [
    "pcov"
   ]
  },
  {
   "cell_type": "code",
   "execution_count": 82,
   "id": "e909262b",
   "metadata": {},
   "outputs": [],
   "source": [
    "from scipy.optimize import minimize\n",
    "\n",
    "# Chi-squared function\n",
    "def chi2(params, x, y, y_err):\n",
    "    a, b,c  = params\n",
    "    y_model = log_model(x, a, b,c)\n",
    "    return np.sum(((y - y_model) / y_err)**2)"
   ]
  },
  {
   "cell_type": "code",
   "execution_count": 85,
   "id": "dfbfb16f",
   "metadata": {},
   "outputs": [
    {
     "name": "stdout",
     "output_type": "stream",
     "text": [
      "Best-fit parameters: [0.04999997 0.04999885 0.1       ]\n",
      "Chi2 at minimum: 4.9001289255677614e-14\n"
     ]
    }
   ],
   "source": [
    "initial_guess = [0.1, 0.1,0.1]\n",
    "\n",
    "# Call minimizer\n",
    "result = minimize(chi2, initial_guess, args=(np.log10(Nmu), dNdNmu_mod_00, y_err_log))\n",
    "\n",
    "# Best-fit parameters\n",
    "popt = result.x\n",
    "\n",
    "print(\"Best-fit parameters:\", popt)\n",
    "print(\"Chi2 at minimum:\", result.fun)"
   ]
  },
  {
   "cell_type": "code",
   "execution_count": 86,
   "id": "95e29488",
   "metadata": {},
   "outputs": [
    {
     "name": "stdout",
     "output_type": "stream",
     "text": [
      "Parameter uncertainties: [0.08019337 4.24071148 1.        ]\n"
     ]
    }
   ],
   "source": [
    "from numpy.linalg import inv\n",
    "\n",
    "# Numerical approximation of covariance matrix\n",
    "if result.hess_inv is not None:\n",
    "    try:\n",
    "        pcov = result.hess_inv if isinstance(result.hess_inv, np.ndarray) else result.hess_inv.todense()\n",
    "        perr = np.sqrt(np.diag(cov))\n",
    "        print(\"Parameter uncertainties:\", perr)\n",
    "    except Exception as e:\n",
    "        print(\"Covariance estimation failed:\", e)"
   ]
  },
  {
   "cell_type": "code",
   "execution_count": 88,
   "id": "7707050f",
   "metadata": {},
   "outputs": [],
   "source": [
    "# save files to folder\n",
    "with open(\"/hetghome/khymon/cs-files/dNdNmu_fit-pi-air_d1.5km.pkl\", \"wb\") as f:\n",
    "    pickle.dump((popt, pcov), f)"
   ]
  },
  {
   "cell_type": "code",
   "execution_count": null,
   "id": "9877fd92",
   "metadata": {},
   "outputs": [
    {
     "ename": "",
     "evalue": "",
     "output_type": "error",
     "traceback": [
      "\u001b[1;31mnotebook controller is DISPOSED. \n",
      "\u001b[1;31mView Jupyter <a href='command:jupyter.viewOutput'>log</a> for further details."
     ]
    }
   ],
   "source": [
    "# test different fit methods"
   ]
  },
  {
   "cell_type": "code",
   "execution_count": null,
   "id": "532574d9",
   "metadata": {},
   "outputs": [
    {
     "ename": "",
     "evalue": "",
     "output_type": "error",
     "traceback": [
      "\u001b[1;31mnotebook controller is DISPOSED. \n",
      "\u001b[1;31mView Jupyter <a href='command:jupyter.viewOutput'>log</a> for further details."
     ]
    }
   ],
   "source": [
    "from scipy.odr import ODR,Model, RealData\n",
    "\n",
    "# Define the ODR-compatible model\n",
    "def odr_model(beta, x):\n",
    "    a, b, c = beta\n",
    "    return f_mod(1.5,  a, b, c, x)\n",
    "\n",
    "data = RealData(np.log10(Nmu), dNdNmu_mod_00, sx=sigma_all)\n",
    "\n",
    "model = Model(odr_model)\n",
    "odr = ODR(data, model, beta0=[0.02, 0.03, 0.01])\n",
    "output = odr.run()"
   ]
  },
  {
   "cell_type": "code",
   "execution_count": null,
   "id": "67bbfbd0",
   "metadata": {},
   "outputs": [
    {
     "ename": "",
     "evalue": "",
     "output_type": "error",
     "traceback": [
      "\u001b[1;31mnotebook controller is DISPOSED. \n",
      "\u001b[1;31mView Jupyter <a href='command:jupyter.viewOutput'>log</a> for further details."
     ]
    }
   ],
   "source": [
    "popt = output.beta\n",
    "pcov = output.cov_beta"
   ]
  },
  {
   "cell_type": "code",
   "execution_count": null,
   "id": "66ffe3a5",
   "metadata": {},
   "outputs": [
    {
     "data": {
      "text/plain": [
       "array([[8.80829259e-02, 3.08666667e+00, 0.00000000e+00],\n",
       "       [3.08666667e+00, 1.65294089e+02, 0.00000000e+00],\n",
       "       [0.00000000e+00, 0.00000000e+00, 0.00000000e+00]])"
      ]
     },
     "execution_count": 24,
     "metadata": {},
     "output_type": "execute_result"
    },
    {
     "ename": "",
     "evalue": "",
     "output_type": "error",
     "traceback": [
      "\u001b[1;31mnotebook controller is DISPOSED. \n",
      "\u001b[1;31mView Jupyter <a href='command:jupyter.viewOutput'>log</a> for further details."
     ]
    }
   ],
   "source": [
    "pcov"
   ]
  },
  {
   "cell_type": "code",
   "execution_count": null,
   "id": "de247db2",
   "metadata": {},
   "outputs": [
    {
     "data": {
      "text/plain": [
       "array([0.05, 0.05, 0.01])"
      ]
     },
     "execution_count": 25,
     "metadata": {},
     "output_type": "execute_result"
    },
    {
     "ename": "",
     "evalue": "",
     "output_type": "error",
     "traceback": [
      "\u001b[1;31mnotebook controller is DISPOSED. \n",
      "\u001b[1;31mView Jupyter <a href='command:jupyter.viewOutput'>log</a> for further details."
     ]
    }
   ],
   "source": [
    "popt"
   ]
  },
  {
   "cell_type": "code",
   "execution_count": null,
   "id": "8e4183d4",
   "metadata": {},
   "outputs": [
    {
     "data": {
      "text/plain": [
       "array([ 0.29678768, 12.85667488,  0.        ])"
      ]
     },
     "execution_count": 26,
     "metadata": {},
     "output_type": "execute_result"
    },
    {
     "ename": "",
     "evalue": "",
     "output_type": "error",
     "traceback": [
      "\u001b[1;31mnotebook controller is DISPOSED. \n",
      "\u001b[1;31mView Jupyter <a href='command:jupyter.viewOutput'>log</a> for further details."
     ]
    }
   ],
   "source": [
    "param_errors = np.sqrt(np.diag(output.cov_beta))\n",
    "param_errors"
   ]
  }
 ],
 "metadata": {
  "kernelspec": {
   "display_name": "cs_env",
   "language": "python",
   "name": "python3"
  },
  "language_info": {
   "codemirror_mode": {
    "name": "ipython",
    "version": 3
   },
   "file_extension": ".py",
   "mimetype": "text/x-python",
   "name": "python",
   "nbconvert_exporter": "python",
   "pygments_lexer": "ipython3",
   "version": "3.12.4"
  }
 },
 "nbformat": 4,
 "nbformat_minor": 5
}
