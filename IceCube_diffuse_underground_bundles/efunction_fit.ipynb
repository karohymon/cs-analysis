{
 "cells": [
  {
   "cell_type": "code",
   "execution_count": 1,
   "id": "17cdbb0f",
   "metadata": {},
   "outputs": [],
   "source": [
    "import matplotlib.pyplot as plt\n",
    "from matplotlib import cm\n",
    "from matplotlib.colors import Normalize\n",
    "import matplotlib.lines as mlines\n",
    "from scipy.interpolate import UnivariateSpline\n",
    "from tqdm import tqdm\n",
    "import pickle\n",
    "import numpy as np\n",
    "\n",
    "import crflux.models as pm\n",
    "import mceq_underground_helpers_cs as mh\n",
    "from MCEq.data import InteractionCrossSections\n",
    "from MCEq.core import MCEqRun\n",
    "import  mceq_underground_helper_k_pi as helper\n",
    "from scipy.optimize import curve_fit\n",
    "from scipy.stats import linregress"
   ]
  },
  {
   "cell_type": "code",
   "execution_count": 2,
   "id": "19017a7f",
   "metadata": {},
   "outputs": [],
   "source": [
    "slant_depths = helper.slant_depths[2:-1:4]"
   ]
  },
  {
   "cell_type": "code",
   "execution_count": 3,
   "id": "601b9ebd",
   "metadata": {},
   "outputs": [],
   "source": [
    "plot_dir = '/hetghome/khymon/Plots/cs-analysis/'"
   ]
  },
  {
   "cell_type": "code",
   "execution_count": 4,
   "id": "7dfc3008",
   "metadata": {},
   "outputs": [
    {
     "name": "stdout",
     "output_type": "stream",
     "text": [
      "Key: (2212, 1.0, 1.0, 2.05, 'inf')\n",
      "Length of cos_thetas: 6\n",
      "Shape of flux for season jan: (6, 121)\n",
      "Shape of flux for season apr: (6, 121)\n",
      "Shape of flux for season jul: (6, 121)\n",
      "Key: (2212, 1.01, 1.0, 2.05, 2.25)\n",
      "Length of cos_thetas: 6\n",
      "Shape of flux for season jan: (6, 121)\n",
      "Shape of flux for season apr: (6, 121)\n",
      "Shape of flux for season jul: (6, 121)\n",
      "Key: (2212, 1.01, 1.0, 2.15, 2.35)\n",
      "Length of cos_thetas: 6\n",
      "Shape of flux for season jan: (6, 121)\n",
      "Shape of flux for season apr: (6, 121)\n",
      "Shape of flux for season jul: (6, 121)\n",
      "Key: (2212, 1.01, 1.0, 2.25, 2.45)\n",
      "Length of cos_thetas: 6\n",
      "Shape of flux for season jan: (6, 121)\n",
      "Shape of flux for season apr: (6, 121)\n",
      "Shape of flux for season jul: (6, 121)\n",
      "Key: (2212, 1.01, 1.0, 2.35, 2.55)\n",
      "Length of cos_thetas: 6\n",
      "Shape of flux for season jan: (6, 121)\n",
      "Shape of flux for season apr: (6, 121)\n",
      "Shape of flux for season jul: (6, 121)\n",
      "Key: (2212, 1.01, 1.0, 2.45, 2.65)\n",
      "Length of cos_thetas: 6\n",
      "Shape of flux for season jan: (6, 121)\n",
      "Shape of flux for season apr: (6, 121)\n",
      "Shape of flux for season jul: (6, 121)\n",
      "Key: (2212, 1.01, 1.0, 2.55, 2.75)\n",
      "Length of cos_thetas: 6\n",
      "Shape of flux for season jan: (6, 121)\n",
      "Shape of flux for season apr: (6, 121)\n",
      "Shape of flux for season jul: (6, 121)\n",
      "Key: (2212, 1.01, 1.0, 2.65, 2.85)\n",
      "Length of cos_thetas: 6\n",
      "Shape of flux for season jan: (6, 121)\n",
      "Shape of flux for season apr: (6, 121)\n",
      "Shape of flux for season jul: (6, 121)\n",
      "Key: (2212, 1.01, 1.0, 2.75, 2.95)\n",
      "Length of cos_thetas: 6\n",
      "Shape of flux for season jan: (6, 121)\n",
      "Shape of flux for season apr: (6, 121)\n",
      "Shape of flux for season jul: (6, 121)\n",
      "Key: (2212, 1.01, 1.0, 2.85, 3.05)\n",
      "Length of cos_thetas: 6\n",
      "Shape of flux for season jan: (6, 121)\n",
      "Shape of flux for season apr: (6, 121)\n",
      "Shape of flux for season jul: (6, 121)\n",
      "Key: (2212, 1.01, 1.0, 2.95, 3.15)\n",
      "Length of cos_thetas: 6\n",
      "Shape of flux for season jan: (6, 121)\n",
      "Shape of flux for season apr: (6, 121)\n",
      "Shape of flux for season jul: (6, 121)\n",
      "Key: (2212, 1.01, 1.0, 3.05, 3.25)\n",
      "Length of cos_thetas: 6\n",
      "Shape of flux for season jan: (6, 121)\n",
      "Shape of flux for season apr: (6, 121)\n",
      "Shape of flux for season jul: (6, 121)\n",
      "Key: (2212, 1.01, 1.0, 3.15, 3.35)\n",
      "Length of cos_thetas: 6\n",
      "Shape of flux for season jan: (6, 121)\n",
      "Shape of flux for season apr: (6, 121)\n",
      "Shape of flux for season jul: (6, 121)\n",
      "Key: (2212, 1.01, 1.0, 3.25, 3.45)\n",
      "Length of cos_thetas: 6\n",
      "Shape of flux for season jan: (6, 121)\n",
      "Shape of flux for season apr: (6, 121)\n",
      "Shape of flux for season jul: (6, 121)\n",
      "Key: (2212, 1.01, 1.0, 3.35, 3.55)\n",
      "Length of cos_thetas: 6\n",
      "Shape of flux for season jan: (6, 121)\n",
      "Shape of flux for season apr: (6, 121)\n",
      "Shape of flux for season jul: (6, 121)\n",
      "Key: (2212, 1.01, 1.0, 3.45, 3.65)\n",
      "Length of cos_thetas: 6\n",
      "Shape of flux for season jan: (6, 121)\n",
      "Shape of flux for season apr: (6, 121)\n",
      "Shape of flux for season jul: (6, 121)\n",
      "Key: (2212, 1.01, 1.0, 3.55, 3.75)\n",
      "Length of cos_thetas: 6\n",
      "Shape of flux for season jan: (6, 121)\n",
      "Shape of flux for season apr: (6, 121)\n",
      "Shape of flux for season jul: (6, 121)\n",
      "Key: (2212, 1.01, 1.0, 3.65, 3.85)\n",
      "Length of cos_thetas: 6\n",
      "Shape of flux for season jan: (6, 121)\n",
      "Shape of flux for season apr: (6, 121)\n",
      "Shape of flux for season jul: (6, 121)\n",
      "Key: (2212, 1.01, 1.0, 3.75, 3.95)\n",
      "Length of cos_thetas: 6\n",
      "Shape of flux for season jan: (6, 121)\n",
      "Shape of flux for season apr: (6, 121)\n",
      "Shape of flux for season jul: (6, 121)\n",
      "Key: (2212, 1.01, 1.0, 3.85, 4.05)\n",
      "Length of cos_thetas: 6\n",
      "Shape of flux for season jan: (6, 121)\n",
      "Shape of flux for season apr: (6, 121)\n",
      "Shape of flux for season jul: (6, 121)\n",
      "Key: (2212, 1.01, 1.0, 3.95, 4.15)\n",
      "Length of cos_thetas: 6\n",
      "Shape of flux for season jan: (6, 121)\n",
      "Shape of flux for season apr: (6, 121)\n",
      "Shape of flux for season jul: (6, 121)\n",
      "Key: (2212, 1.01, 1.0, 4.05, 4.25)\n",
      "Length of cos_thetas: 6\n",
      "Shape of flux for season jan: (6, 121)\n",
      "Shape of flux for season apr: (6, 121)\n",
      "Shape of flux for season jul: (6, 121)\n",
      "Key: (2212, 1.01, 1.0, 4.15, 4.35)\n",
      "Length of cos_thetas: 6\n",
      "Shape of flux for season jan: (6, 121)\n",
      "Shape of flux for season apr: (6, 121)\n",
      "Shape of flux for season jul: (6, 121)\n",
      "Key: (2212, 1.01, 1.0, 4.25, 4.45)\n",
      "Length of cos_thetas: 6\n",
      "Shape of flux for season jan: (6, 121)\n",
      "Shape of flux for season apr: (6, 121)\n",
      "Shape of flux for season jul: (6, 121)\n",
      "Key: (2212, 1.01, 1.0, 4.35, 4.55)\n",
      "Length of cos_thetas: 6\n",
      "Shape of flux for season jan: (6, 121)\n",
      "Shape of flux for season apr: (6, 121)\n",
      "Shape of flux for season jul: (6, 121)\n",
      "Key: (2212, 1.01, 1.0, 4.45, 4.65)\n",
      "Length of cos_thetas: 6\n",
      "Shape of flux for season jan: (6, 121)\n",
      "Shape of flux for season apr: (6, 121)\n",
      "Shape of flux for season jul: (6, 121)\n",
      "Key: (2212, 1.01, 1.0, 4.55, 4.75)\n",
      "Length of cos_thetas: 6\n",
      "Shape of flux for season jan: (6, 121)\n",
      "Shape of flux for season apr: (6, 121)\n",
      "Shape of flux for season jul: (6, 121)\n",
      "Key: (2212, 1.01, 1.0, 4.65, 4.85)\n",
      "Length of cos_thetas: 6\n",
      "Shape of flux for season jan: (6, 121)\n",
      "Shape of flux for season apr: (6, 121)\n",
      "Shape of flux for season jul: (6, 121)\n",
      "Key: (2212, 1.01, 1.0, 4.75, 4.95)\n",
      "Length of cos_thetas: 6\n",
      "Shape of flux for season jan: (6, 121)\n",
      "Shape of flux for season apr: (6, 121)\n",
      "Shape of flux for season jul: (6, 121)\n",
      "Key: (2212, 1.01, 1.0, 4.85, 5.05)\n",
      "Length of cos_thetas: 6\n",
      "Shape of flux for season jan: (6, 121)\n",
      "Shape of flux for season apr: (6, 121)\n",
      "Shape of flux for season jul: (6, 121)\n"
     ]
    }
   ],
   "source": [
    "cs_p_values = [1.0,1.01] #[0.5,0.6,0.7,0.8,0.9,1.0,1.1,1.2,1.3,1.4,1.5]  # List of cross-section values: pion-air\n",
    "cs_k_values = [1.00]\n",
    "ptype_values = [2212] \n",
    "season_values = [\"jan\", \"apr\", \"jul\"]  #  seasons\n",
    "e0_values = [2.05,2.15,2.25,2.35,2.45,2.55,2.65,2.75,2.85,2.95,3.05,3.15,3.25,3.35,3.45,3.55,3.65,3.75,3.85,3.95,4.05,4.15,4.25,4.35,4.45,4.55,4.65,4.75,4.85]\n",
    "e1_values = [2.25,2.35,2.45,2.55,2.65,2.75,2.85,2.95,3.05,3.15,3.25,3.35,3.45,3.55,3.65,3.75,3.85,3.95,4.05,4.15,4.25,4.35,4.45,4.55,4.65,4.75,4.85,4.95,5.05]\n",
    "pairwise = True\n",
    "\n",
    "\n",
    "helper.initialize_flux_dicts(\n",
    "        ptype_values, cs_p_values, cs_k_values, e0_values, e1_values if 'e1_values' in locals() else [None], pairwise=pairwise\n",
    ") \n",
    "\n",
    "helper.some_function_that_uses_angles()\n",
    "angles = helper.angles\n",
    "X = helper.slant_depths[2:-1:4]"
   ]
  },
  {
   "cell_type": "code",
   "execution_count": 5,
   "id": "46286ca4",
   "metadata": {},
   "outputs": [],
   "source": [
    "\n",
    "cs_p = 1.01\n",
    "cs_k = 1.0\n",
    "angle = 0.0"
   ]
  },
  {
   "cell_type": "code",
   "execution_count": 6,
   "id": "c9467933",
   "metadata": {},
   "outputs": [],
   "source": [
    "log_x = np.log10(helper.n_mu_vec)\n",
    "X=helper.slant_depths[0]\n",
    "\n",
    "log_y = np.log10(1e4*helper.mult_dist(X,\n",
    "                        0.,\n",
    "                        pm.GlobalSplineFitBeta(),\"yields_apr\",\n",
    "                        2212,\n",
    "                        cs_p, cs_k, 3.25,3.45,\n",
    "                        norm=False#))[0]\n",
    "                    ) / helper.rates(X, angle, \"apr\", 2212, cs_p, cs_k, 3.25,3.45))\n",
    "\n",
    "log_y_def = np.log10(1e4*helper.mult_dist(X,\n",
    "                        0.,\n",
    "                        pm.GlobalSplineFitBeta(),\"yields_apr\",\n",
    "                        2212,\n",
    "                        cs_p, cs_k, 2.05,\"inf\",\n",
    "                        norm=False#))[0]\n",
    "                    ) / helper.rates(X, angle, \"apr\", 2212, cs_p, cs_k, 2.05,\"inf\"))"
   ]
  },
  {
   "cell_type": "code",
   "execution_count": 7,
   "id": "0163467d",
   "metadata": {},
   "outputs": [
    {
     "data": {
      "text/plain": [
       "array([ 0.09237686, -0.68405728, -1.21648738, -1.62717085, -1.94502255,\n",
       "       -2.21509847, -2.44552861, -2.642815  , -2.81922893, -2.97579957,\n",
       "       -3.11757405, -3.24616793, -3.3637392 , -3.47303387, -3.57762778,\n",
       "       -3.67207845, -3.76076759, -3.84556031, -3.92445538, -3.99931457,\n",
       "       -4.07360642, -4.14114806, -4.20571302, -4.26755774, -4.32934621,\n",
       "       -4.38613889, -4.44081732, -4.49353613, -4.54443345, -4.5946202 ,\n",
       "       -4.64214666, -4.68819054, -4.73284308, -4.7761873 , -4.81829892,\n",
       "       -4.86319827, -4.9027556 , -4.94127911, -4.97882229, -5.01543454,\n",
       "       -5.05116161, -5.08604594, -5.12012693, -5.15507676, -5.18755508,\n",
       "       -5.21933514, -5.25044671, -5.28091773, -5.31077473, -5.34004279,\n",
       "       -5.36874547, -5.39690493, -5.42669855, -5.45371863, -5.48025653,\n",
       "       -5.50632972, -5.53195471, -5.55714713, -5.5819218 , -5.60629278,\n",
       "       -5.63027343, -5.65387642, -5.68079148, -5.70351596, -5.72589961,\n",
       "       -5.74795281, -5.76968546, -5.79110703, -5.81222655, -5.83305267,\n",
       "       -5.85359366, -5.87385746, -5.89385166, -5.91358354, -5.9330601 ,\n",
       "       -5.95432451, -5.97323685, -5.99191409, -6.01036218, -6.02858681,\n",
       "       -6.04659352, -6.06438755, -6.08197401, -6.09935812, -6.1165451 ,\n",
       "       -6.13354001, -6.15034777, -6.16697308, -6.18342043, -6.19969418,\n",
       "       -6.2157985 , -6.23353157, -6.24925458, -6.2648203 , -6.28023232,\n",
       "       -6.29549409, -6.31060896, -6.32558015, -6.34041078, -6.35510386,\n",
       "       -6.36966231])"
      ]
     },
     "execution_count": 7,
     "metadata": {},
     "output_type": "execute_result"
    }
   ],
   "source": [
    "log_y"
   ]
  },
  {
   "cell_type": "code",
   "execution_count": 8,
   "id": "f73cdb2b",
   "metadata": {},
   "outputs": [],
   "source": [
    "# Convert the log10(x) and log10(y) values into their actual values (for plotting and fitting)\n",
    "x = 10**log_x\n",
    "y = 10**log_y  # y is from log10(y) which ranges from -1 to -8\n",
    "\n",
    "# Define the power law function: log10(y) = log10(A) - B * log10(x)\n",
    "def power_law_log(x,a,b):\n",
    "    return a*x +b\n",
    "\n",
    "# Fit the power law model to the log10-transformed x and y data\n",
    "popt, pcov = curve_fit(power_law_log, log_x, log_y)\n",
    "\n",
    "# Extract the fitted parameters (log_A and B)\n",
    "a_fit, b_fit = popt\n",
    "\n",
    "\n",
    "fitted_y =  power_law_log(log_x,a_fit,b_fit)"
   ]
  },
  {
   "cell_type": "code",
   "execution_count": 9,
   "id": "cda400b4",
   "metadata": {},
   "outputs": [
    {
     "data": {
      "text/plain": [
       "array([ 0.33256273, -0.66773383, -1.25469514, -1.67165985, -1.99529661,\n",
       "       -2.25983707, -2.48356683, -2.67741088, -2.84842073, -3.00141348,\n",
       "       -3.13982633, -3.26619797, -3.3824568 , -3.49010212, -3.5903227 ,\n",
       "       -3.68407701, -3.77214913, -3.85518864, -3.93373973, -4.00826284,\n",
       "       -4.07915098, -4.14674234, -4.21132997, -4.27316952, -4.33248534,\n",
       "       -4.38947536, -4.44431511, -4.49716097, -4.54815286, -4.59741647,\n",
       "       -4.64506512, -4.69120134, -4.7359182 , -4.77930043, -4.82142539,\n",
       "       -4.86236391, -4.902181  , -4.94093645, -4.97868542, -5.01547886,\n",
       "       -5.05136395, -5.08638447, -5.1205811 , -5.15399171, -5.18665162,\n",
       "       -5.21859384, -5.24984922, -5.28044668, -5.31041336, -5.33977472,\n",
       "       -5.36855476, -5.39677603, -5.42445983, -5.45162623, -5.47829424,\n",
       "       -5.5044818 , -5.53020593, -5.55548273, -5.58032751, -5.60475478,\n",
       "       -5.62877834, -5.65241132, -5.67566621, -5.69855493, -5.72108883,\n",
       "       -5.74327874, -5.765135  , -5.78666751, -5.8078857 , -5.82879864,\n",
       "       -5.84941496, -5.86974298, -5.88979064, -5.90956558, -5.9290751 ,\n",
       "       -5.94832625, -5.96732578, -5.98608017, -6.00459568, -6.02287832,\n",
       "       -6.04093386, -6.05876789, -6.07638576, -6.09379267, -6.11099359,\n",
       "       -6.12799335, -6.14479661, -6.16140784, -6.1778314 , -6.19407146,\n",
       "       -6.2101321 , -6.22601722, -6.24173063, -6.257276  , -6.27265688,\n",
       "       -6.28787672, -6.30293885, -6.31784651, -6.33260284, -6.34721088,\n",
       "       -6.36167357])"
      ]
     },
     "execution_count": 9,
     "metadata": {},
     "output_type": "execute_result"
    }
   ],
   "source": [
    "fitted_y"
   ]
  },
  {
   "cell_type": "code",
   "execution_count": 10,
   "id": "78f60ba2",
   "metadata": {},
   "outputs": [
    {
     "data": {
      "text/plain": [
       "[<matplotlib.lines.Line2D at 0x744b48feeea0>]"
      ]
     },
     "execution_count": 10,
     "metadata": {},
     "output_type": "execute_result"
    },
    {
     "data": {
      "image/png": "[encoded data removed]",
      "text/plain": [
       "<Figure size 640x480 with 1 Axes>"
      ]
     },
     "metadata": {},
     "output_type": "display_data"
    }
   ],
   "source": [
    "plt.plot(log_y,fitted_y, )\n",
    "plt.plot(log_y,log_y)"
   ]
  },
  {
   "cell_type": "code",
   "execution_count": 11,
   "id": "0914a55f",
   "metadata": {},
   "outputs": [
    {
     "data": {
      "text/plain": [
       "array([ 0.09237686, -0.68405728, -1.21648738, -1.62717085, -1.94502255,\n",
       "       -2.21509847, -2.44552861, -2.642815  , -2.81922893, -2.97579957,\n",
       "       -3.11757405, -3.24616793, -3.3637392 , -3.47303387, -3.57762778,\n",
       "       -3.67207845, -3.76076759, -3.84556031, -3.92445538, -3.99931457,\n",
       "       -4.07360642, -4.14114806, -4.20571302, -4.26755774, -4.32934621,\n",
       "       -4.38613889, -4.44081732, -4.49353613, -4.54443345, -4.5946202 ,\n",
       "       -4.64214666, -4.68819054, -4.73284308, -4.7761873 , -4.81829892,\n",
       "       -4.86319827, -4.9027556 , -4.94127911, -4.97882229, -5.01543454,\n",
       "       -5.05116161, -5.08604594, -5.12012693, -5.15507676, -5.18755508,\n",
       "       -5.21933514, -5.25044671, -5.28091773, -5.31077473, -5.34004279,\n",
       "       -5.36874547, -5.39690493, -5.42669855, -5.45371863, -5.48025653,\n",
       "       -5.50632972, -5.53195471, -5.55714713, -5.5819218 , -5.60629278,\n",
       "       -5.63027343, -5.65387642, -5.68079148, -5.70351596, -5.72589961,\n",
       "       -5.74795281, -5.76968546, -5.79110703, -5.81222655, -5.83305267,\n",
       "       -5.85359366, -5.87385746, -5.89385166, -5.91358354, -5.9330601 ,\n",
       "       -5.95432451, -5.97323685, -5.99191409, -6.01036218, -6.02858681,\n",
       "       -6.04659352, -6.06438755, -6.08197401, -6.09935812, -6.1165451 ,\n",
       "       -6.13354001, -6.15034777, -6.16697308, -6.18342043, -6.19969418,\n",
       "       -6.2157985 , -6.23353157, -6.24925458, -6.2648203 , -6.28023232,\n",
       "       -6.29549409, -6.31060896, -6.32558015, -6.34041078, -6.35510386,\n",
       "       -6.36966231])"
      ]
     },
     "execution_count": 11,
     "metadata": {},
     "output_type": "execute_result"
    }
   ],
   "source": [
    "log_y"
   ]
  },
  {
   "cell_type": "code",
   "execution_count": 12,
   "id": "7648892f",
   "metadata": {},
   "outputs": [
    {
     "data": {
      "image/png": "[encoded data removed]",
      "text/plain": [
       "<Figure size 500x350 with 1 Axes>"
      ]
     },
     "metadata": {},
     "output_type": "display_data"
    }
   ],
   "source": [
    "\n",
    "\n",
    "\n",
    "\n",
    "plt.figure(figsize=(5.0, 3.5))\n",
    "lines=[]\n",
    "angle = 0.0\n",
    "plt.plot(np.log10(helper.n_mu_vec),log_y,label='mod. cs')[0]\n",
    "\n",
    "plt.plot(np.log10(x),fitted_y, color='black', label=\"fitted power law\")\n",
    "\n",
    "plt.plot(np.log10(x),log_y_def,label='default',ls='--')\n",
    "    \n",
    "plt.xlabel(\"Muon multiplicity per bundle\")\n",
    "plt.ylabel(r\"dN/dN$_\\mu$ (s cm$^2$ sr)$^{-1}$\")\n",
    "lines.append(mlines.Line2D([], [], color='k', linestyle=\"--\", label=\"aprl\"))\n",
    "plt.legend(handles=lines, frameon=False, loc=\"lower left\")\n",
    "plt.legend(frameon=False, ncol=2)\n",
    "#plt.ylim(-10, -1)\n",
    "# plt.xlim(4,100)\n",
    "\n",
    "\n",
    "plt.grid()\n",
    "plt.tight_layout()\n",
    "plt.savefig(plot_dir + 'powerlawfit_csp1.01_multispectrum.png')\n"
   ]
  },
  {
   "cell_type": "code",
   "execution_count": 13,
   "id": "b801df25",
   "metadata": {},
   "outputs": [],
   "source": [
    "delta_x_low = np.gradient(np.log10(1),np.log10(20))\n",
    "delta_x_high = np.gradient(np.log10(60),np.log10(100))"
   ]
  },
  {
   "cell_type": "code",
   "execution_count": 14,
   "id": "e4aa724e",
   "metadata": {},
   "outputs": [],
   "source": [
    "deriv_low_mod = (log_y[19] - log_y[1])/(np.log10(x[19])-np.log10(x[1])) \n",
    "deriv_low_def = (log_y_def[19] - log_y_def[1])/(np.log10(x[19])-np.log10(x[1])) "
   ]
  },
  {
   "cell_type": "code",
   "execution_count": 15,
   "id": "1a63a16a",
   "metadata": {},
   "outputs": [
    {
     "data": {
      "text/plain": [
       "np.float64(0.9998826940231358)"
      ]
     },
     "execution_count": 15,
     "metadata": {},
     "output_type": "execute_result"
    }
   ],
   "source": [
    "deriv_low_mod/deriv_low_def"
   ]
  },
  {
   "cell_type": "code",
   "execution_count": 16,
   "id": "8f725d32",
   "metadata": {},
   "outputs": [],
   "source": [
    "deriv_high_mod = (log_y[99] - log_y[59])/(np.log10(x[99])-np.log10(x[59])) \n",
    "deriv_high_def = (log_y_def[99] - log_y_def[59])/(np.log10(x[99])-np.log10(x[59])) "
   ]
  },
  {
   "cell_type": "code",
   "execution_count": 17,
   "id": "1c375954",
   "metadata": {},
   "outputs": [
    {
     "data": {
      "text/plain": [
       "np.float64(0.9999339949721965)"
      ]
     },
     "execution_count": 17,
     "metadata": {},
     "output_type": "execute_result"
    }
   ],
   "source": [
    "deriv_high_mod/deriv_high_def"
   ]
  },
  {
   "cell_type": "code",
   "execution_count": 18,
   "id": "320dbccf",
   "metadata": {},
   "outputs": [
    {
     "data": {
      "text/plain": [
       "np.float64(1.0000513069676746)"
      ]
     },
     "execution_count": 18,
     "metadata": {},
     "output_type": "execute_result"
    }
   ],
   "source": [
    "(deriv_high_mod/deriv_high_def)/(deriv_low_mod/deriv_low_def)"
   ]
  },
  {
   "cell_type": "code",
   "execution_count": 19,
   "id": "b36f796b",
   "metadata": {},
   "outputs": [],
   "source": [
    "def get_log_y(X, angle,cs_p,cs_k,e0,e1,season):\n",
    "    log_y = np.log10(1e4*helper.mult_dist(X,\n",
    "                            angle,\n",
    "                            pm.GlobalSplineFitBeta(),\"yields_\" + season,\n",
    "                            2212,\n",
    "                            cs_p, cs_k,e0,e1,\n",
    "                            norm=False#))[0]\n",
    "                        ) / helper.rates(X, angle, season, 2212, cs_p, cs_k, e0,e1))\n",
    "\n",
    "    return log_y"
   ]
  },
  {
   "cell_type": "code",
   "execution_count": 20,
   "id": "497e67e7",
   "metadata": {},
   "outputs": [],
   "source": [
    "def get_derivative(x_log, log_y):\n",
    "\n",
    "    deriv_low = (log_y[19] - log_y[1])/(np.log10(x_log[19])-np.log10(x_log[1])) \n",
    "    deriv_high = (log_y[99] - log_y[59])/(np.log10(x_log[99])-np.log10(x_log[59])) \n",
    "\n",
    "    return deriv_low, deriv_high"
   ]
  },
  {
   "cell_type": "code",
   "execution_count": 21,
   "id": "05c61c11",
   "metadata": {},
   "outputs": [],
   "source": [
    "x_log = np.log10(helper.n_mu_vec)"
   ]
  },
  {
   "cell_type": "code",
   "execution_count": 22,
   "id": "92676e21",
   "metadata": {},
   "outputs": [
    {
     "ename": "IndexError",
     "evalue": "invalid index to scalar variable.",
     "output_type": "error",
     "traceback": [
      "\u001b[0;31m---------------------------------------------------------------------------\u001b[0m",
      "\u001b[0;31mIndexError\u001b[0m                                Traceback (most recent call last)",
      "Cell \u001b[0;32mIn[22], line 1\u001b[0m\n\u001b[0;32m----> 1\u001b[0m y_log_test \u001b[38;5;241m=\u001b[39m get_log_y(\u001b[43mX\u001b[49m\u001b[43m[\u001b[49m\u001b[38;5;241;43m0\u001b[39;49m\u001b[43m]\u001b[49m, \u001b[38;5;241m0.0\u001b[39m,\u001b[38;5;241m1.01\u001b[39m,\u001b[38;5;241m1.0\u001b[39m,\u001b[38;5;241m3.25\u001b[39m,\u001b[38;5;241m3.45\u001b[39m,\u001b[38;5;124m\"\u001b[39m\u001b[38;5;124mapr\u001b[39m\u001b[38;5;124m\"\u001b[39m)\n",
      "\u001b[0;31mIndexError\u001b[0m: invalid index to scalar variable."
     ]
    }
   ],
   "source": [
    "y_log_test = get_log_y(X[0], 0.0,1.01,1.0,3.25,3.45,\"apr\")"
   ]
  },
  {
   "cell_type": "code",
   "execution_count": null,
   "id": "deb1c30d",
   "metadata": {},
   "outputs": [
    {
     "data": {
      "text/plain": [
       "(np.float64(-5.456321224316561), np.float64(-16.771689010147586))"
      ]
     },
     "execution_count": 21,
     "metadata": {},
     "output_type": "execute_result"
    }
   ],
   "source": [
    "get_derivative(x_log, y_log_test)"
   ]
  },
  {
   "cell_type": "code",
   "execution_count": null,
   "id": "12e0f59e",
   "metadata": {},
   "outputs": [],
   "source": []
  }
 ],
 "metadata": {
  "kernelspec": {
   "display_name": "cs_env",
   "language": "python",
   "name": "mypip"
  },
  "language_info": {
   "codemirror_mode": {
    "name": "ipython",
    "version": 3
   },
   "file_extension": ".py",
   "mimetype": "text/x-python",
   "name": "python",
   "nbconvert_exporter": "python",
   "pygments_lexer": "ipython3",
   "version": "3.12.4"
  }
 },
 "nbformat": 4,
 "nbformat_minor": 5
}
