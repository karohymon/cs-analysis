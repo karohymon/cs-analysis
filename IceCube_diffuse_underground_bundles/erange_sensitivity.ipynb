{
 "cells": [
  {
   "cell_type": "markdown",
   "id": "2ef5c4ba",
   "metadata": {},
   "source": [
    "## Pion-air cross section modification for entire energy range.\n",
    "\n",
    "Cross section is modified above a threshold energy bin in MCEq. The energy corresponding to that energy bin is interpolated between the nomial Sibyll2.3c cross section and the given value. The given value is reached in the second following energy bin and remains constant from here because max energy e1 is set."
   ]
  },
  {
   "cell_type": "code",
   "execution_count": 5,
   "id": "8428e390",
   "metadata": {},
   "outputs": [],
   "source": [
    "import matplotlib.pyplot as plt\n",
    "from matplotlib import cm\n",
    "from matplotlib.colors import Normalize\n",
    "import matplotlib.lines as mlines\n",
    "from scipy.interpolate import UnivariateSpline\n",
    "from tqdm import tqdm\n",
    "import pickle\n",
    "import numpy as np\n",
    "\n",
    "import crflux.models as pm\n",
    "\n",
    "from MCEq.data import InteractionCrossSections\n",
    "from MCEq.core import MCEqRun\n",
    "import  mceq_underground_helpers_oneregion_threshold as helper"
   ]
  },
  {
   "cell_type": "code",
   "execution_count": 6,
   "id": "16a47c09",
   "metadata": {},
   "outputs": [],
   "source": [
    "def sl_depth(d,angle):\n",
    "    return d/np.cos(np.deg2rad(angle))"
   ]
  },
  {
   "cell_type": "code",
   "execution_count": 7,
   "id": "67059822",
   "metadata": {},
   "outputs": [],
   "source": [
    "plot_dir = '/hetghome/khymon/Plots/cs-analysis/'\n",
    "\n",
    "\n",
    "X = helper.slant_depths[2:-1:4]"
   ]
  },
  {
   "cell_type": "code",
   "execution_count": 8,
   "id": "63bd159a",
   "metadata": {},
   "outputs": [
    {
     "name": "stdout",
     "output_type": "stream",
     "text": [
      "pairwise=False\n"
     ]
    },
    {
     "ename": "FileNotFoundError",
     "evalue": "[Errno 2] No such file or directory: '/hetghome/khymon/cs-files/smooth-transition/surface_fluxes_season2212_pi1.01_k1.00_pr1.00_e02.05_const.pkl'",
     "output_type": "error",
     "traceback": [
      "\u001b[0;31m---------------------------------------------------------------------------\u001b[0m",
      "\u001b[0;31mFileNotFoundError\u001b[0m                         Traceback (most recent call last)",
      "Cell \u001b[0;32mIn[8], line 11\u001b[0m\n\u001b[1;32m      8\u001b[0m pairwise \u001b[38;5;241m=\u001b[39m \u001b[38;5;28;01mFalse\u001b[39;00m\n\u001b[1;32m      9\u001b[0m e1_values \u001b[38;5;241m=\u001b[39m \u001b[38;5;28;01mNone\u001b[39;00m  \u001b[38;5;66;03m# Explicitly no e1 values\u001b[39;00m\n\u001b[0;32m---> 11\u001b[0m \u001b[43mhelper\u001b[49m\u001b[38;5;241;43m.\u001b[39;49m\u001b[43minitialize_flux_dicts\u001b[49m\u001b[43m(\u001b[49m\n\u001b[1;32m     12\u001b[0m \u001b[43m    \u001b[49m\u001b[43mptype_values\u001b[49m\u001b[43m,\u001b[49m\u001b[43m \u001b[49m\u001b[43mcs_p_values\u001b[49m\u001b[43m,\u001b[49m\u001b[43m \u001b[49m\u001b[43mcs_k_values\u001b[49m\u001b[43m,\u001b[49m\u001b[43m \u001b[49m\u001b[43mcs_pr_values\u001b[49m\u001b[43m,\u001b[49m\u001b[43m \u001b[49m\u001b[43me0_values\u001b[49m\u001b[43m,\u001b[49m\u001b[43m \u001b[49m\u001b[43me1_values\u001b[49m\u001b[43m,\u001b[49m\u001b[43m \u001b[49m\u001b[43mpairwise\u001b[49m\u001b[38;5;241;43m=\u001b[39;49m\u001b[43mpairwise\u001b[49m\n\u001b[1;32m     13\u001b[0m \u001b[43m)\u001b[49m   \n\u001b[1;32m     16\u001b[0m helper\u001b[38;5;241m.\u001b[39msome_function_that_uses_angles()\n\u001b[1;32m     17\u001b[0m angles \u001b[38;5;241m=\u001b[39m helper\u001b[38;5;241m.\u001b[39mangles\n",
      "File \u001b[0;32m~/cs-analysis/IceCube_diffuse_underground_bundles/mceq_underground_helpers_oneregion_threshold.py:122\u001b[0m, in \u001b[0;36minitialize_flux_dicts\u001b[0;34m(ptype_values, cs_p_values, cs_k_values, cs_pr_values, e0_values, e1_values, pairwise)\u001b[0m\n\u001b[1;32m    119\u001b[0m ground_muspec_energies \u001b[38;5;241m=\u001b[39m {}\n\u001b[1;32m    121\u001b[0m \u001b[38;5;28;01mfor\u001b[39;00m key, file \u001b[38;5;129;01min\u001b[39;00m flux_files\u001b[38;5;241m.\u001b[39mitems():\n\u001b[0;32m--> 122\u001b[0m     \u001b[38;5;28;01mwith\u001b[39;00m \u001b[38;5;28;43mopen\u001b[39;49m\u001b[43m(\u001b[49m\u001b[43mfile\u001b[49m\u001b[43m,\u001b[49m\u001b[43m \u001b[49m\u001b[38;5;124;43m\"\u001b[39;49m\u001b[38;5;124;43mrb\u001b[39;49m\u001b[38;5;124;43m\"\u001b[39;49m\u001b[43m)\u001b[49m \u001b[38;5;28;01mas\u001b[39;00m f:\n\u001b[1;32m    123\u001b[0m         data \u001b[38;5;241m=\u001b[39m pickle\u001b[38;5;241m.\u001b[39mload(f)\n\u001b[1;32m    124\u001b[0m         _, cos_thetas, \u001b[38;5;241m*\u001b[39mfluxes \u001b[38;5;241m=\u001b[39m data\n",
      "\u001b[0;31mFileNotFoundError\u001b[0m: [Errno 2] No such file or directory: '/hetghome/khymon/cs-files/smooth-transition/surface_fluxes_season2212_pi1.01_k1.00_pr1.00_e02.05_const.pkl'"
     ]
    }
   ],
   "source": [
    "cs_p_values = [1.0,1.01] #[0.5,0.6,0.7,0.8,0.9,1.0,1.1,1.2,1.3,1.4,1.5]  # List of cross-section values: pion-air\n",
    "cs_k_values = [1.00]\n",
    "cs_pr_values = [1.00]\n",
    "ptype_values = [2212] \n",
    "season_values = [\"jan\", \"apr\", \"jul\"]  #  seasons\n",
    "e0_values = [2.05,2.95]\n",
    "\n",
    "pairwise = False\n",
    "e1_values = None  # Explicitly no e1 values\n",
    "\n",
    "helper.initialize_flux_dicts(\n",
    "    ptype_values, cs_p_values, cs_k_values, cs_pr_values, e0_values, e1_values, pairwise=pairwise\n",
    ")   \n",
    "\n",
    "\n",
    "helper.some_function_that_uses_angles()\n",
    "angles = helper.angles"
   ]
  },
  {
   "cell_type": "code",
   "execution_count": null,
   "id": "e45b9d1c",
   "metadata": {},
   "outputs": [],
   "source": []
  }
 ],
 "metadata": {
  "kernelspec": {
   "display_name": "cs_env",
   "language": "python",
   "name": "python3"
  },
  "language_info": {
   "codemirror_mode": {
    "name": "ipython",
    "version": 3
   },
   "file_extension": ".py",
   "mimetype": "text/x-python",
   "name": "python",
   "nbconvert_exporter": "python",
   "pygments_lexer": "ipython3",
   "version": "3.12.4"
  }
 },
 "nbformat": 4,
 "nbformat_minor": 5
}
