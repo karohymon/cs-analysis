{
 "cells": [
  {
   "cell_type": "markdown",
   "id": "2ef5c4ba",
   "metadata": {},
   "source": [
    "## Pion-air cross section modification for entire energy range.\n",
    "\n",
    "Cross section is modified above a threshold energy bin in MCEq. The energy corresponding to that energy bin is interpolated between the nomial Sibyll2.3c cross section and the given value. The given value is reached in the second following energy bin and remains constant from here because max energy e1 is set."
   ]
  },
  {
   "cell_type": "code",
   "execution_count": 1,
   "id": "8428e390",
   "metadata": {},
   "outputs": [],
   "source": [
    "import matplotlib.pyplot as plt\n",
    "from matplotlib import cm\n",
    "from matplotlib.colors import Normalize\n",
    "import matplotlib.lines as mlines\n",
    "from scipy.interpolate import UnivariateSpline\n",
    "from tqdm import tqdm\n",
    "import pickle\n",
    "import numpy as np\n",
    "\n",
    "import crflux.models as pm\n",
    "\n",
    "from MCEq.data import InteractionCrossSections\n",
    "from MCEq.core import MCEqRun\n",
    "import  mceq_underground_helpers_oneregion_threshold as helper"
   ]
  },
  {
   "cell_type": "code",
   "execution_count": 2,
   "id": "16a47c09",
   "metadata": {},
   "outputs": [],
   "source": [
    "def sl_depth(d,angle):\n",
    "    return d/np.cos(np.deg2rad(angle))"
   ]
  },
  {
   "cell_type": "code",
   "execution_count": 3,
   "id": "67059822",
   "metadata": {},
   "outputs": [],
   "source": [
    "plot_dir = '/hetghome/khymon/Plots/cs-analysis/'\n",
    "\n",
    "\n",
    "X = helper.slant_depths[2:-1:4]"
   ]
  },
  {
   "cell_type": "code",
   "execution_count": 5,
   "id": "63bd159a",
   "metadata": {},
   "outputs": [
    {
     "name": "stdout",
     "output_type": "stream",
     "text": [
      "pairwise=False\n",
      "Key: (2212, 1.0, 1.0, 1.0, 2.05, 'inf')\n",
      "Length of cos_thetas: 6\n",
      "Shape of flux for season jan: (6, 121)\n",
      "Shape of flux for season apr: (6, 121)\n",
      "Shape of flux for season jul: (6, 121)\n",
      "Key: (2212, 1.01, 1.0, 2.05, 'inf')\n",
      "Length of cos_thetas: 6\n",
      "Shape of flux for season jan: (6, 121)\n",
      "Shape of flux for season apr: (6, 121)\n",
      "Shape of flux for season jul: (6, 121)\n",
      "Key: (2212, 1.01, 1.0, 2.95, 'inf')\n",
      "Length of cos_thetas: 6\n",
      "Shape of flux for season jan: (6, 121)\n",
      "Shape of flux for season apr: (6, 121)\n",
      "Shape of flux for season jul: (6, 121)\n"
     ]
    }
   ],
   "source": [
    "cs_p_values = [1.0,1.01] #[0.5,0.6,0.7,0.8,0.9,1.0,1.1,1.2,1.3,1.4,1.5]  # List of cross-section values: pion-air\n",
    "cs_k_values = [1.00]\n",
    "cs_pr_values = [1.00]\n",
    "ptype_values = [2212] \n",
    "season_values = [\"jan\", \"apr\", \"jul\"]  #  seasons\n",
    "e0_values = [2.05,2.95]\n",
    "\n",
    "pairwise = False\n",
    "e1_values = None  # Explicitly no e1 values\n",
    "\n",
    "helper.initialize_flux_dicts(\n",
    "    ptype_values, cs_p_values, cs_k_values, cs_pr_values, e0_values, e1_values, pairwise=pairwise\n",
    ")   \n",
    "\n",
    "\n",
    "helper.some_function_that_uses_angles()\n",
    "angles = helper.angles"
   ]
  },
  {
   "cell_type": "code",
   "execution_count": null,
   "id": "e45b9d1c",
   "metadata": {},
   "outputs": [],
   "source": []
  }
 ],
 "metadata": {
  "kernelspec": {
   "display_name": "cs_env",
   "language": "python",
   "name": "python3"
  },
  "language_info": {
   "codemirror_mode": {
    "name": "ipython",
    "version": 3
   },
   "file_extension": ".py",
   "mimetype": "text/x-python",
   "name": "python",
   "nbconvert_exporter": "python",
   "pygments_lexer": "ipython3",
   "version": "3.12.4"
  }
 },
 "nbformat": 4,
 "nbformat_minor": 5
}
