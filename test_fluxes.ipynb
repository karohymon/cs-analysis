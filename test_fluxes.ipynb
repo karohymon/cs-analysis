{
 "cells": [
  {
   "cell_type": "code",
   "execution_count": 1,
   "metadata": {},
   "outputs": [],
   "source": [
    "import numpy as np\n",
    "from MCEq.core import MCEqRun\n",
    "import crflux.models as pm\n",
    "from utils.helpers import *"
   ]
  },
  {
   "cell_type": "code",
   "execution_count": 2,
   "metadata": {},
   "outputs": [],
   "source": [
    "path = '/data/user/khymon/cs-analysis/'"
   ]
  },
  {
   "cell_type": "code",
   "execution_count": 3,
   "metadata": {},
   "outputs": [],
   "source": [
    "numu_untuned = np.load(path + 'numu_1.0pion_1.0kaon_10000.0_const_mceqflux.npy')"
   ]
  },
  {
   "cell_type": "code",
   "execution_count": 4,
   "metadata": {},
   "outputs": [],
   "source": [
    "numu_tuned = np.load(path + 'numu_1.5pion_0.8kaon_10000.0_const_mceqflux.npy')"
   ]
  },
  {
   "cell_type": "code",
   "execution_count": 5,
   "metadata": {},
   "outputs": [
    {
     "data": {
      "text/plain": [
       "array([0.96200982, 0.98018502, 0.98441987, 0.98822356, 0.99165313,\n",
       "       0.99479427, 0.99764263, 1.00027333, 1.00281555, 1.00523597,\n",
       "       1.0075731 , 1.0098126 , 1.01191353, 1.01396526, 1.01597902,\n",
       "       1.0178684 , 1.01957222, 1.02100134, 1.02204977, 1.02269439,\n",
       "       1.02297315, 1.02287167, 1.02238385, 1.02143792, 1.0201176 ,\n",
       "       1.01861906, 1.01686874, 1.0150061 , 1.01328825, 1.01175694,\n",
       "       1.01048334, 1.00956599, 1.009048  , 1.00896534, 1.00935414,\n",
       "       1.01010449, 1.01118685, 1.01253859, 1.01412937, 1.0159219 ,\n",
       "       1.01788842, 1.01993431, 1.02210907, 1.02429485, 1.02652329,\n",
       "       1.02849053, 1.03050206, 1.03212551, 1.03330704, 1.03354805,\n",
       "       1.03226113, 1.03002193, 1.02715175, 1.0234928 , 1.01910657,\n",
       "       1.01377325, 1.01003479, 1.00792317, 1.00545622, 1.00402023,\n",
       "       1.0040296 , 1.00262593, 1.00356318, 1.00429803, 1.00510499,\n",
       "       1.00462885, 1.01207686, 1.027155  , 1.0533005 , 1.07862296,\n",
       "       1.08099076])"
      ]
     },
     "execution_count": 5,
     "metadata": {},
     "output_type": "execute_result"
    }
   ],
   "source": [
    "numu_tuned[0,50,50:]/numu_untuned[0,5,50:] "
   ]
  },
  {
   "cell_type": "code",
   "execution_count": 6,
   "metadata": {},
   "outputs": [],
   "source": [
    "annualavg = numu_untuned[0].mean(axis=0)"
   ]
  },
  {
   "cell_type": "code",
   "execution_count": 7,
   "metadata": {},
   "outputs": [
    {
     "data": {
      "text/plain": [
       "array([1.00089143, 1.00082847, 1.00078278, 1.00082487, 1.00075303,\n",
       "       1.00065705, 1.00059192, 1.00060223, 1.00064372, 1.00074083,\n",
       "       1.00090953, 1.00118497, 1.00159129, 1.00213716, 1.00283275,\n",
       "       1.00376313, 1.00500465, 1.00646614, 1.00818851, 1.01009488,\n",
       "       1.01210806, 1.01412748, 1.01603271, 1.01771411, 1.01911115,\n",
       "       1.02022734, 1.02113959, 1.021958  , 1.02283469, 1.02392089,\n",
       "       1.02520187, 1.02670088, 1.02843838, 1.03036266, 1.03238648,\n",
       "       1.03439502, 1.03625754, 1.03786311, 1.03917159, 1.04018615,\n",
       "       1.04098549, 1.04171446, 1.04252619, 1.0435783 , 1.04501206,\n",
       "       1.04691379, 1.04931229, 1.05213752, 1.05528347, 1.05861523,\n",
       "       1.06197821, 1.06522031, 1.06823362, 1.07092458, 1.07323564,\n",
       "       1.07515201, 1.07667594, 1.07782872, 1.07862363, 1.07908861,\n",
       "       1.07924949, 1.07912801, 1.0787455 , 1.07810164, 1.07723197,\n",
       "       1.07613074, 1.07476156, 1.07310876, 1.07119676, 1.06895896,\n",
       "       1.06624909, 1.06301695, 1.05931642, 1.0550904 , 1.05035973,\n",
       "       1.04528528, 1.04003069, 1.03482498, 1.02986105, 1.02537065,\n",
       "       1.02153687, 1.01845428, 1.016186  , 1.01473542, 1.01412468,\n",
       "       1.01414777, 1.01475097, 1.01582976, 1.01731957, 1.01915694,\n",
       "       1.02127495, 1.02353739, 1.02598046, 1.02842379, 1.03086588,\n",
       "       1.0329138 , 1.03491659, 1.03635237, 1.0371591 , 1.03680095,\n",
       "       1.03469794, 1.03159512, 1.02794054, 1.023601  , 1.01871798,\n",
       "       1.01316542, 1.00936386, 1.00723934, 1.00488482, 1.0035417 ,\n",
       "       1.0034995 , 1.00225363, 1.00300198, 1.00357631, 1.00420698,\n",
       "       1.00375891, 1.00971041, 1.02188897, 1.04362286, 0.96638299,\n",
       "       0.97169312])"
      ]
     },
     "execution_count": 7,
     "metadata": {},
     "output_type": "execute_result"
    }
   ],
   "source": [
    "numu_untuned[0][3]/annualavg"
   ]
  },
  {
   "cell_type": "code",
   "execution_count": 30,
   "metadata": {},
   "outputs": [],
   "source": [
    "def get_sv_amplitude(flux, energy, ebins, angles_edges, doys):\n",
    "        masks = []\n",
    "        flux_year = np.mean(flux, axis=1)\n",
    "\n",
    "        sv_amplitude = np.ndarray(shape=(len(angles_edges) - 1, len(ebins), len(doys)), dtype=float)\n",
    "       \n",
    "        \n",
    "        for j in range(3 - 1):\n",
    "            for i in range(len(ebins) - 1):\n",
    "                mask = (energy >= ebins[i]) & (energy < ebins[i + 1])\n",
    "                print(mask)\n",
    "                masks.append(mask)\n",
    "                sv_amplitude[j][i] = np.sum(flux[j, :, mask], axis=0) / np.sum(flux_year[j, mask]) \n",
    "                \n",
    "            print('after',sv_amplitude[0])\n",
    "\n",
    "            return sv_amplitude\n"
   ]
  },
  {
   "cell_type": "code",
   "execution_count": null,
   "metadata": {},
   "outputs": [],
   "source": [
    "step = 0.3\n",
    "bins = np.logspace(2.1, 6., num=int((6. - 2.1) / step) + 1)"
   ]
  },
  {
   "cell_type": "code",
   "execution_count": 10,
   "metadata": {},
   "outputs": [
    {
     "name": "stdout",
     "output_type": "stream",
     "text": [
      "MCEqRun::set_interaction_model(): SIBYLL23C\n",
      "ParticleManager::_init_default_tracking(): Initializing default tracking categories (pi, K, mu)\n",
      "MCEqRun::set_density_model(): Setting density profile to CORSIKA ('BK_USStd', None)\n",
      "MCEqRun::set_primary_model(): HillasGaisser2012 H3a\n"
     ]
    }
   ],
   "source": [
    "mceq = MCEqRun(\n",
    "            interaction_model=\"SIBYLL2.3c\",\n",
    "            theta_deg=0.0,\n",
    "            primary_model=(pm.HillasGaisser2012, \"H3a\"),\n",
    "        )\n",
    "\n",
    "energy = mceq.e_grid"
   ]
  },
  {
   "cell_type": "code",
   "execution_count": 11,
   "metadata": {},
   "outputs": [],
   "source": [
    "doy = doys(5)"
   ]
  },
  {
   "cell_type": "code",
   "execution_count": 31,
   "metadata": {},
   "outputs": [
    {
     "name": "stdout",
     "output_type": "stream",
     "text": [
      "[False False False False False False False False False False False False\n",
      " False False False False False False False False False False False False\n",
      " False False False False False False False False  True  True  True False\n",
      " False False False False False False False False False False False False\n",
      " False False False False False False False False False False False False\n",
      " False False False False False False False False False False False False\n",
      " False False False False False False False False False False False False\n",
      " False False False False False False False False False False False False\n",
      " False False False False False False False False False False False False\n",
      " False False False False False False False False False False False False\n",
      " False]\n",
      "[False False False False False False False False False False False False\n",
      " False False False False False False False False False False False False\n",
      " False False False False False False False False False False False  True\n",
      "  True  True False False False False False False False False False False\n",
      " False False False False False False False False False False False False\n",
      " False False False False False False False False False False False False\n",
      " False False False False False False False False False False False False\n",
      " False False False False False False False False False False False False\n",
      " False False False False False False False False False False False False\n",
      " False False False False False False False False False False False False\n",
      " False]\n",
      "[False False False False False False False False False False False False\n",
      " False False False False False False False False False False False False\n",
      " False False False False False False False False False False False False\n",
      " False False  True  True  True False False False False False False False\n",
      " False False False False False False False False False False False False\n",
      " False False False False False False False False False False False False\n",
      " False False False False False False False False False False False False\n",
      " False False False False False False False False False False False False\n",
      " False False False False False False False False False False False False\n",
      " False False False False False False False False False False False False\n",
      " False]\n",
      "[False False False False False False False False False False False False\n",
      " False False False False False False False False False False False False\n",
      " False False False False False False False False False False False False\n",
      " False False False False False  True  True  True False False False False\n",
      " False False False False False False False False False False False False\n",
      " False False False False False False False False False False False False\n",
      " False False False False False False False False False False False False\n",
      " False False False False False False False False False False False False\n",
      " False False False False False False False False False False False False\n",
      " False False False False False False False False False False False False\n",
      " False]\n",
      "[False False False False False False False False False False False False\n",
      " False False False False False False False False False False False False\n",
      " False False False False False False False False False False False False\n",
      " False False False False False False False False  True  True  True False\n",
      " False False False False False False False False False False False False\n",
      " False False False False False False False False False False False False\n",
      " False False False False False False False False False False False False\n",
      " False False False False False False False False False False False False\n",
      " False False False False False False False False False False False False\n",
      " False False False False False False False False False False False False\n",
      " False]\n",
      "[False False False False False False False False False False False False\n",
      " False False False False False False False False False False False False\n",
      " False False False False False False False False False False False False\n",
      " False False False False False False False False False False False  True\n",
      "  True  True False False False False False False False False False False\n",
      " False False False False False False False False False False False False\n",
      " False False False False False False False False False False False False\n",
      " False False False False False False False False False False False False\n",
      " False False False False False False False False False False False False\n",
      " False False False False False False False False False False False False\n",
      " False]\n",
      "[False False False False False False False False False False False False\n",
      " False False False False False False False False False False False False\n",
      " False False False False False False False False False False False False\n",
      " False False False False False False False False False False False False\n",
      " False False  True  True  True False False False False False False False\n",
      " False False False False False False False False False False False False\n",
      " False False False False False False False False False False False False\n",
      " False False False False False False False False False False False False\n",
      " False False False False False False False False False False False False\n",
      " False False False False False False False False False False False False\n",
      " False]\n",
      "[False False False False False False False False False False False False\n",
      " False False False False False False False False False False False False\n",
      " False False False False False False False False False False False False\n",
      " False False False False False False False False False False False False\n",
      " False False False False False  True  True  True False False False False\n",
      " False False False False False False False False False False False False\n",
      " False False False False False False False False False False False False\n",
      " False False False False False False False False False False False False\n",
      " False False False False False False False False False False False False\n",
      " False False False False False False False False False False False False\n",
      " False]\n",
      "[False False False False False False False False False False False False\n",
      " False False False False False False False False False False False False\n",
      " False False False False False False False False False False False False\n",
      " False False False False False False False False False False False False\n",
      " False False False False False False False False  True  True  True False\n",
      " False False False False False False False False False False False False\n",
      " False False False False False False False False False False False False\n",
      " False False False False False False False False False False False False\n",
      " False False False False False False False False False False False False\n",
      " False False False False False False False False False False False False\n",
      " False]\n",
      "[False False False False False False False False False False False False\n",
      " False False False False False False False False False False False False\n",
      " False False False False False False False False False False False False\n",
      " False False False False False False False False False False False False\n",
      " False False False False False False False False False False False  True\n",
      "  True  True False False False False False False False False False False\n",
      " False False False False False False False False False False False False\n",
      " False False False False False False False False False False False False\n",
      " False False False False False False False False False False False False\n",
      " False False False False False False False False False False False False\n",
      " False]\n",
      "[False False False False False False False False False False False False\n",
      " False False False False False False False False False False False False\n",
      " False False False False False False False False False False False False\n",
      " False False False False False False False False False False False False\n",
      " False False False False False False False False False False False False\n",
      " False False  True  True  True False False False False False False False\n",
      " False False False False False False False False False False False False\n",
      " False False False False False False False False False False False False\n",
      " False False False False False False False False False False False False\n",
      " False False False False False False False False False False False False\n",
      " False]\n",
      "[False False False False False False False False False False False False\n",
      " False False False False False False False False False False False False\n",
      " False False False False False False False False False False False False\n",
      " False False False False False False False False False False False False\n",
      " False False False False False False False False False False False False\n",
      " False False False False False  True  True  True False False False False\n",
      " False False False False False False False False False False False False\n",
      " False False False False False False False False False False False False\n",
      " False False False False False False False False False False False False\n",
      " False False False False False False False False False False False False\n",
      " False]\n",
      "after [[1.03052430e+000 1.03041200e+000 1.03009414e+000 1.02955678e+000\n",
      "  1.02880725e+000 1.02783727e+000 1.02665090e+000 1.02525508e+000\n",
      "  1.02365916e+000 1.02187440e+000 1.01991345e+000 1.01778046e+000\n",
      "  1.01550835e+000 1.01310261e+000 1.01058838e+000 1.00798275e+000\n",
      "  1.00530462e+000 1.00257500e+000 9.99826319e-001 9.97073753e-001\n",
      "  9.94332978e-001 9.91646771e-001 9.89010597e-001 9.86463974e-001\n",
      "  9.84016883e-001 9.81686452e-001 9.79488041e-001 9.77426691e-001\n",
      "  9.75533193e-001 9.73810809e-001 9.72262467e-001 9.70917166e-001\n",
      "  9.69768380e-001 9.68835590e-001 9.68120337e-001 9.67649611e-001\n",
      "  9.67414824e-001 9.67432260e-001 9.67708043e-001 9.68237813e-001\n",
      "  9.69032130e-001 9.70081643e-001 9.71399666e-001 9.72961786e-001\n",
      "  9.74765727e-001 9.76788300e-001 9.79028314e-001 9.81446503e-001\n",
      "  9.84025886e-001 9.86737712e-001 9.89541914e-001 9.92422411e-001\n",
      "  9.95327434e-001 9.98231244e-001 1.00110083e+000 1.00389737e+000\n",
      "  1.00661247e+000 1.00921658e+000 1.01168550e+000 1.01401779e+000\n",
      "  1.01619902e+000 1.01823588e+000 1.02011084e+000 1.02184271e+000\n",
      "  1.02342358e+000 1.02484434e+000 1.02613006e+000 1.02725916e+000\n",
      "  1.02822589e+000 1.02904092e+000 1.02968633e+000 1.03015230e+000\n",
      "  1.03043792e+000]\n",
      " [1.03687517e+000 1.03664692e+000 1.03616616e+000 1.03541517e+000\n",
      "  1.03439641e+000 1.03309982e+000 1.03152802e+000 1.02968796e+000\n",
      "  1.02759064e+000 1.02525059e+000 1.02268529e+000 1.01990633e+000\n",
      "  1.01695216e+000 1.01383792e+000 1.01059695e+000 1.00725584e+000\n",
      "  1.00384291e+000 1.00038824e+000 9.96931513e-001 9.93496675e-001\n",
      "  9.90107418e-001 9.86810359e-001 9.83609690e-001 9.80547224e-001\n",
      "  9.77637918e-001 9.74902026e-001 9.72357367e-001 9.70011960e-001\n",
      "  9.67895572e-001 9.66013366e-001 9.64369731e-001 9.62991356e-001\n",
      "  9.61873640e-001 9.61034333e-001 9.60475270e-001 9.60220129e-001\n",
      "  9.60261247e-001 9.60612172e-001 9.61277051e-001 9.62250206e-001\n",
      "  9.63538160e-001 9.65129094e-001 9.67029919e-001 9.69213339e-001\n",
      "  9.71670120e-001 9.74371350e-001 9.77306121e-001 9.80428867e-001\n",
      "  9.83712624e-001 9.87119425e-001 9.90601057e-001 9.94130760e-001\n",
      "  9.97650938e-001 1.00112825e+000 1.00452453e+000 1.00779834e+000\n",
      "  1.01093745e+000 1.01391310e+000 1.01670352e+000 1.01930937e+000\n",
      "  1.02172150e+000 1.02395089e+000 1.02598752e+000 1.02785391e+000\n",
      "  1.02954808e+000 1.03106582e+000 1.03243209e+000 1.03362830e+000\n",
      "  1.03464826e+000 1.03549883e+000 1.03615975e+000 1.03661684e+000\n",
      "  1.03686315e+000]\n",
      " [1.04162430e+000 1.04128824e+000 1.04065723e+000 1.03971260e+000\n",
      "  1.03845164e+000 1.03686538e+000 1.03495617e+000 1.03273204e+000\n",
      "  1.03020643e+000 1.02739768e+000 1.02432842e+000 1.02101915e+000\n",
      "  1.01751033e+000 1.01382769e+000 1.01001018e+000 1.00609269e+000\n",
      "  1.00211145e+000 9.98103827e-001 9.94113320e-001 9.90172114e-001\n",
      "  9.86311299e-001 9.82576188e-001 9.78982170e-001 9.75568464e-001\n",
      "  9.72354761e-001 9.69362906e-001 9.66611832e-001 9.64112793e-001\n",
      "  9.61890650e-001 9.59953021e-001 9.58306382e-001 9.56971579e-001\n",
      "  9.55948112e-001 9.55249991e-001 9.54880172e-001 9.54855723e-001\n",
      "  9.55172183e-001 9.55838544e-001 9.56856612e-001 9.58220502e-001\n",
      "  9.59931184e-001 9.61975792e-001 9.64352305e-001 9.67033823e-001\n",
      "  9.70003564e-001 9.73229433e-001 9.76689486e-001 9.80336559e-001\n",
      "  9.84134544e-001 9.88038851e-001 9.91997463e-001 9.95973133e-001\n",
      "  9.99908560e-001 1.00376452e+000 1.00750073e+000 1.01107734e+000\n",
      "  1.01447758e+000 1.01767666e+000 1.02065787e+000 1.02342286e+000\n",
      "  1.02596899e+000 1.02830916e+000 1.03044265e+000 1.03239099e+000\n",
      "  1.03415788e+000 1.03574385e+000 1.03716738e+000 1.03841457e+000\n",
      "  1.03947769e+000 1.04035585e+000 1.04102761e+000 1.04147441e+000\n",
      "  1.04168193e+000]\n",
      " [1.04440837e+000 1.04399981e+000 1.04327042e+000 1.04220224e+000\n",
      "  1.04078874e+000 1.03902289e+000 1.03690717e+000 1.03445043e+000\n",
      "  1.03166772e+000 1.02857980e+000 1.02521240e+000 1.02159241e+000\n",
      "  1.01775945e+000 1.01374648e+000 1.00959471e+000 1.00534377e+000\n",
      "  1.00103439e+000 9.96707916e-001 9.92408812e-001 9.88174734e-001\n",
      "  9.84041712e-001 9.80052093e-001 9.76230408e-001 9.72612297e-001\n",
      "  9.69221052e-001 9.66079413e-001 9.63206989e-001 9.60617904e-001\n",
      "  9.58332465e-001 9.56360778e-001 9.54711589e-001 9.53400752e-001\n",
      "  9.52432109e-001 9.51816799e-001 9.51559480e-001 9.51671779e-001\n",
      "  9.52152978e-001 9.53008629e-001 9.54239212e-001 9.55839584e-001\n",
      "  9.57806524e-001 9.60127301e-001 9.62792722e-001 9.65777622e-001\n",
      "  9.69059620e-001 9.72605310e-001 9.76384136e-001 9.80349417e-001\n",
      "  9.84458440e-001 9.88662417e-001 9.92907775e-001 9.97149111e-001\n",
      "  1.00133108e+000 1.00541012e+000 1.00934480e+000 1.01309738e+000\n",
      "  1.01664669e+000 1.01997149e+000 1.02305917e+000 1.02591120e+000\n",
      "  1.02852990e+000 1.03092844e+000 1.03311362e+000 1.03510447e+000\n",
      "  1.03690906e+000 1.03853172e+000 1.03998406e+000 1.04125696e+000\n",
      "  1.04234176e+000 1.04323091e+000 1.04390331e+000 1.04433785e+000\n",
      "  1.04451490e+000]\n",
      " [1.04858974e+000 1.04812788e+000 1.04731506e+000 1.04613286e+000\n",
      "  1.04457137e+000 1.04262408e+000 1.04029294e+000 1.03758698e+000\n",
      "  1.03452218e+000 1.03112096e+000 1.02741151e+000 1.02342548e+000\n",
      "  1.01920290e+000 1.01478256e+000 1.01020855e+000 1.00552517e+000\n",
      "  1.00077788e+000 9.96012669e-001 9.91276841e-001 9.86613902e-001\n",
      "  9.82065441e-001 9.77674335e-001 9.73473222e-001 9.69497673e-001\n",
      "  9.65775278e-001 9.62331183e-001 9.59187084e-001 9.56360396e-001\n",
      "  9.53869917e-001 9.51728536e-001 9.49947535e-001 9.48540668e-001\n",
      "  9.47515452e-001 9.46882104e-001 9.46647164e-001 9.46819575e-001\n",
      "  9.47401600e-001 9.48397144e-001 9.49806217e-001 9.51624312e-001\n",
      "  9.53845524e-001 9.56456878e-001 9.59444025e-001 9.62781913e-001\n",
      "  9.66443266e-001 9.70392100e-001 9.74590240e-001 9.78988776e-001\n",
      "  9.83537900e-001 9.88182961e-001 9.92865999e-001 9.97532881e-001\n",
      "  1.00212603e+000 1.00659574e+000 1.01089681e+000 1.01499013e+000\n",
      "  1.01884959e+000 1.02245459e+000 1.02579429e+000 1.02886963e+000\n",
      "  1.03168637e+000 1.03425847e+000 1.03659858e+000 1.03872519e+000\n",
      "  1.04065039e+000 1.04238201e+000 1.04392808e+000 1.04528319e+000\n",
      "  1.04643843e+000 1.04738194e+000 1.04809261e+000 1.04854720e+000\n",
      "  1.04872193e+000]\n",
      " [1.05675350e+000 1.05621159e+000 1.05525672e+000 1.05386716e+000\n",
      "  1.05202907e+000 1.04973500e+000 1.04698646e+000 1.04379355e+000\n",
      "  1.04017480e+000 1.03615660e+000 1.03177245e+000 1.02706133e+000\n",
      "  1.02206910e+000 1.01684370e+000 1.01143727e+000 1.00590340e+000\n",
      "  1.00029697e+000 9.94673394e-001 9.89088401e-001 9.83595140e-001\n",
      "  9.78244286e-001 9.73084796e-001 9.68158510e-001 9.63505515e-001\n",
      "  9.59159397e-001 9.55149721e-001 9.51501846e-001 9.48236909e-001\n",
      "  9.45374601e-001 9.42930408e-001 9.40917748e-001 9.39349942e-001\n",
      "  9.38236653e-001 9.37587768e-001 9.37410645e-001 9.37712590e-001\n",
      "  9.38496755e-001 9.39765384e-001 9.41517063e-001 9.43746014e-001\n",
      "  9.46442958e-001 9.49592219e-001 9.53173733e-001 9.57158680e-001\n",
      "  9.61512870e-001 9.66193870e-001 9.71153919e-001 9.76336631e-001\n",
      "  9.81681894e-001 9.87125139e-001 9.92599230e-001 9.98038974e-001\n",
      "  1.00337951e+000 1.00856273e+000 1.01353717e+000 1.01825991e+000\n",
      "  1.02270047e+000 1.02683803e+000 1.03066328e+000 1.03417863e+000\n",
      "  1.03739406e+000 1.04032686e+000 1.04299558e+000 1.04542114e+000\n",
      "  1.04761963e+000 1.04960185e+000 1.05137414e+000 1.05293204e+000\n",
      "  1.05426458e+000 1.05535489e+000 1.05617827e+000 1.05670629e+000\n",
      "  1.05690869e+000]\n",
      " [1.06719696e+000 1.06652781e+000 1.06535520e+000 1.06365264e+000\n",
      "  1.06140273e+000 1.05859734e+000 1.05523920e+000 1.05134186e+000\n",
      "  1.04692938e+000 1.04203566e+000 1.03670339e+000 1.03098246e+000\n",
      "  1.02492975e+000 1.01860606e+000 1.01207623e+000 1.00540717e+000\n",
      "  9.98667032e-001 9.91924238e-001 9.85246615e-001 9.78699321e-001\n",
      "  9.72344020e-001 9.66238495e-001 9.60433857e-001 9.54976531e-001\n",
      "  9.49906222e-001 9.45257127e-001 9.41058191e-001 9.37333517e-001\n",
      "  9.34103989e-001 9.31386530e-001 9.29195372e-001 9.27543178e-001\n",
      "  9.26439729e-001 9.25893655e-001 9.25911256e-001 9.26497414e-001\n",
      "  9.27653617e-001 9.29378977e-001 9.31668643e-001 9.34512996e-001\n",
      "  9.37897495e-001 9.41800926e-001 9.46195782e-001 9.51046032e-001\n",
      "  9.56308319e-001 9.61930696e-001 9.67854097e-001 9.74011474e-001\n",
      "  9.80330768e-001 9.86735842e-001 9.93148829e-001 9.99493784e-001\n",
      "  1.00569783e+000 1.01169562e+000 1.01743087e+000 1.02285838e+000\n",
      "  1.02794659e+000 1.03267681e+000 1.03704364e+000 1.04105421e+000\n",
      "  1.04472464e+000 1.04807788e+000 1.05113866e+000 1.05393145e+000\n",
      "  1.05647536e+000 1.05878214e+000 1.06085558e+000 1.06268827e+000\n",
      "  1.06426367e+000 1.06555700e+000 1.06653553e+000 1.06716175e+000\n",
      "  1.06739575e+000]\n",
      " [1.07631286e+000 1.07549674e+000 1.07408707e+000 1.07205334e+000\n",
      "  1.06937616e+000 1.06604809e+000 1.06207477e+000 1.05747489e+000\n",
      "  1.05227967e+000 1.04653187e+000 1.04028445e+000 1.03359885e+000\n",
      "  1.02654376e+000 1.01919281e+000 1.01162360e+000 1.00391592e+000\n",
      "  9.96150578e-001 9.88408101e-001 9.80767548e-001 9.73304613e-001\n",
      "  9.66090346e-001 9.59190258e-001 9.52662615e-001 9.46559068e-001\n",
      "  9.40923787e-001 9.35794229e-001 9.31201627e-001 9.27171644e-001\n",
      "  9.23725565e-001 9.20880440e-001 9.18650029e-001 9.17045596e-001\n",
      "  9.16075552e-001 9.15746300e-001 9.16061713e-001 9.17023382e-001\n",
      "  9.18629510e-001 9.20874985e-001 9.23750239e-001 9.27240394e-001\n",
      "  9.31324654e-001 9.35975036e-001 9.41156081e-001 9.46823541e-001\n",
      "  9.52924735e-001 9.59398063e-001 9.66174005e-001 9.73175465e-001\n",
      "  9.80320157e-001 9.87522472e-001 9.94696251e-001 1.00175831e+000\n",
      "  1.00863087e+000 1.01524533e+000 1.02154446e+000 1.02748443e+000\n",
      "  1.03303660e+000 1.03818736e+000 1.04293768e+000 1.04730146e+000\n",
      "  1.05130194e+000 1.05496825e+000 1.05833040e+000 1.06141578e+000\n",
      "  1.06424461e+000 1.06682741e+000 1.06916373e+000 1.07124056e+000\n",
      "  1.07303356e+000 1.07450844e+000 1.07562258e+000 1.07632807e+000\n",
      "  1.07657473e+000]\n",
      " [1.08203435e+000 1.08109407e+000 1.07949442e+000 1.07720255e+000\n",
      "  1.07419851e+000 1.07047637e+000 1.06604500e+000 1.06092797e+000\n",
      "  1.05516273e+000 1.04879938e+000 1.04189904e+000 1.03453198e+000\n",
      "  1.02677592e+000 1.01871388e+000 1.01043279e+000 1.00202169e+000\n",
      "  9.93570337e-001 9.85167768e-001 9.76900808e-001 9.68852243e-001\n",
      "  9.61099308e-001 9.53712569e-001 9.46754699e-001 9.40280564e-001\n",
      "  9.34336893e-001 9.28962879e-001 9.24190805e-001 9.20046812e-001\n",
      "  9.16551926e-001 9.13722580e-001 9.11571433e-001 9.10108028e-001\n",
      "  9.09338839e-001 9.09267752e-001 9.09895801e-001 9.11221148e-001\n",
      "  9.13238326e-001 9.15937912e-001 9.19305574e-001 9.23321195e-001\n",
      "  9.27958088e-001 9.33181955e-001 9.38950351e-001 9.45211828e-001\n",
      "  9.51906012e-001 9.58963549e-001 9.66307049e-001 9.73852090e-001\n",
      "  9.81509529e-001 9.89187935e-001 9.96796688e-001 1.00424956e+000\n",
      "  1.01146775e+000 1.01838336e+000 1.02494174e+000 1.03110340e+000\n",
      "  1.03684529e+000 1.04216056e+000 1.04705753e+000 1.05155727e+000\n",
      "  1.05568969e+000 1.05948929e+000 1.06298999e+000 1.06622089e+000\n",
      "  1.06920192e+000 1.07194119e+000 1.07443358e+000 1.07666000e+000\n",
      "  1.07858855e+000 1.08017642e+000 1.08137217e+000 1.08211912e+000\n",
      "  1.08235881e+000]\n",
      " [1.08432501e+000 1.08330181e+000 1.08158306e+000 1.07913501e+000\n",
      "  1.07593799e+000 1.07198764e+000 1.06729544e+000 1.06188842e+000\n",
      "  1.05580818e+000 1.04910948e+000 1.04185839e+000 1.03413035e+000\n",
      "  1.02600826e+000 1.01758045e+000 1.00893905e+000 1.00017825e+000\n",
      "  9.91392770e-001 9.82676285e-001 9.74119848e-001 9.65810023e-001\n",
      "  9.57827267e-001 9.50244734e-001 9.43127266e-001 9.36531261e-001\n",
      "  9.30504585e-001 9.25087102e-001 9.20311357e-001 9.16203380e-001\n",
      "  9.12783628e-001 9.10067659e-001 9.08066886e-001 9.06789169e-001\n",
      "  9.06239032e-001 9.06417976e-001 9.07324338e-001 9.08953144e-001\n",
      "  9.11295512e-001 9.14338156e-001 9.18062526e-001 9.22443942e-001\n",
      "  9.27450764e-001 9.33043481e-001 9.39174127e-001 9.45785688e-001\n",
      "  9.52812137e-001 9.60178675e-001 9.67802759e-001 9.75595522e-001\n",
      "  9.83464170e-001 9.91314771e-001 9.99055585e-001 1.00660070e+000\n",
      "  1.01387334e+000 1.02080907e+000 1.02735817e+000 1.03348725e+000\n",
      "  1.03918010e+000 1.04443722e+000 1.04927414e+000 1.05371857e+000\n",
      "  1.05780611e+000 1.06157543e+000 1.06506309e+000 1.06829886e+000\n",
      "  1.07130166e+000 1.07407690e+000 1.07661524e+000 1.07889237e+000\n",
      "  1.08087039e+000 1.08249996e+000 1.08372324e+000 1.08447741e+000\n",
      "  1.08469849e+000]\n",
      " [1.08377239e+000 1.08270646e+000 1.08093507e+000 1.07842466e+000\n",
      "  1.07515643e+000 1.07112739e+000 1.06635077e+000 1.06085559e+000\n",
      "  1.05468555e+000 1.04789744e+000 1.04055931e+000 1.03274846e+000\n",
      "  1.02454948e+000 1.01605241e+000 1.00735096e+000 9.98540902e-001\n",
      "  9.89718442e-001 9.80978652e-001 9.72413788e-001 9.64111432e-001\n",
      "  9.56152840e-001 9.48611713e-001 9.41553308e-001 9.35034204e-001\n",
      "  9.29102322e-001 9.23797407e-001 9.19151704e-001 9.15190758e-001\n",
      "  9.11934279e-001 9.09396866e-001 9.07588699e-001 9.06516092e-001\n",
      "  9.06181777e-001 9.06585130e-001 9.07722091e-001 9.09584959e-001\n",
      "  9.12161879e-001 9.15436285e-001 9.19386105e-001 9.23982930e-001\n",
      "  9.29191199e-001 9.34967399e-001 9.41259517e-001 9.48006637e-001\n",
      "  9.55139032e-001 9.62578632e-001 9.70240180e-001 9.78032935e-001\n",
      "  9.85863192e-001 9.93637289e-001 1.00126507e+000 1.00866353e+000\n",
      "  1.01576016e+000 1.02249596e+000 1.02882760e+000 1.03472878e+000\n",
      "  1.04019058e+000 1.04522071e+000 1.04984136e+000 1.05408591e+000\n",
      "  1.05799438e+000 1.06160840e+000 1.06496590e+000 1.06809648e+000\n",
      "  1.07101754e+000 1.07373186e+000 1.07622651e+000 1.07847316e+000\n",
      "  1.08042955e+000 1.08204205e+000 1.08324882e+000 1.08398351e+000\n",
      "  1.08417923e+000]\n",
      " [1.08081575e+000 1.07974308e+000 1.07797789e+000 1.07548786e+000\n",
      "  1.07225548e+000 1.06827902e+000 1.06357274e+000 1.05816633e+000\n",
      "  1.05210378e+000 1.04544168e+000 1.03824747e+000 1.03059742e+000\n",
      "  1.02257486e+000 1.01426833e+000 1.00576997e+000 9.97173961e-001\n",
      "  9.88574935e-001 9.80066407e-001 9.71739091e-001 9.63679068e-001\n",
      "  9.55966151e-001 9.48672668e-001 9.41862642e-001 9.35591517e-001\n",
      "  9.29906210e-001 9.24845546e-001 9.20440894e-001 9.16716920e-001\n",
      "  9.13692380e-001 9.11380822e-001 9.09791225e-001 9.08928505e-001\n",
      "  9.08793817e-001 9.09384735e-001 9.10695196e-001 9.12715276e-001\n",
      "  9.15430733e-001 9.18822448e-001 9.22865686e-001 9.27529322e-001\n",
      "  9.32775087e-001 9.38556870e-001 9.44820251e-001 9.51502250e-001\n",
      "  9.58531523e-001 9.65829007e-001 9.73309195e-001 9.80882032e-001\n",
      "  9.88455522e-001 9.95938839e-001 1.00324582e+000 1.01029851e+000\n",
      "  1.01703048e+000 1.02338949e+000 1.02933946e+000 1.03486143e+000\n",
      "  1.03995359e+000 1.04463011e+000 1.04891868e+000 1.05285693e+000\n",
      "  1.05648774e+000 1.05985414e+000 1.06299416e+000 1.06593633e+000\n",
      "  1.06869609e+000 1.07127368e+000 1.07365337e+000 1.07580402e+000\n",
      "  1.07768082e+000 1.07922797e+000 1.08038200e+000 1.08107554e+000\n",
      "  1.08124127e+000]\n",
      " [0.00000000e+000 0.00000000e+000 0.00000000e+000 0.00000000e+000\n",
      "  0.00000000e+000 0.00000000e+000 0.00000000e+000 0.00000000e+000\n",
      "  0.00000000e+000 0.00000000e+000 0.00000000e+000 0.00000000e+000\n",
      "  0.00000000e+000 0.00000000e+000 1.84149634e-315 0.00000000e+000\n",
      "  0.00000000e+000 0.00000000e+000 0.00000000e+000 0.00000000e+000\n",
      "  1.84149634e-315 1.84149634e-315 1.84149910e-315 3.34778882e-320\n",
      "  9.88131292e-324 1.84149941e-315 1.48406312e-316 2.07507571e-322\n",
      "  2.02566915e-322 1.03753786e-322 6.93670420e-310 6.93659204e-310\n",
      "  3.55332012e-320 4.44659081e-323 1.84149941e-315 1.48406668e-316\n",
      "  6.91691904e-323 2.02566915e-322 1.03753786e-322 6.93674487e-310\n",
      "  6.93659204e-310 1.84149634e-315 0.00000000e+000 0.00000000e+000\n",
      "  0.00000000e+000 0.00000000e+000 0.00000000e+000 0.00000000e+000\n",
      "  0.00000000e+000 0.00000000e+000 0.00000000e+000 0.00000000e+000\n",
      "  0.00000000e+000 0.00000000e+000 0.00000000e+000 0.00000000e+000\n",
      "  0.00000000e+000 0.00000000e+000 0.00000000e+000 0.00000000e+000\n",
      "  0.00000000e+000 0.00000000e+000 0.00000000e+000 0.00000000e+000\n",
      "  0.00000000e+000 0.00000000e+000 0.00000000e+000 0.00000000e+000\n",
      "  0.00000000e+000 0.00000000e+000 0.00000000e+000 0.00000000e+000\n",
      "  0.00000000e+000]]\n"
     ]
    }
   ],
   "source": [
    "ampl = get_sv_amplitude(numu_untuned, energy, bins,[1,1,1], doy)"
   ]
  },
  {
   "cell_type": "code",
   "execution_count": 29,
   "metadata": {},
   "outputs": [
    {
     "data": {
      "text/plain": [
       "array([1.08081575, 1.07974308, 1.07797789, 1.07548786, 1.07225548,\n",
       "       1.06827902, 1.06357274, 1.05816633, 1.05210378, 1.04544168,\n",
       "       1.03824747, 1.03059742, 1.02257486, 1.01426833, 1.00576997,\n",
       "       0.99717396, 0.98857493, 0.98006641, 0.97173909, 0.96367907,\n",
       "       0.95596615, 0.94867267, 0.94186264, 0.93559152, 0.92990621,\n",
       "       0.92484555, 0.92044089, 0.91671692, 0.91369238, 0.91138082,\n",
       "       0.90979122, 0.90892851, 0.90879382, 0.90938474, 0.9106952 ,\n",
       "       0.91271528, 0.91543073, 0.91882245, 0.92286569, 0.92752932,\n",
       "       0.93277509, 0.93855687, 0.94482025, 0.95150225, 0.95853152,\n",
       "       0.96582901, 0.97330919, 0.98088203, 0.98845552, 0.99593884,\n",
       "       1.00324582, 1.01029851, 1.01703048, 1.02338949, 1.02933946,\n",
       "       1.03486143, 1.03995359, 1.04463011, 1.04891868, 1.05285693,\n",
       "       1.05648774, 1.05985414, 1.06299416, 1.06593633, 1.06869609,\n",
       "       1.07127368, 1.07365337, 1.07580402, 1.07768082, 1.07922797,\n",
       "       1.080382  , 1.08107554, 1.08124127])"
      ]
     },
     "execution_count": 29,
     "metadata": {},
     "output_type": "execute_result"
    }
   ],
   "source": [
    "ampl[0][11]"
   ]
  },
  {
   "cell_type": "code",
   "execution_count": 13,
   "metadata": {},
   "outputs": [
    {
     "ename": "AxisError",
     "evalue": "axis 2 is out of bounds for array of dimension 2",
     "output_type": "error",
     "traceback": [
      "\u001b[0;31m---------------------------------------------------------------------------\u001b[0m",
      "\u001b[0;31mAxisError\u001b[0m                                 Traceback (most recent call last)",
      "\u001b[0;32m<ipython-input-13-7cfeac93b93a>\u001b[0m in \u001b[0;36m<module>\u001b[0;34m\u001b[0m\n\u001b[0;32m----> 1\u001b[0;31m \u001b[0mnp\u001b[0m\u001b[0;34m.\u001b[0m\u001b[0msum\u001b[0m\u001b[0;34m(\u001b[0m\u001b[0mnumu_untuned\u001b[0m\u001b[0;34m[\u001b[0m\u001b[0;36m0\u001b[0m\u001b[0;34m]\u001b[0m\u001b[0;34m[\u001b[0m\u001b[0;34m:\u001b[0m\u001b[0;34m]\u001b[0m\u001b[0;34m[\u001b[0m\u001b[0;36m12\u001b[0m\u001b[0;34m:\u001b[0m\u001b[0;36m17\u001b[0m\u001b[0;34m]\u001b[0m\u001b[0;34m,\u001b[0m\u001b[0maxis\u001b[0m\u001b[0;34m=\u001b[0m\u001b[0;36m2\u001b[0m\u001b[0;34m)\u001b[0m\u001b[0;34m.\u001b[0m\u001b[0mshape\u001b[0m\u001b[0;34m\u001b[0m\u001b[0;34m\u001b[0m\u001b[0m\n\u001b[0m",
      "\u001b[0;32m<__array_function__ internals>\u001b[0m in \u001b[0;36msum\u001b[0;34m(*args, **kwargs)\u001b[0m\n",
      "\u001b[0;32m~/software/venv3/lib/python3.6/site-packages/numpy/core/fromnumeric.py\u001b[0m in \u001b[0;36msum\u001b[0;34m(a, axis, dtype, out, keepdims, initial, where)\u001b[0m\n\u001b[1;32m   2180\u001b[0m \u001b[0;34m\u001b[0m\u001b[0m\n\u001b[1;32m   2181\u001b[0m     return _wrapreduction(a, np.add, 'sum', axis, dtype, out, keepdims=keepdims,\n\u001b[0;32m-> 2182\u001b[0;31m                           initial=initial, where=where)\n\u001b[0m\u001b[1;32m   2183\u001b[0m \u001b[0;34m\u001b[0m\u001b[0m\n\u001b[1;32m   2184\u001b[0m \u001b[0;34m\u001b[0m\u001b[0m\n",
      "\u001b[0;32m~/software/venv3/lib/python3.6/site-packages/numpy/core/fromnumeric.py\u001b[0m in \u001b[0;36m_wrapreduction\u001b[0;34m(obj, ufunc, method, axis, dtype, out, **kwargs)\u001b[0m\n\u001b[1;32m     88\u001b[0m                 \u001b[0;32mreturn\u001b[0m \u001b[0mreduction\u001b[0m\u001b[0;34m(\u001b[0m\u001b[0maxis\u001b[0m\u001b[0;34m=\u001b[0m\u001b[0maxis\u001b[0m\u001b[0;34m,\u001b[0m \u001b[0mout\u001b[0m\u001b[0;34m=\u001b[0m\u001b[0mout\u001b[0m\u001b[0;34m,\u001b[0m \u001b[0;34m**\u001b[0m\u001b[0mpasskwargs\u001b[0m\u001b[0;34m)\u001b[0m\u001b[0;34m\u001b[0m\u001b[0;34m\u001b[0m\u001b[0m\n\u001b[1;32m     89\u001b[0m \u001b[0;34m\u001b[0m\u001b[0m\n\u001b[0;32m---> 90\u001b[0;31m     \u001b[0;32mreturn\u001b[0m \u001b[0mufunc\u001b[0m\u001b[0;34m.\u001b[0m\u001b[0mreduce\u001b[0m\u001b[0;34m(\u001b[0m\u001b[0mobj\u001b[0m\u001b[0;34m,\u001b[0m \u001b[0maxis\u001b[0m\u001b[0;34m,\u001b[0m \u001b[0mdtype\u001b[0m\u001b[0;34m,\u001b[0m \u001b[0mout\u001b[0m\u001b[0;34m,\u001b[0m \u001b[0;34m**\u001b[0m\u001b[0mpasskwargs\u001b[0m\u001b[0;34m)\u001b[0m\u001b[0;34m\u001b[0m\u001b[0;34m\u001b[0m\u001b[0m\n\u001b[0m\u001b[1;32m     91\u001b[0m \u001b[0;34m\u001b[0m\u001b[0m\n\u001b[1;32m     92\u001b[0m \u001b[0;34m\u001b[0m\u001b[0m\n",
      "\u001b[0;31mAxisError\u001b[0m: axis 2 is out of bounds for array of dimension 2"
     ]
    }
   ],
   "source": [
    "np.sum(numu_untuned[0][:][12:17],axis=2).shape"
   ]
  },
  {
   "cell_type": "code",
   "execution_count": null,
   "metadata": {},
   "outputs": [],
   "source": []
  },
  {
   "cell_type": "code",
   "execution_count": null,
   "metadata": {},
   "outputs": [
    {
     "data": {
      "text/plain": [
       "(3, 73, 121)"
      ]
     },
     "execution_count": 43,
     "metadata": {},
     "output_type": "execute_result"
    }
   ],
   "source": [
    "numu_untuned.shape"
   ]
  },
  {
   "cell_type": "code",
   "execution_count": null,
   "metadata": {},
   "outputs": [
    {
     "data": {
      "text/plain": [
       "(5, 121)"
      ]
     },
     "execution_count": 48,
     "metadata": {},
     "output_type": "execute_result"
    }
   ],
   "source": [
    "numu_untuned[0][[12:17].shape"
   ]
  },
  {
   "cell_type": "code",
   "execution_count": null,
   "metadata": {},
   "outputs": [
    {
     "data": {
      "text/plain": [
       "(73, 5)"
      ]
     },
     "execution_count": 51,
     "metadata": {},
     "output_type": "execute_result"
    }
   ],
   "source": [
    "numu_untuned[0,:,12:17].shape"
   ]
  },
  {
   "cell_type": "code",
   "execution_count": null,
   "metadata": {},
   "outputs": [
    {
     "data": {
      "text/plain": [
       "(73,)"
      ]
     },
     "execution_count": 55,
     "metadata": {},
     "output_type": "execute_result"
    }
   ],
   "source": [
    "np.sum(numu_untuned[0,:,12:17],axis=1).shape"
   ]
  },
  {
   "cell_type": "code",
   "execution_count": null,
   "metadata": {},
   "outputs": [],
   "source": []
  }
 ],
 "metadata": {
  "kernelspec": {
   "display_name": "venv3",
   "language": "python",
   "name": "python3"
  },
  "language_info": {
   "codemirror_mode": {
    "name": "ipython",
    "version": 3
   },
   "file_extension": ".py",
   "mimetype": "text/x-python",
   "name": "python",
   "nbconvert_exporter": "python",
   "pygments_lexer": "ipython3",
   "version": "3.6.8"
  }
 },
 "nbformat": 4,
 "nbformat_minor": 2
}
