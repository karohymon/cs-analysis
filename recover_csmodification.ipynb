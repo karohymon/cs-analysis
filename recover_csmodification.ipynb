{
 "cells": [
  {
   "cell_type": "markdown",
   "metadata": {},
   "source": [
    "Recover working example of cross section tuning:"
   ]
  },
  {
   "cell_type": "code",
   "execution_count": 1,
   "metadata": {},
   "outputs": [],
   "source": [
    "import numpy as np\n",
    "import matplotlib.pyplot as plt\n",
    "import mceq_config as config\n",
    "from MCEq.core import MCEqRun\n",
    "import crflux.models as pm\n",
    "from MCEq.data import InteractionCrossSections\n",
    "\n",
    "import os\n",
    "os.chdir('/home/khymon/scripts/master/SeasonalVariationUnfolding/')\n",
    "import HelperFunctions as un\n",
    "os.chdir('/home/khymon/scripts/SeasonalVariationsMCEq/')"
   ]
  },
  {
   "cell_type": "code",
   "execution_count": 2,
   "metadata": {},
   "outputs": [
    {
     "name": "stdout",
     "output_type": "stream",
     "text": [
      "MCEqRun::set_interaction_model(): SIBYLL23C\n",
      "ParticleManager::_init_default_tracking(): Initializing default tracking categories (pi, K, mu)\n",
      "MCEqRun::set_density_model(): Setting density profile to MSIS00_IC ('SouthPole', 'January')\n",
      "MSIS00IceCubeCentered::set_theta(): latitude = -90.00 for zenith angle =  0.00\n",
      "MCEqRun::set_primary_model(): HillasGaisser2012 H3a\n",
      "MCEqRun::set_interaction_model(): SIBYLL23C\n",
      "ParticleManager::_init_default_tracking(): Initializing default tracking categories (pi, K, mu)\n",
      "MCEqRun::set_density_model(): Setting density profile to MSIS00_IC ('SouthPole', 'January')\n",
      "MSIS00IceCubeCentered::set_theta(): latitude = -90.00 for zenith angle =  0.00\n",
      "MCEqRun::set_primary_model(): HillasGaisser2012 H3a\n"
     ]
    }
   ],
   "source": [
    "#initialize mceq instances\n",
    "\n",
    "mceq = MCEqRun(\n",
    "    interaction_model=\"SIBYLL2.3c\",\n",
    "    theta_deg=0.0,\n",
    "    primary_model=(pm.HillasGaisser2012, \"H3a\"),\n",
    "    density_model = (('MSIS00_IC',('SouthPole','January')))\n",
    ")\n",
    "mceq_tune = MCEqRun(\n",
    "    interaction_model=\"SIBYLL2.3c\",\n",
    "    theta_deg=0.0,\n",
    "    primary_model=(pm.HillasGaisser2012, \"H3a\"),\n",
    "    density_model = (('MSIS00_IC',('SouthPole','January')))\n",
    ")"
   ]
  },
  {
   "cell_type": "code",
   "execution_count": 6,
   "metadata": {},
   "outputs": [],
   "source": [
    "# class for modifying cross section in MCEq\n",
    "# more functions can be defined as in example function mod1\n",
    "\n",
    "class ModIntCrossSections(InteractionCrossSections):\n",
    "    def __init__(self, mceq_hdf_db, interaction_model=\"SIBYLL2.3c\", modmod=0, scale_factor=0.025):\n",
    "        self.modmod = modmod  # Modification mode\n",
    "        self.scale_factor = scale_factor  # Default scaling factor\n",
    "        super().__init__(mceq_hdf_db, interaction_model)  # Call parent constructor\n",
    "\n",
    "    def mod1(self, scale_factor=None):\n",
    "        \"\"\" Pion modification above 200GeV - exp increase \"\"\"\n",
    "        if scale_factor is None:\n",
    "            scale_factor = self.scale_factor  # Use the default if not specified\n",
    "        e_range = self.energy_grid.c > 100.0\n",
    "        e0 = self.energy_grid.c[e_range][0]\n",
    "        print(f\"Applying mod1 with scaling factor: {scale_factor}, e0: {e0}\")\n",
    "        for p in [211]:  # Loop over particle types # modify pions\n",
    "            self.index_d[p][e_range] *= (self.energy_grid.c[e_range] / e0) ** scale_factor\n",
    "\n",
    "    def mod2(self, scale_factor=None):\n",
    "        \"\"\" Kaon modification above 200GeV - exp increase \"\"\"\n",
    "        if scale_factor is None:\n",
    "            scale_factor = self.scale_factor\n",
    "        e_range = self.energy_grid.c > 200.0\n",
    "        e0 = self.energy_grid.c[e_range][0]\n",
    "        print(f\"Applying mod2 with scaling factor: {scale_factor}, e0: {e0}\")\n",
    "        for p in [321]: # modify kaons\n",
    "            self.index_d[p][e_range] *= (self.energy_grid.c[e_range] / e0) ** scale_factor  # Different scaling logic\n",
    "    \n",
    "    def mod3(self, scale_factor=None):\n",
    "        \"\"\" Pion modification above 200GeV - constant off set \"\"\"\n",
    "        if scale_factor is None:\n",
    "            scale_factor = self.scale_factor\n",
    "        e_range = self.energy_grid.c > 200.0\n",
    "        e0 = self.energy_grid.c[e_range][0]\n",
    " \n",
    "        print(f\"Applying mod2 with scaling factor: {scale_factor}, e0: {e0}\")\n",
    "        for p in [211]: # modify kaons\n",
    "            self.index_d[p][e_range] *= (scale_factor)\n",
    "\n",
    "    def mod4(self, scale_factor=None):\n",
    "        \"\"\" Kaon modification above 200GeV - constant off set \"\"\"\n",
    "        if scale_factor is None:\n",
    "            scale_factor = self.scale_factor\n",
    "        e_range = self.energy_grid.c > 200.0\n",
    "        e0 = self.energy_grid.c[e_range][0]\n",
    " \n",
    "        print(f\"Applying mod2 with scaling factor: {scale_factor}, e0: {e0}\")\n",
    "        for p in [321]: # modify kaons\n",
    "            self.index_d[p][e_range] *= (scale_factor)\n",
    "\n",
    "    def load(self, interaction_model):\n",
    "        \"\"\" Load the interaction model and apply the modification function based on mode - add more in the same sty;e \"\"\"\n",
    "        super().load(interaction_model)\n",
    "        if self.modmod == 1:\n",
    "            self.mod1()\n",
    "        elif self.modmod == 2:\n",
    "            self.mod2()\n",
    "        elif self.modmod == 3:\n",
    "            self.mod3()\n",
    "        elif self.modmod == 4:\n",
    "            self.mod4()\n"
   ]
  },
  {
   "cell_type": "code",
   "execution_count": 14,
   "metadata": {},
   "outputs": [],
   "source": [
    "# class for modifying cross section in MCEq\n",
    "# more functions can be defined as in example function mod1 - try new class\n",
    "\n",
    "class ModIntCrossSections(InteractionCrossSections):\n",
    "    def __init__(self, mceq_hdf_db, interaction_model=\"SIBYLL2.3c\", scale_factor=[1.,1.2],threshold =1.e4, increase = 'const'): # first pion then kaon, incrase = const or exp\n",
    "        self.scale_factor = scale_factor  # Default scaling factor\n",
    "        self.threshold = threshold\n",
    "        self.increase = increase\n",
    "        super().__init__(mceq_hdf_db, interaction_model)  # Call parent constructor\n",
    "\n",
    "    def modify_cs(self, scale_factor=None,threshold =None, increase = None):\n",
    "        \"\"\" Kaon Pion modification abovethreshold - exp or const increase \"\"\"\n",
    "        if scale_factor is None:\n",
    "            scale_factor = self.scale_factor  # Use the default if not specified\n",
    "        if threshold is None:\n",
    "            threshold = self.threshold\n",
    "\n",
    "        e_range = self.energy_grid.c > threshold\n",
    "        e0 = self.energy_grid.c[e_range][0]\n",
    "        print(f\"Applying mod with scaling factor: {scale_factor}, threshold e0: {e0}\")\n",
    "\n",
    "        if increase == 'exp':\n",
    "            for p, sf in zip([211, 321], scale_factor):    # Loop over particle types # modify pions\n",
    "                self.index_d[p][e_range] *= (self.energy_grid.c[e_range] / e0) ** sf\n",
    "                \n",
    "\n",
    "        if self.increase == 'const':\n",
    "            print('im here')\n",
    "            for p, sf in zip([211, 321], scale_factor):    \n",
    "                self.index_d[p][e_range] *= (sf)\n",
    "                print('sf = ',sf)\n",
    "              \n",
    "\n",
    "       \n",
    "    def load(self, interaction_model):\n",
    "        \"\"\" Load the interaction model and apply the modification function \"\"\"\n",
    "        super().load(interaction_model)\n",
    "        self.modify_cs()\n",
    "       \n"
   ]
  },
  {
   "cell_type": "code",
   "execution_count": 4,
   "metadata": {},
   "outputs": [],
   "source": [
    "def runmceq(mceq_object,ptype,doys,angles): #create \n",
    "    '''\n",
    "        Calculation of MCEq\n",
    "\n",
    "        ptype: string (numu, nue or mu)\n",
    "        mceq_object: mceq object with or without modified settings. MSIS00 atmosphere is required\n",
    "        doys: list (int) of days in year from 1 to 366\n",
    "        angles: list (float), supported angles between 0 and 180\n",
    "    '''\n",
    "\n",
    "    mag = 0\n",
    "    flux = []#np.ndarray(shape=(len(angles),len(doys),121))\n",
    "\n",
    "    for sim_angle in angles: # for just one zenith band [ic79_Aeff[0]] - wrong zenith - just proof-of-cenpt\n",
    "        \n",
    "        mceq_object.set_theta_deg(sim_angle)\n",
    "\n",
    "        flux.append([])\n",
    "        for d in doys:\n",
    "            mceq_object.density_model.set_doy(d)\n",
    "            mceq_object.density_model.calculate_density_spline()\n",
    "            mceq_object._calculate_integration_path(int_grid=None, grid_var='X',force=True)\n",
    "            mceq_object.solve()\n",
    "            if ptype == 'numu':\n",
    "                flux[-1].append(mceq_object.get_solution('total_numu', mag) + mceq_object.get_solution('total_antinumu' ,mag))\n",
    "            elif ptype == 'nue':\n",
    "                flux[-1].append(mceq_object.get_solution('total_nue', mag) + mceq_object.get_solution('total_antinue' ,mag))\n",
    "            elif ptype == 'mu':\n",
    "                flux[-1].append(mceq_object.get_solution('total_mu+', mag) + mceq_object.get_solution('total_mu-' ,mag))\n",
    "            else:\n",
    "                print('particle type is not defined.')\n",
    "                exit()\n",
    "\n",
    "    return np.array(flux)"
   ]
  },
  {
   "cell_type": "code",
   "execution_count": 15,
   "metadata": {},
   "outputs": [
    {
     "ename": "TypeError",
     "evalue": "__init__() got an unexpected keyword argument 'modmod'",
     "output_type": "error",
     "traceback": [
      "\u001b[0;31m---------------------------------------------------------------------------\u001b[0m",
      "\u001b[0;31mTypeError\u001b[0m                                 Traceback (most recent call last)",
      "\u001b[0;32m<ipython-input-15-36792b30d85d>\u001b[0m in \u001b[0;36m<module>\u001b[0;34m\u001b[0m\n\u001b[1;32m      1\u001b[0m \u001b[0;31m# apply a modification\u001b[0m\u001b[0;34m\u001b[0m\u001b[0;34m\u001b[0m\u001b[0;34m\u001b[0m\u001b[0m\n\u001b[1;32m      2\u001b[0m \u001b[0;34m\u001b[0m\u001b[0m\n\u001b[0;32m----> 3\u001b[0;31m \u001b[0mmodcs4\u001b[0m \u001b[0;34m=\u001b[0m \u001b[0mModIntCrossSections\u001b[0m\u001b[0;34m(\u001b[0m\u001b[0mmceq\u001b[0m\u001b[0;34m.\u001b[0m\u001b[0m_mceq_db\u001b[0m\u001b[0;34m,\u001b[0m \u001b[0minteraction_model\u001b[0m\u001b[0;34m=\u001b[0m\u001b[0;34m\"SIBYLL2.3c\"\u001b[0m\u001b[0;34m,\u001b[0m \u001b[0mmodmod\u001b[0m\u001b[0;34m=\u001b[0m\u001b[0;36m4\u001b[0m\u001b[0;34m,\u001b[0m \u001b[0mscale_factor\u001b[0m\u001b[0;34m=\u001b[0m\u001b[0;36m1.3\u001b[0m\u001b[0;34m)\u001b[0m\u001b[0;34m\u001b[0m\u001b[0;34m\u001b[0m\u001b[0m\n\u001b[0m\u001b[1;32m      4\u001b[0m \u001b[0mmodcs4\u001b[0m\u001b[0;34m.\u001b[0m\u001b[0mload\u001b[0m\u001b[0;34m(\u001b[0m\u001b[0minteraction_model\u001b[0m\u001b[0;34m=\u001b[0m\u001b[0;34m\"SIBYLL2.3c\"\u001b[0m\u001b[0;34m)\u001b[0m\u001b[0;34m\u001b[0m\u001b[0;34m\u001b[0m\u001b[0m\n\u001b[1;32m      5\u001b[0m \u001b[0;34m\u001b[0m\u001b[0m\n",
      "\u001b[0;31mTypeError\u001b[0m: __init__() got an unexpected keyword argument 'modmod'"
     ]
    }
   ],
   "source": [
    "# apply a modification\n",
    "\n",
    "modcs4 = ModIntCrossSections(mceq._mceq_db, interaction_model=\"SIBYLL2.3c\", modmod=4, scale_factor=1.3)\n",
    "modcs4.load(interaction_model=\"SIBYLL2.3c\")\n",
    "\n",
    "mceq_tune._int_cs = modcs4 # add modification to cross section in mceq instance\n",
    "mceq_tune.set_interaction_model(\"SIBYLL2.3c\", force=True) # necessary to force cross section change\n",
    "\n",
    "\n",
    "#test if tuning is correct:\n",
    "print('ratio pion cross section tuned/untuned: ', modcs4.get_cs(211, mbarn=True)/InteractionCrossSections(mceq._mceq_db, interaction_model=\"SIBYLL2.3c\").get_cs(211, mbarn=True))\n",
    "print('ratio pion cross section tuned/untuned: ', modcs4.get_cs(321, mbarn=True)/InteractionCrossSections(mceq._mceq_db, interaction_model=\"SIBYLL2.3c\").get_cs(321, mbarn=True))"
   ]
  },
  {
   "cell_type": "code",
   "execution_count": 16,
   "metadata": {},
   "outputs": [
    {
     "name": "stdout",
     "output_type": "stream",
     "text": [
      "Applying mod with scaling factor: [1.0, 1.3], threshold e0: 11220.18454301964\n",
      "im here\n",
      "sf =  1.0\n",
      "sf =  1.3\n",
      "Applying mod with scaling factor: [1.0, 1.3], threshold e0: 11220.18454301964\n",
      "im here\n",
      "sf =  1.0\n",
      "sf =  1.3\n",
      "MCEqRun::set_interaction_model(): SIBYLL23C\n",
      "Applying mod with scaling factor: [1.0, 1.3], threshold e0: 11220.18454301964\n",
      "im here\n",
      "sf =  1.0\n",
      "sf =  1.3\n"
     ]
    },
    {
     "name": "stdout",
     "output_type": "stream",
     "text": [
      "MCEqRun::set_primary_model(): HillasGaisser2012 H3a\n",
      "ratio pion cross section tuned/untuned:  [nan nan nan nan nan nan nan nan  1.  1.  1.  1.  1.  1.  1.  1.  1.  1.\n",
      "  1.  1.  1.  1.  1.  1.  1.  1.  1.  1.  1.  1.  1.  1.  1.  1.  1.  1.\n",
      "  1.  1.  1.  1.  1.  1.  1.  1.  1.  1.  1.  1.  1.  1.  1.  1.  1.  1.\n",
      "  1.  1.  1.  1.  1.  1.  1.  1.  1.  1.  1.  1.  1.  1.  1.  1.  1.  1.\n",
      "  1.  1.  1.  1.  1.  1.  1.  1.  1.  1.  1.  1.  1.  1.  1.  1.  1.  1.\n",
      "  1.  1.  1.  1.  1.  1.  1.  1.  1.  1.  1.  1.  1.  1.  1.  1.  1.  1.\n",
      "  1.  1.  1.  1.  1.  1.  1.  1.  1.  1.  1.  1.  1.]\n",
      "ratio pion cross section tuned/untuned:  [nan nan nan nan nan nan nan nan 1.  1.  1.  1.  1.  1.  1.  1.  1.  1.\n",
      " 1.  1.  1.  1.  1.  1.  1.  1.  1.  1.  1.  1.  1.  1.  1.  1.  1.  1.\n",
      " 1.  1.  1.  1.  1.  1.  1.  1.  1.  1.  1.  1.  1.  1.  1.  1.3 1.3 1.3\n",
      " 1.3 1.3 1.3 1.3 1.3 1.3 1.3 1.3 1.3 1.3 1.3 1.3 1.3 1.3 1.3 1.3 1.3 1.3\n",
      " 1.3 1.3 1.3 1.3 1.3 1.3 1.3 1.3 1.3 1.3 1.3 1.3 1.3 1.3 1.3 1.3 1.3 1.3\n",
      " 1.3 1.3 1.3 1.3 1.3 1.3 1.3 1.3 1.3 1.3 1.3 1.3 1.3 1.3 1.3 1.3 1.3 1.3\n",
      " 1.3 1.3 1.3 1.3 1.3 1.3 1.3 1.3 1.3 1.3 1.3 1.3 1.3]\n"
     ]
    },
    {
     "name": "stderr",
     "output_type": "stream",
     "text": [
      "/home/khymon/software/venv3/lib/python3.6/site-packages/ipykernel_launcher.py:11: RuntimeWarning: invalid value encountered in true_divide\n",
      "  # This is added back by InteractiveShellApp.init_path()\n",
      "/home/khymon/software/venv3/lib/python3.6/site-packages/ipykernel_launcher.py:12: RuntimeWarning: invalid value encountered in true_divide\n",
      "  if sys.path[0] == '':\n"
     ]
    }
   ],
   "source": [
    "# apply a modification\n",
    "\n",
    "modcs = ModIntCrossSections(mceq._mceq_db, interaction_model=\"SIBYLL2.3c\", scale_factor=[1.,1.3],threshold=1.e4,increase='const')\n",
    "modcs.load(interaction_model=\"SIBYLL2.3c\")\n",
    "\n",
    "mceq_tune._int_cs = modcs # add modification to cross section in mceq instance\n",
    "mceq_tune.set_interaction_model(\"SIBYLL2.3c\", force=True) # necessary to force cross section change\n",
    "\n",
    "\n",
    "#test if tuning is correct:\n",
    "print('ratio pion cross section tuned/untuned: ', modcs.get_cs(211, mbarn=True)/InteractionCrossSections(mceq._mceq_db, interaction_model=\"SIBYLL2.3c\").get_cs(211, mbarn=True))\n",
    "print('ratio pion cross section tuned/untuned: ', modcs.get_cs(321, mbarn=True)/InteractionCrossSections(mceq._mceq_db, interaction_model=\"SIBYLL2.3c\").get_cs(321, mbarn=True))"
   ]
  },
  {
   "cell_type": "code",
   "execution_count": 6,
   "metadata": {},
   "outputs": [],
   "source": [
    "# definition of angles and days\n",
    "\n",
    "max_zenith = np.cos(np.deg2rad(100.)) # for testing purposes only\n",
    "min_zenith = np.cos(np.deg2rad(90.))\n",
    "angles_edges = np.arccos(np.linspace(min_zenith,max_zenith,3))*180./np.pi # edges theta\n",
    "angles = np.zeros(2)\n",
    "for i in range(len(angles)):\n",
    "    angles[i] = np.mean([angles_edges[i],angles_edges[i+1]])\n",
    "    # calculate bin midth for theta\n",
    "angles = np.round(angles,decimals=2)\n",
    "\n",
    "# take every 5th day for fast testing purposes\n",
    "doys = np.arange(1, 362, 180, dtype=int)\n"
   ]
  },
  {
   "cell_type": "code",
   "execution_count": 7,
   "metadata": {},
   "outputs": [
    {
     "name": "stdout",
     "output_type": "stream",
     "text": [
      "MSIS00IceCubeCentered::set_theta(): latitude = -80.00 for zenith angle = 95.00\n",
      "MSIS00IceCubeCentered::set_theta(): theta = 95.00 below horizon. using theta = 85.00\n"
     ]
    }
   ],
   "source": [
    "angles = np.array([95.])\n",
    "flux_untuned = runmceq(mceq,'numu',doys,angles)"
   ]
  },
  {
   "cell_type": "code",
   "execution_count": 8,
   "metadata": {},
   "outputs": [
    {
     "name": "stdout",
     "output_type": "stream",
     "text": [
      "MSIS00IceCubeCentered::set_theta(): latitude = -80.00 for zenith angle = 95.00\n",
      "MSIS00IceCubeCentered::set_theta(): theta = 95.00 below horizon. using theta = 85.00\n"
     ]
    }
   ],
   "source": [
    "flux_tuned = runmceq(mceq_tune,'numu',doys,angles)"
   ]
  },
  {
   "cell_type": "code",
   "execution_count": 9,
   "metadata": {},
   "outputs": [
    {
     "data": {
      "text/plain": [
       "array([[[1., 1., 1., 1., 1., 1., 1., 1., 1., 1., 1., 1., 1., 1., 1., 1.,\n",
       "         1., 1., 1., 1., 1., 1., 1., 1., 1., 1., 1., 1., 1., 1., 1., 1.,\n",
       "         1., 1., 1., 1., 1., 1., 1., 1., 1., 1., 1., 1., 1., 1., 1., 1.,\n",
       "         1., 1., 1., 1., 1., 1., 1., 1., 1., 1., 1., 1., 1., 1., 1., 1.,\n",
       "         1., 1., 1., 1., 1., 1., 1., 1., 1., 1., 1., 1., 1., 1., 1., 1.,\n",
       "         1., 1., 1., 1., 1., 1., 1., 1., 1., 1., 1., 1., 1., 1., 1., 1.,\n",
       "         1., 1., 1., 1., 1., 1., 1., 1., 1., 1., 1., 1., 1., 1., 1., 1.,\n",
       "         1., 1., 1., 1., 1., 1., 1., 1., 1.],\n",
       "        [1., 1., 1., 1., 1., 1., 1., 1., 1., 1., 1., 1., 1., 1., 1., 1.,\n",
       "         1., 1., 1., 1., 1., 1., 1., 1., 1., 1., 1., 1., 1., 1., 1., 1.,\n",
       "         1., 1., 1., 1., 1., 1., 1., 1., 1., 1., 1., 1., 1., 1., 1., 1.,\n",
       "         1., 1., 1., 1., 1., 1., 1., 1., 1., 1., 1., 1., 1., 1., 1., 1.,\n",
       "         1., 1., 1., 1., 1., 1., 1., 1., 1., 1., 1., 1., 1., 1., 1., 1.,\n",
       "         1., 1., 1., 1., 1., 1., 1., 1., 1., 1., 1., 1., 1., 1., 1., 1.,\n",
       "         1., 1., 1., 1., 1., 1., 1., 1., 1., 1., 1., 1., 1., 1., 1., 1.,\n",
       "         1., 1., 1., 1., 1., 1., 1., 1., 1.],\n",
       "        [1., 1., 1., 1., 1., 1., 1., 1., 1., 1., 1., 1., 1., 1., 1., 1.,\n",
       "         1., 1., 1., 1., 1., 1., 1., 1., 1., 1., 1., 1., 1., 1., 1., 1.,\n",
       "         1., 1., 1., 1., 1., 1., 1., 1., 1., 1., 1., 1., 1., 1., 1., 1.,\n",
       "         1., 1., 1., 1., 1., 1., 1., 1., 1., 1., 1., 1., 1., 1., 1., 1.,\n",
       "         1., 1., 1., 1., 1., 1., 1., 1., 1., 1., 1., 1., 1., 1., 1., 1.,\n",
       "         1., 1., 1., 1., 1., 1., 1., 1., 1., 1., 1., 1., 1., 1., 1., 1.,\n",
       "         1., 1., 1., 1., 1., 1., 1., 1., 1., 1., 1., 1., 1., 1., 1., 1.,\n",
       "         1., 1., 1., 1., 1., 1., 1., 1., 1.]]])"
      ]
     },
     "execution_count": 9,
     "metadata": {},
     "output_type": "execute_result"
    }
   ],
   "source": [
    "flux_tuned/flux_untuned"
   ]
  },
  {
   "cell_type": "code",
   "execution_count": null,
   "metadata": {},
   "outputs": [],
   "source": []
  }
 ],
 "metadata": {
  "kernelspec": {
   "display_name": "venv3",
   "language": "python",
   "name": "python3"
  },
  "language_info": {
   "codemirror_mode": {
    "name": "ipython",
    "version": 3
   },
   "file_extension": ".py",
   "mimetype": "text/x-python",
   "name": "python",
   "nbconvert_exporter": "python",
   "pygments_lexer": "ipython3",
   "version": "3.6.8"
  }
 },
 "nbformat": 4,
 "nbformat_minor": 2
}
