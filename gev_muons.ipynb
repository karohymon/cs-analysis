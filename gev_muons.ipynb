{
 "cells": [
  {
   "cell_type": "code",
   "execution_count": 1,
   "metadata": {},
   "outputs": [],
   "source": [
    "import numpy as np\n",
    "import crflux.models as pm"
   ]
  },
  {
   "cell_type": "code",
   "execution_count": 2,
   "metadata": {},
   "outputs": [],
   "source": [
    "path = '/data/user/khymon/cs-analysis/'\n",
    "flux = np.load(path + 'mu_0.5pion_1.0kaon_10000.0_const_SIBYLL2.3c_mceqflux.npy')"
   ]
  },
  {
   "cell_type": "code",
   "execution_count": 3,
   "metadata": {},
   "outputs": [
    {
     "data": {
      "text/plain": [
       "(3, 73, 121)"
      ]
     },
     "execution_count": 3,
     "metadata": {},
     "output_type": "execute_result"
    }
   ],
   "source": [
    "flux.shape"
   ]
  },
  {
   "cell_type": "code",
   "execution_count": 4,
   "metadata": {},
   "outputs": [
    {
     "data": {
      "text/plain": [
       "array([ 1.25348958e-03,  1.36779493e-03,  1.48167200e-03,  1.58671158e-03,\n",
       "        1.67995503e-03,  1.75754777e-03,  1.81403629e-03,  1.83905032e-03,\n",
       "        1.82824183e-03,  1.77381505e-03,  1.67238813e-03,  1.52453205e-03,\n",
       "        1.33911377e-03,  1.12879771e-03,  9.12706887e-04,  7.06667266e-04,\n",
       "        5.23504070e-04,  3.70154964e-04,  2.50853069e-04,  1.64679209e-04,\n",
       "        1.06053374e-04,  6.64708627e-05,  3.99620227e-05,  2.35290703e-05,\n",
       "        1.34543301e-05,  7.50971343e-06,  4.10033795e-06,  2.19669596e-06,\n",
       "        1.15626061e-06,  5.97796420e-07,  3.03752596e-07,  1.51905642e-07,\n",
       "        7.45441435e-08,  3.59527058e-08,  1.71136830e-08,  8.04919246e-09,\n",
       "        3.74729061e-09,  1.72866188e-09,  7.90675170e-10,  3.58805095e-10,\n",
       "        1.61729794e-10,  7.24644383e-11,  3.22719332e-11,  1.42967946e-11,\n",
       "        6.30470586e-12,  2.76861766e-12,  1.21014749e-12,  5.26594186e-13,\n",
       "        2.28255319e-13,  1.03109893e-13,  4.92957895e-14,  2.34564449e-14,\n",
       "        1.00363093e-14,  4.28696302e-15,  1.82495348e-15,  7.73745649e-16,\n",
       "        3.26707598e-16,  1.37373694e-16,  5.75391287e-17,  2.40056695e-17,\n",
       "        9.97073663e-18,  4.11860515e-18,  1.69199170e-18,  6.91607757e-19,\n",
       "        2.80978527e-19,  1.13653511e-19,  4.58093111e-20,  1.83694324e-20,\n",
       "        7.34315003e-21,  2.93628586e-21,  1.17667461e-21,  4.73442851e-22,\n",
       "        1.91679459e-22,  7.86326274e-23,  3.27717023e-23,  1.38969535e-23,\n",
       "        6.01123302e-24,  2.64975591e-24,  1.18960420e-24,  5.41770923e-25,\n",
       "        2.50813983e-25,  1.17687619e-25,  5.58035081e-26,  2.66933587e-26,\n",
       "        1.28370387e-26,  6.18993766e-27,  2.97602815e-27,  1.42457726e-27,\n",
       "        6.75942174e-28,  3.17860110e-28,  1.47830045e-28,  6.78734886e-29,\n",
       "        3.07260451e-29,  1.36957535e-29,  6.00218664e-30,  2.55321964e-30,\n",
       "        1.06043114e-30,  4.29553743e-31,  1.68508347e-31,  6.36641680e-32,\n",
       "        2.30303361e-32,  7.93865168e-33,  2.59024935e-33,  7.69421873e-34,\n",
       "        2.15020548e-34,  5.55700420e-35,  1.24793333e-35,  2.53304725e-36,\n",
       "        4.48603950e-37,  6.75675483e-38,  8.29135710e-39,  8.08275708e-40,\n",
       "        5.76069282e-41,  3.08538760e-42,  1.19549863e-43,  3.07099085e-45,\n",
       "        6.04509911e-47,  1.09384038e-48, -5.65533108e-49, -1.80265632e-50,\n",
       "       -4.89812299e-51])"
      ]
     },
     "execution_count": 4,
     "metadata": {},
     "output_type": "execute_result"
    }
   ],
   "source": [
    "flux[0][20]"
   ]
  },
  {
   "cell_type": "code",
   "execution_count": 5,
   "metadata": {},
   "outputs": [
    {
     "name": "stdout",
     "output_type": "stream",
     "text": [
      "MCEqRun::set_interaction_model(): SIBYLL23C\n",
      "ParticleManager::_init_default_tracking(): Initializing default tracking categories (pi, K, mu)\n",
      "MCEqRun::set_density_model(): Setting density profile to CORSIKA ('BK_USStd', None)\n",
      "MCEqRun::set_primary_model(): HillasGaisser2012 H3a\n"
     ]
    }
   ],
   "source": [
    "# mceq energy grid\n",
    "from MCEq.core import MCEqRun\n",
    "mceq = MCEqRun(\n",
    "            interaction_model=\"SIBYLL2.3c\",\n",
    "            theta_deg=0.0,\n",
    "            primary_model=(pm.HillasGaisser2012, \"H3a\"),\n",
    "        )\n",
    "\n",
    "energy = mceq.e_grid"
   ]
  },
  {
   "cell_type": "code",
   "execution_count": 6,
   "metadata": {},
   "outputs": [],
   "source": [
    "e_gev = energy[11:21]"
   ]
  },
  {
   "cell_type": "code",
   "execution_count": 24,
   "metadata": {},
   "outputs": [],
   "source": [
    "flux_year = np.mean(flux[0,:,11:21],axis=0)"
   ]
  },
  {
   "cell_type": "code",
   "execution_count": 29,
   "metadata": {},
   "outputs": [
    {
     "data": {
      "text/plain": [
       "array([0.0015039 , 0.00132066, 0.00111339, 0.00090066, 0.00069774,\n",
       "       0.00051714, 0.00036578, 0.000248  , 0.00016295, 0.00010504])"
      ]
     },
     "execution_count": 29,
     "metadata": {},
     "output_type": "execute_result"
    }
   ],
   "source": [
    "np.mean(flux[0,:,11:21],axis=0)"
   ]
  },
  {
   "cell_type": "code",
   "execution_count": 26,
   "metadata": {},
   "outputs": [],
   "source": [
    "sv = flux[1,:,11:21]/flux_year"
   ]
  },
  {
   "cell_type": "code",
   "execution_count": 27,
   "metadata": {},
   "outputs": [
    {
     "data": {
      "text/plain": [
       "(73, 10)"
      ]
     },
     "execution_count": 27,
     "metadata": {},
     "output_type": "execute_result"
    }
   ],
   "source": [
    "sv.shape"
   ]
  },
  {
   "cell_type": "code",
   "execution_count": 28,
   "metadata": {},
   "outputs": [
    {
     "data": {
      "text/plain": [
       "<matplotlib.collections.PathCollection at 0x7fb0829ccb00>"
      ]
     },
     "execution_count": 28,
     "metadata": {},
     "output_type": "execute_result"
    },
    {
     "data": {
      "image/png": "[encoded data removed]",
      "text/plain": [
       "<Figure size 432x288 with 1 Axes>"
      ]
     },
     "metadata": {
      "needs_background": "light"
     },
     "output_type": "display_data"
    }
   ],
   "source": [
    "# plot seasonal variation of GeV muon flux\n",
    "from utils.helpers import *\n",
    "import matplotlib.pyplot as plt\n",
    "doy = doys(5)\n",
    "\n",
    "plt.scatter(doy,sv[:,5])"
   ]
  },
  {
   "cell_type": "code",
   "execution_count": 34,
   "metadata": {},
   "outputs": [
    {
     "data": {
      "text/plain": [
       "0.0013639082548990646"
      ]
     },
     "execution_count": 34,
     "metadata": {},
     "output_type": "execute_result"
    }
   ],
   "source": [
    "flux[0,28,12]"
   ]
  },
  {
   "cell_type": "code",
   "execution_count": null,
   "metadata": {},
   "outputs": [],
   "source": []
  }
 ],
 "metadata": {
  "kernelspec": {
   "display_name": "venv3",
   "language": "python",
   "name": "python3"
  },
  "language_info": {
   "codemirror_mode": {
    "name": "ipython",
    "version": 3
   },
   "file_extension": ".py",
   "mimetype": "text/x-python",
   "name": "python",
   "nbconvert_exporter": "python",
   "pygments_lexer": "ipython3",
   "version": "3.6.8"
  }
 },
 "nbformat": 4,
 "nbformat_minor": 2
}
